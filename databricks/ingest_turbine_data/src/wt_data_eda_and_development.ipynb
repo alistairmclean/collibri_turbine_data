{
 "cells": [
  {
   "cell_type": "markdown",
   "metadata": {
    "application/vnd.databricks.v1+cell": {
     "cellMetadata": {},
     "inputWidgets": {},
     "nuid": "0014f7e0-d75a-425d-94c6-d3ff8797c426",
     "showTitle": false,
     "tableResultSettingsMap": {},
     "title": ""
    }
   },
   "source": [
    "# Explanation\n",
    "\n",
    "This notebook is split into 3 sections:\n",
    "## EDA\n",
    "I loaded all the data into a table in my labs area in Unity in our set up and did some EDA on the data to understand it\\'s features.\n",
    "## Pipeline\n",
    "These are the cells that form the pipeline. This section would be extracted into a separate ingestion notebook and run as a notebook task from Databricks Workflows/Jobs. \n",
    "\n",
    "I would deploy this using DAB, which would define the pipeline and the job cluster which would be set to autoscale. With some refactoring, the pipeline could alternatively be changed into an SQL task and run on a DW. \n",
    "\n",
    "## Additional Tests\n",
    "I did some additional tests/sanity checks to ensure that imputation worked for missing values. The mechanism to impute any missing values and label any anomalies is in a function and so can be tested with test data and expected values."
   ]
  },
  {
   "cell_type": "markdown",
   "metadata": {
    "application/vnd.databricks.v1+cell": {
     "cellMetadata": {},
     "inputWidgets": {},
     "nuid": "1ff2cdfd-7cbd-448f-a344-3f6118203933",
     "showTitle": false,
     "tableResultSettingsMap": {},
     "title": ""
    }
   },
   "source": [
    "# EDA"
   ]
  },
  {
   "cell_type": "code",
   "execution_count": null,
   "metadata": {
    "application/vnd.databricks.v1+cell": {
     "cellMetadata": {
      "byteLimit": 2048000,
      "rowLimit": 10000
     },
     "inputWidgets": {},
     "nuid": "5a722c27-7aab-4230-85b8-db1a6a3d17a9",
     "showTitle": false,
     "tableResultSettingsMap": {},
     "title": ""
    }
   },
   "outputs": [],
   "source": [
    "from pyspark.sql.functions import *\n"
   ]
  },
  {
   "cell_type": "code",
   "execution_count": null,
   "metadata": {
    "application/vnd.databricks.v1+cell": {
     "cellMetadata": {
      "byteLimit": 2048000,
      "rowLimit": 10000
     },
     "inputWidgets": {},
     "nuid": "2828dd42-eddc-4ede-b840-ccf02285a2fb",
     "showTitle": false,
     "tableResultSettingsMap": {},
     "title": ""
    }
   },
   "outputs": [
    {
     "data": {
      "text/html": [
       "<style scoped>\n",
       "  .table-result-container {\n",
       "    max-height: 300px;\n",
       "    overflow: auto;\n",
       "  }\n",
       "  table, th, td {\n",
       "    border: 1px solid black;\n",
       "    border-collapse: collapse;\n",
       "  }\n",
       "  th, td {\n",
       "    padding: 5px;\n",
       "  }\n",
       "  th {\n",
       "    text-align: left;\n",
       "  }\n",
       "</style><div class='table-result-container'><table class='table-result'><thead style='background-color: white'><tr><th>timestamp</th><th>turbine_id</th><th>wind_speed</th><th>wind_direction</th><th>power_output</th></tr></thead><tbody><tr><td>2022-03-01T00:00:00Z</td><td>6</td><td>15.0</td><td>112</td><td>4.2</td></tr><tr><td>2022-03-01T00:00:00Z</td><td>7</td><td>10.8</td><td>308</td><td>3.9</td></tr><tr><td>2022-03-01T00:00:00Z</td><td>8</td><td>12.6</td><td>201</td><td>2.9</td></tr><tr><td>2022-03-01T00:00:00Z</td><td>9</td><td>9.5</td><td>8</td><td>3.2</td></tr><tr><td>2022-03-01T00:00:00Z</td><td>10</td><td>10.7</td><td>44</td><td>3.4</td></tr><tr><td>2022-03-01T01:00:00Z</td><td>6</td><td>14.4</td><td>213</td><td>3.5</td></tr><tr><td>2022-03-01T01:00:00Z</td><td>7</td><td>14.8</td><td>246</td><td>4.5</td></tr><tr><td>2022-03-01T01:00:00Z</td><td>8</td><td>11.4</td><td>289</td><td>3.2</td></tr><tr><td>2022-03-01T01:00:00Z</td><td>9</td><td>13.1</td><td>0</td><td>1.6</td></tr><tr><td>2022-03-01T01:00:00Z</td><td>10</td><td>14.5</td><td>337</td><td>3.3</td></tr></tbody></table></div>"
      ]
     },
     "metadata": {
      "application/vnd.databricks.v1+output": {
       "addedWidgets": {},
       "aggData": [],
       "aggError": "",
       "aggOverflow": false,
       "aggSchema": [],
       "aggSeriesLimitReached": false,
       "aggType": "",
       "arguments": {},
       "columnCustomDisplayInfos": {},
       "data": [
        [
         "2022-03-01T00:00:00Z",
         6,
         15,
         112,
         4.2
        ],
        [
         "2022-03-01T00:00:00Z",
         7,
         10.8,
         308,
         3.9
        ],
        [
         "2022-03-01T00:00:00Z",
         8,
         12.6,
         201,
         2.9
        ],
        [
         "2022-03-01T00:00:00Z",
         9,
         9.5,
         8,
         3.2
        ],
        [
         "2022-03-01T00:00:00Z",
         10,
         10.7,
         44,
         3.4
        ],
        [
         "2022-03-01T01:00:00Z",
         6,
         14.4,
         213,
         3.5
        ],
        [
         "2022-03-01T01:00:00Z",
         7,
         14.8,
         246,
         4.5
        ],
        [
         "2022-03-01T01:00:00Z",
         8,
         11.4,
         289,
         3.2
        ],
        [
         "2022-03-01T01:00:00Z",
         9,
         13.1,
         0,
         1.6
        ],
        [
         "2022-03-01T01:00:00Z",
         10,
         14.5,
         337,
         3.3
        ]
       ],
       "datasetInfos": [],
       "dbfsResultPath": null,
       "isJsonSchema": true,
       "metadata": {},
       "overflow": false,
       "plotOptions": {
        "customPlotOptions": {},
        "displayType": "table",
        "pivotAggregation": null,
        "pivotColumns": null,
        "xColumns": null,
        "yColumns": null
       },
       "removedWidgets": [],
       "schema": [
        {
         "metadata": "{}",
         "name": "timestamp",
         "type": "\"timestamp\""
        },
        {
         "metadata": "{}",
         "name": "turbine_id",
         "type": "\"long\""
        },
        {
         "metadata": "{}",
         "name": "wind_speed",
         "type": "\"double\""
        },
        {
         "metadata": "{}",
         "name": "wind_direction",
         "type": "\"long\""
        },
        {
         "metadata": "{}",
         "name": "power_output",
         "type": "\"double\""
        }
       ],
       "type": "table"
      }
     },
     "output_type": "display_data"
    }
   ],
   "source": [
    "# I just loaded the data into a table for easy access for EDA\n",
    "wt_df = spark.table(\"dev_labs.lab_alistair_mclean.wt_data\")\n",
    "wt_df.limit(10).display()"
   ]
  },
  {
   "cell_type": "code",
   "execution_count": null,
   "metadata": {
    "application/vnd.databricks.v1+cell": {
     "cellMetadata": {
      "byteLimit": 2048000,
      "rowLimit": 10000
     },
     "inputWidgets": {},
     "nuid": "ec45f73d-33da-40b5-908f-8c95ee8a800a",
     "showTitle": false,
     "tableResultSettingsMap": {},
     "title": ""
    }
   },
   "outputs": [
    {
     "data": {
      "text/html": [
       "<div>\n",
       "<style scoped>\n",
       "    .dataframe tbody tr th:only-of-type {\n",
       "        vertical-align: middle;\n",
       "    }\n",
       "\n",
       "    .dataframe tbody tr th {\n",
       "        vertical-align: top;\n",
       "    }\n",
       "\n",
       "    .dataframe thead th {\n",
       "        text-align: right;\n",
       "    }\n",
       "</style>\n",
       "<table border=\"1\" class=\"dataframe\">\n",
       "  <thead>\n",
       "    <tr style=\"text-align: right;\">\n",
       "      <th></th>\n",
       "      <th>turbine_id</th>\n",
       "      <th>wind_speed</th>\n",
       "      <th>wind_direction</th>\n",
       "      <th>power_output</th>\n",
       "    </tr>\n",
       "  </thead>\n",
       "  <tbody>\n",
       "    <tr>\n",
       "      <th>count</th>\n",
       "      <td>11160.000000</td>\n",
       "      <td>11160.000000</td>\n",
       "      <td>11160.000000</td>\n",
       "      <td>11159.000000</td>\n",
       "    </tr>\n",
       "    <tr>\n",
       "      <th>mean</th>\n",
       "      <td>8.000000</td>\n",
       "      <td>12.002724</td>\n",
       "      <td>179.903943</td>\n",
       "      <td>3.001972</td>\n",
       "    </tr>\n",
       "    <tr>\n",
       "      <th>std</th>\n",
       "      <td>4.320687</td>\n",
       "      <td>1.735366</td>\n",
       "      <td>103.353513</td>\n",
       "      <td>0.869857</td>\n",
       "    </tr>\n",
       "    <tr>\n",
       "      <th>min</th>\n",
       "      <td>1.000000</td>\n",
       "      <td>9.000000</td>\n",
       "      <td>0.000000</td>\n",
       "      <td>1.500000</td>\n",
       "    </tr>\n",
       "    <tr>\n",
       "      <th>25%</th>\n",
       "      <td>4.000000</td>\n",
       "      <td>10.500000</td>\n",
       "      <td>91.000000</td>\n",
       "      <td>2.250000</td>\n",
       "    </tr>\n",
       "    <tr>\n",
       "      <th>50%</th>\n",
       "      <td>8.000000</td>\n",
       "      <td>12.000000</td>\n",
       "      <td>180.000000</td>\n",
       "      <td>3.000000</td>\n",
       "    </tr>\n",
       "    <tr>\n",
       "      <th>75%</th>\n",
       "      <td>12.000000</td>\n",
       "      <td>13.500000</td>\n",
       "      <td>269.000000</td>\n",
       "      <td>3.800000</td>\n",
       "    </tr>\n",
       "    <tr>\n",
       "      <th>max</th>\n",
       "      <td>15.000000</td>\n",
       "      <td>15.000000</td>\n",
       "      <td>359.000000</td>\n",
       "      <td>4.500000</td>\n",
       "    </tr>\n",
       "  </tbody>\n",
       "</table>\n",
       "</div>"
      ],
      "text/plain": [
       "         turbine_id    wind_speed  wind_direction  power_output\n",
       "count  11160.000000  11160.000000    11160.000000  11159.000000\n",
       "mean       8.000000     12.002724      179.903943      3.001972\n",
       "std        4.320687      1.735366      103.353513      0.869857\n",
       "min        1.000000      9.000000        0.000000      1.500000\n",
       "25%        4.000000     10.500000       91.000000      2.250000\n",
       "50%        8.000000     12.000000      180.000000      3.000000\n",
       "75%       12.000000     13.500000      269.000000      3.800000\n",
       "max       15.000000     15.000000      359.000000      4.500000"
      ]
     },
     "execution_count": 2,
     "metadata": {},
     "output_type": "execute_result"
    }
   ],
   "source": [
    "wt_pd = wt_df.toPandas()\n",
    "wt_pd.describe()"
   ]
  },
  {
   "cell_type": "markdown",
   "metadata": {
    "application/vnd.databricks.v1+cell": {
     "cellMetadata": {},
     "inputWidgets": {},
     "nuid": "931ca6b5-b258-4f80-b2ce-1a5bada9d1d1",
     "showTitle": false,
     "tableResultSettingsMap": {},
     "title": ""
    }
   },
   "source": [
    "# get some basic summary stats for the given data"
   ]
  },
  {
   "cell_type": "code",
   "execution_count": null,
   "metadata": {
    "application/vnd.databricks.v1+cell": {
     "cellMetadata": {
      "byteLimit": 2048000,
      "rowLimit": 10000
     },
     "inputWidgets": {},
     "nuid": "d096983e-41cb-4a68-aa47-bb9122ae2a5a",
     "showTitle": false,
     "tableResultSettingsMap": {},
     "title": ""
    }
   },
   "outputs": [
    {
     "data": {
      "text/html": [
       "<style scoped>\n",
       "  .table-result-container {\n",
       "    max-height: 300px;\n",
       "    overflow: auto;\n",
       "  }\n",
       "  table, th, td {\n",
       "    border: 1px solid black;\n",
       "    border-collapse: collapse;\n",
       "  }\n",
       "  th, td {\n",
       "    padding: 5px;\n",
       "  }\n",
       "  th {\n",
       "    text-align: left;\n",
       "  }\n",
       "</style><div class='table-result-container'><table class='table-result'><thead style='background-color: white'><tr><th>summary</th><th>turbine_id</th><th>wind_speed</th><th>wind_direction</th><th>power_output</th></tr></thead><tbody><tr><td>count</td><td>11160</td><td>11160</td><td>11160</td><td>11159</td></tr><tr><td>mean</td><td>8.0</td><td>12.002724014336922</td><td>179.90394265232976</td><td>3.0019715028228355</td></tr><tr><td>stddev</td><td>4.320687382459022</td><td>1.7353660714427142</td><td>103.35351302055335</td><td>0.8698571304534896</td></tr><tr><td>min</td><td>1</td><td>9.0</td><td>0</td><td>1.5</td></tr><tr><td>max</td><td>15</td><td>15.0</td><td>359</td><td>4.5</td></tr></tbody></table></div>"
      ]
     },
     "metadata": {
      "application/vnd.databricks.v1+output": {
       "addedWidgets": {},
       "aggData": [],
       "aggError": "",
       "aggOverflow": false,
       "aggSchema": [],
       "aggSeriesLimitReached": false,
       "aggType": "",
       "arguments": {},
       "columnCustomDisplayInfos": {},
       "data": [
        [
         "count",
         "11160",
         "11160",
         "11160",
         "11159"
        ],
        [
         "mean",
         "8.0",
         "12.002724014336922",
         "179.90394265232976",
         "3.0019715028228355"
        ],
        [
         "stddev",
         "4.320687382459022",
         "1.7353660714427142",
         "103.35351302055335",
         "0.8698571304534896"
        ],
        [
         "min",
         "1",
         "9.0",
         "0",
         "1.5"
        ],
        [
         "max",
         "15",
         "15.0",
         "359",
         "4.5"
        ]
       ],
       "datasetInfos": [],
       "dbfsResultPath": null,
       "isJsonSchema": true,
       "metadata": {},
       "overflow": false,
       "plotOptions": {
        "customPlotOptions": {},
        "displayType": "table",
        "pivotAggregation": null,
        "pivotColumns": null,
        "xColumns": null,
        "yColumns": null
       },
       "removedWidgets": [],
       "schema": [
        {
         "metadata": "{}",
         "name": "summary",
         "type": "\"string\""
        },
        {
         "metadata": "{}",
         "name": "turbine_id",
         "type": "\"string\""
        },
        {
         "metadata": "{}",
         "name": "wind_speed",
         "type": "\"string\""
        },
        {
         "metadata": "{}",
         "name": "wind_direction",
         "type": "\"string\""
        },
        {
         "metadata": "{}",
         "name": "power_output",
         "type": "\"string\""
        }
       ],
       "type": "table"
      }
     },
     "output_type": "display_data"
    }
   ],
   "source": [
    "wt_df.describe().display()"
   ]
  },
  {
   "cell_type": "markdown",
   "metadata": {
    "application/vnd.databricks.v1+cell": {
     "cellMetadata": {
      "byteLimit": 2048000,
      "rowLimit": 10000
     },
     "inputWidgets": {},
     "nuid": "57ebcf40-2538-4922-b24e-48bd23207943",
     "showTitle": false,
     "tableResultSettingsMap": {},
     "title": ""
    }
   },
   "source": [
    "## Any nulls"
   ]
  },
  {
   "cell_type": "code",
   "execution_count": null,
   "metadata": {
    "application/vnd.databricks.v1+cell": {
     "cellMetadata": {
      "byteLimit": 2048000,
      "rowLimit": 10000
     },
     "inputWidgets": {},
     "nuid": "ebb9affe-0930-49f4-b9bd-552971a5d1d4",
     "showTitle": false,
     "tableResultSettingsMap": {},
     "title": ""
    }
   },
   "outputs": [
    {
     "data": {
      "text/html": [
       "<style scoped>\n",
       "  .table-result-container {\n",
       "    max-height: 300px;\n",
       "    overflow: auto;\n",
       "  }\n",
       "  table, th, td {\n",
       "    border: 1px solid black;\n",
       "    border-collapse: collapse;\n",
       "  }\n",
       "  th, td {\n",
       "    padding: 5px;\n",
       "  }\n",
       "  th {\n",
       "    text-align: left;\n",
       "  }\n",
       "</style><div class='table-result-container'><table class='table-result'><thead style='background-color: white'><tr><th>turbine_id</th><th>wind_speed</th><th>wind_direction</th><th>power_output</th></tr></thead><tbody><tr><td>0</td><td>0</td><td>0</td><td>0</td></tr></tbody></table></div>"
      ]
     },
     "metadata": {
      "application/vnd.databricks.v1+output": {
       "addedWidgets": {},
       "aggData": [],
       "aggError": "",
       "aggOverflow": false,
       "aggSchema": [],
       "aggSeriesLimitReached": false,
       "aggType": "",
       "arguments": {},
       "columnCustomDisplayInfos": {},
       "data": [
        [
         0,
         0,
         0,
         0
        ]
       ],
       "datasetInfos": [],
       "dbfsResultPath": null,
       "isJsonSchema": true,
       "metadata": {},
       "overflow": false,
       "plotOptions": {
        "customPlotOptions": {},
        "displayType": "table",
        "pivotAggregation": null,
        "pivotColumns": null,
        "xColumns": null,
        "yColumns": null
       },
       "removedWidgets": [],
       "schema": [
        {
         "metadata": "{}",
         "name": "turbine_id",
         "type": "\"long\""
        },
        {
         "metadata": "{}",
         "name": "wind_speed",
         "type": "\"long\""
        },
        {
         "metadata": "{}",
         "name": "wind_direction",
         "type": "\"long\""
        },
        {
         "metadata": "{}",
         "name": "power_output",
         "type": "\"long\""
        }
       ],
       "type": "table"
      }
     },
     "output_type": "display_data"
    }
   ],
   "source": [
    "null_counts = wt_df.select([count(when(col(c).isNull() | isnan(c), c)).alias(c) for c in wt_df.columns if c != 'timestamp']).display()\n"
   ]
  },
  {
   "cell_type": "markdown",
   "metadata": {
    "application/vnd.databricks.v1+cell": {
     "cellMetadata": {
      "byteLimit": 2048000,
      "rowLimit": 10000
     },
     "inputWidgets": {},
     "nuid": "35ea00dc-975a-4de5-96f6-cb79e3f954cd",
     "showTitle": false,
     "tableResultSettingsMap": {},
     "title": ""
    }
   },
   "source": [
    "## Any duplicates?"
   ]
  },
  {
   "cell_type": "code",
   "execution_count": null,
   "metadata": {
    "application/vnd.databricks.v1+cell": {
     "cellMetadata": {
      "byteLimit": 2048000,
      "implicitDf": true,
      "rowLimit": 10000
     },
     "inputWidgets": {},
     "nuid": "608f8efb-ac3c-4033-bdfd-cac226a12284",
     "showTitle": false,
     "tableResultSettingsMap": {},
     "title": ""
    }
   },
   "outputs": [
    {
     "data": {
      "text/html": [
       "<style scoped>\n",
       "  .table-result-container {\n",
       "    max-height: 300px;\n",
       "    overflow: auto;\n",
       "  }\n",
       "  table, th, td {\n",
       "    border: 1px solid black;\n",
       "    border-collapse: collapse;\n",
       "  }\n",
       "  th, td {\n",
       "    padding: 5px;\n",
       "  }\n",
       "  th {\n",
       "    text-align: left;\n",
       "  }\n",
       "</style><div class='table-result-container'><table class='table-result'><thead style='background-color: white'><tr><th>count(1)</th></tr></thead><tbody></tbody></table></div>"
      ]
     },
     "metadata": {
      "application/vnd.databricks.v1+output": {
       "addedWidgets": {},
       "aggData": [],
       "aggError": "",
       "aggOverflow": false,
       "aggSchema": [],
       "aggSeriesLimitReached": false,
       "aggType": "",
       "arguments": {},
       "columnCustomDisplayInfos": {},
       "data": [],
       "datasetInfos": [
        {
         "name": "_sqldf",
         "schema": {
          "fields": [
           {
            "metadata": {
             "__autoGeneratedAlias": "true"
            },
            "name": "count(1)",
            "nullable": false,
            "type": "long"
           }
          ],
          "type": "struct"
         },
         "tableIdentifier": null,
         "typeStr": "pyspark.sql.connect.dataframe.DataFrame"
        }
       ],
       "dbfsResultPath": null,
       "isJsonSchema": true,
       "metadata": {
        "createTempViewForImplicitDf": true,
        "dataframeName": "_sqldf",
        "executionCount": 4
       },
       "overflow": false,
       "plotOptions": {
        "customPlotOptions": {},
        "displayType": "table",
        "pivotAggregation": null,
        "pivotColumns": null,
        "xColumns": null,
        "yColumns": null
       },
       "removedWidgets": [],
       "schema": [
        {
         "metadata": "{\"__autoGeneratedAlias\":\"true\"}",
         "name": "count(1)",
         "type": "\"long\""
        }
       ],
       "type": "table"
      }
     },
     "output_type": "display_data"
    }
   ],
   "source": [
    "%sql\n",
    "select count(*) from dev_labs.lab_alistair_mclean.wt_data\n",
    "group by timestamp, turbine_id\n",
    "having count(*) > 1"
   ]
  },
  {
   "cell_type": "markdown",
   "metadata": {
    "application/vnd.databricks.v1+cell": {
     "cellMetadata": {
      "byteLimit": 2048000,
      "rowLimit": 10000
     },
     "inputWidgets": {},
     "nuid": "beba9768-09d8-4c50-ac8d-9a14a91f1c60",
     "showTitle": false,
     "tableResultSettingsMap": {},
     "title": ""
    }
   },
   "source": [
    "## Any missing hours?"
   ]
  },
  {
   "cell_type": "code",
   "execution_count": null,
   "metadata": {
    "application/vnd.databricks.v1+cell": {
     "cellMetadata": {
      "byteLimit": 2048000,
      "implicitDf": true,
      "rowLimit": 10000
     },
     "inputWidgets": {},
     "nuid": "96ae7f76-cc2f-40fb-8476-6bafcdc75dda",
     "showTitle": false,
     "tableResultSettingsMap": {},
     "title": ""
    }
   },
   "outputs": [
    {
     "data": {
      "text/html": [
       "<style scoped>\n",
       "  .table-result-container {\n",
       "    max-height: 300px;\n",
       "    overflow: auto;\n",
       "  }\n",
       "  table, th, td {\n",
       "    border: 1px solid black;\n",
       "    border-collapse: collapse;\n",
       "  }\n",
       "  th, td {\n",
       "    padding: 5px;\n",
       "  }\n",
       "  th {\n",
       "    text-align: left;\n",
       "  }\n",
       "</style><div class='table-result-container'><table class='table-result'><thead style='background-color: white'><tr><th>timestamp</th><th>turbine_id</th><th>wind_speed</th><th>wind_direction</th><th>power_output</th><th>DATE_DIFF</th><th>max_date</th><th>comparison</th></tr></thead><tbody></tbody></table></div>"
      ]
     },
     "metadata": {
      "application/vnd.databricks.v1+output": {
       "addedWidgets": {},
       "aggData": [],
       "aggError": "",
       "aggOverflow": false,
       "aggSchema": [],
       "aggSeriesLimitReached": false,
       "aggType": "",
       "arguments": {},
       "columnCustomDisplayInfos": {},
       "data": [],
       "datasetInfos": [
        {
         "name": "_sqldf",
         "schema": {
          "fields": [
           {
            "metadata": {},
            "name": "timestamp",
            "nullable": true,
            "type": "timestamp"
           },
           {
            "metadata": {},
            "name": "turbine_id",
            "nullable": true,
            "type": "long"
           },
           {
            "metadata": {},
            "name": "wind_speed",
            "nullable": true,
            "type": "double"
           },
           {
            "metadata": {},
            "name": "wind_direction",
            "nullable": true,
            "type": "long"
           },
           {
            "metadata": {},
            "name": "power_output",
            "nullable": true,
            "type": "double"
           },
           {
            "metadata": {},
            "name": "DATE_DIFF",
            "nullable": true,
            "type": "interval day to second"
           },
           {
            "metadata": {},
            "name": "max_date",
            "nullable": true,
            "type": "timestamp"
           },
           {
            "metadata": {},
            "name": "comparison",
            "nullable": false,
            "type": "integer"
           }
          ],
          "type": "struct"
         },
         "tableIdentifier": null,
         "typeStr": "pyspark.sql.connect.dataframe.DataFrame"
        }
       ],
       "dbfsResultPath": null,
       "isJsonSchema": true,
       "metadata": {
        "createTempViewForImplicitDf": true,
        "dataframeName": "_sqldf",
        "executionCount": 5
       },
       "overflow": false,
       "plotOptions": {
        "customPlotOptions": {},
        "displayType": "table",
        "pivotAggregation": null,
        "pivotColumns": null,
        "xColumns": null,
        "yColumns": null
       },
       "removedWidgets": [],
       "schema": [
        {
         "metadata": "{}",
         "name": "timestamp",
         "type": "\"timestamp\""
        },
        {
         "metadata": "{}",
         "name": "turbine_id",
         "type": "\"long\""
        },
        {
         "metadata": "{}",
         "name": "wind_speed",
         "type": "\"double\""
        },
        {
         "metadata": "{}",
         "name": "wind_direction",
         "type": "\"long\""
        },
        {
         "metadata": "{}",
         "name": "power_output",
         "type": "\"double\""
        },
        {
         "metadata": "{}",
         "name": "DATE_DIFF",
         "type": "\"interval day to second\""
        },
        {
         "metadata": "{}",
         "name": "max_date",
         "type": "\"timestamp\""
        },
        {
         "metadata": "{}",
         "name": "comparison",
         "type": "\"integer\""
        }
       ],
       "type": "table"
      }
     },
     "output_type": "display_data"
    }
   ],
   "source": [
    "%sql\n",
    "select * from (\n",
    "select *, CASE WHEN CAST(DATE_DIFF AS INT) > 3600 THEN 1 ELSE 0 END as comparison \n",
    "from (\n",
    "  select *,\n",
    "    timestamp - LAG(timestamp, 1) OVER (partition by turbine_id ORDER by timestamp) AS DATE_DIFF, \n",
    "    MAX(timestamp) OVER (partition by turbine_id) AS max_date\n",
    "  from dev_labs.lab_alistair_mclean.wt_data\n",
    "  )\n",
    ")\n",
    "where comparison = 1\n",
    "order by turbine_id, timestamp"
   ]
  },
  {
   "cell_type": "markdown",
   "metadata": {
    "application/vnd.databricks.v1+cell": {
     "cellMetadata": {},
     "inputWidgets": {},
     "nuid": "04d62818-8a8a-49ae-b56a-39bd3672545c",
     "showTitle": false,
     "tableResultSettingsMap": {},
     "title": ""
    }
   },
   "source": [
    "# Pipeline for Ingestion\n",
    "\n",
    "The described scenario is that new data is appended to each file 1/day.\n",
    "A given time period is suggested (24 hours) for the summary stats but this could be a parameter. If the param was longer than 24 hours then the whole file would be needed, otherwise just the new data could be used.\n",
    "\n",
    "Although the EDA above shows there are no missing values, duplicates or nulls, the description does indicate this can happen. This evidence indicates this is rare and therefore we can impute any missing wind direction, speed, and power using the mean of those values for the particular turbine and time (over the day's worth of data). A better approximation would use historic data and could use seasonality and possibly a bias for the given day using the day's mean.\n",
    "\n",
    "For a v1, we'll assume 24 hours as a fixed time period, which means we can take the last day's worth of data when this job is run.\n",
    "\n",
    "The same input files are overwritten each day which means it doesn't make sense to use autoloader as it generally processes files once only. So we'll just reread the entire file each day and extract the previous day's data. "
   ]
  },
  {
   "cell_type": "markdown",
   "metadata": {
    "application/vnd.databricks.v1+cell": {
     "cellMetadata": {},
     "inputWidgets": {},
     "nuid": "64fdcc8f-3c2b-4f62-86f1-57a7a8567783",
     "showTitle": false,
     "tableResultSettingsMap": {},
     "title": ""
    }
   },
   "source": [
    "The following would be a run as a notebook task, perhaps scheduled on a daily basis to run at a certain time, or triggered using some orchestration system so that the data arrival is complete before execution.\n",
    "\n",
    "The steps are:\n",
    "1. load all the data into a dataframe and filter to keep only the latest data\n",
    "2. compute the stats and anomalies and do any imputation\n",
    "3. write the results in append mode as we are only doing 1 day of data each run\n",
    "   (if multiple runs are possible/day or for additional resilience we could use a merge op)"
   ]
  },
  {
   "cell_type": "code",
   "execution_count": null,
   "metadata": {
    "application/vnd.databricks.v1+cell": {
     "cellMetadata": {
      "byteLimit": 2048000,
      "rowLimit": 10000
     },
     "inputWidgets": {},
     "nuid": "0e20c3b1-dfb0-421c-ad05-8a2b4f2d320e",
     "showTitle": false,
     "tableResultSettingsMap": {},
     "title": ""
    }
   },
   "outputs": [
    {
     "data": {
      "text/html": [
       "<style scoped>\n",
       "  .table-result-container {\n",
       "    max-height: 300px;\n",
       "    overflow: auto;\n",
       "  }\n",
       "  table, th, td {\n",
       "    border: 1px solid black;\n",
       "    border-collapse: collapse;\n",
       "  }\n",
       "  th, td {\n",
       "    padding: 5px;\n",
       "  }\n",
       "  th {\n",
       "    text-align: left;\n",
       "  }\n",
       "</style><div class='table-result-container'><table class='table-result'><thead style='background-color: white'><tr><th>timestamp</th><th>turbine_id</th><th>wind_speed</th><th>wind_direction</th><th>power_output</th></tr></thead><tbody><tr><td>2022-03-31T00:00:00Z</td><td>11</td><td>12.5</td><td>71</td><td>2.4</td></tr><tr><td>2022-03-31T00:00:00Z</td><td>12</td><td>13.2</td><td>265</td><td>3.4</td></tr><tr><td>2022-03-31T00:00:00Z</td><td>13</td><td>11.0</td><td>168</td><td>2.3</td></tr><tr><td>2022-03-31T00:00:00Z</td><td>14</td><td>10.5</td><td>96</td><td>3.4</td></tr><tr><td>2022-03-31T00:00:00Z</td><td>15</td><td>13.7</td><td>180</td><td>4.2</td></tr><tr><td>2022-03-31T01:00:00Z</td><td>11</td><td>9.3</td><td>38</td><td>4.2</td></tr><tr><td>2022-03-31T01:00:00Z</td><td>12</td><td>14.8</td><td>74</td><td>2.5</td></tr><tr><td>2022-03-31T01:00:00Z</td><td>13</td><td>12.6</td><td>68</td><td>2.8</td></tr><tr><td>2022-03-31T01:00:00Z</td><td>14</td><td>12.6</td><td>171</td><td>3.4</td></tr><tr><td>2022-03-31T01:00:00Z</td><td>15</td><td>12.2</td><td>325</td><td>2.8</td></tr></tbody></table></div>"
      ]
     },
     "metadata": {
      "application/vnd.databricks.v1+output": {
       "addedWidgets": {},
       "aggData": [],
       "aggError": "",
       "aggOverflow": false,
       "aggSchema": [],
       "aggSeriesLimitReached": false,
       "aggType": "",
       "arguments": {},
       "columnCustomDisplayInfos": {},
       "data": [
        [
         "2022-03-31T00:00:00Z",
         11,
         12.5,
         71,
         2.4
        ],
        [
         "2022-03-31T00:00:00Z",
         12,
         13.2,
         265,
         3.4
        ],
        [
         "2022-03-31T00:00:00Z",
         13,
         11,
         168,
         2.3
        ],
        [
         "2022-03-31T00:00:00Z",
         14,
         10.5,
         96,
         3.4
        ],
        [
         "2022-03-31T00:00:00Z",
         15,
         13.7,
         180,
         4.2
        ],
        [
         "2022-03-31T01:00:00Z",
         11,
         9.3,
         38,
         4.2
        ],
        [
         "2022-03-31T01:00:00Z",
         12,
         14.8,
         74,
         2.5
        ],
        [
         "2022-03-31T01:00:00Z",
         13,
         12.6,
         68,
         2.8
        ],
        [
         "2022-03-31T01:00:00Z",
         14,
         12.6,
         171,
         3.4
        ],
        [
         "2022-03-31T01:00:00Z",
         15,
         12.2,
         325,
         2.8
        ]
       ],
       "datasetInfos": [],
       "dbfsResultPath": null,
       "isJsonSchema": true,
       "metadata": {},
       "overflow": false,
       "plotOptions": {
        "customPlotOptions": {},
        "displayType": "table",
        "pivotAggregation": null,
        "pivotColumns": null,
        "xColumns": null,
        "yColumns": null
       },
       "removedWidgets": [],
       "schema": [
        {
         "metadata": "{}",
         "name": "timestamp",
         "type": "\"timestamp\""
        },
        {
         "metadata": "{}",
         "name": "turbine_id",
         "type": "\"long\""
        },
        {
         "metadata": "{}",
         "name": "wind_speed",
         "type": "\"double\""
        },
        {
         "metadata": "{}",
         "name": "wind_direction",
         "type": "\"long\""
        },
        {
         "metadata": "{}",
         "name": "power_output",
         "type": "\"double\""
        }
       ],
       "type": "table"
      }
     },
     "output_type": "display_data"
    }
   ],
   "source": [
    "import datetime as dt\n",
    "# Let's test with the last day of the provided data\n",
    "#yesterday = (dt.datetime.now() - dt.timedelta(days=1)).strftime(\"%Y-%m-%d\")\n",
    "yesterday = (dt.datetime(2022, 4, 1) - dt.timedelta(days=1)).strftime(\"%Y-%m-%d\")\n",
    "\n",
    "wt_df_y = spark.table(\"dev_labs.lab_alistair_mclean.wt_data\").where(f\"cast(timestamp as date) = '{yesterday}'\")\n",
    "# use this when reading from source\n",
    "# wt_df = spark.csv(header=True, inferSchema=True, path=\"<path to files>/data_group*_.csv\").where(f\"cast(timestamp as date) = '{yesterday}'\")\n",
    "\n",
    "# remove when ready for prod\n",
    "wt_df_y.limit(10).display()"
   ]
  },
  {
   "cell_type": "markdown",
   "metadata": {
    "application/vnd.databricks.v1+cell": {
     "cellMetadata": {},
     "inputWidgets": {},
     "nuid": "59d2d60d-6dd4-4bb5-9e70-c7e393ebb332",
     "showTitle": false,
     "tableResultSettingsMap": {},
     "title": ""
    }
   },
   "source": [
    "### Compute the stats and anomalies for the day"
   ]
  },
  {
   "cell_type": "code",
   "execution_count": null,
   "metadata": {
    "application/vnd.databricks.v1+cell": {
     "cellMetadata": {
      "byteLimit": 2048000,
      "implicitDf": true,
      "rowLimit": 10000
     },
     "inputWidgets": {},
     "nuid": "7e05c526-4ef7-4115-bf34-8871f325a6dc",
     "showTitle": false,
     "tableResultSettingsMap": {},
     "title": ""
    }
   },
   "outputs": [],
   "source": [
    "def compute_stats(df : DataFrame) -> DataFrame:\n",
    "    return spark.sql(\"\"\"\n",
    "        select\n",
    "        * except(power_output),\n",
    "        case when isnull(power_output) then mean(power_output) over (partition by turbine_id) else power_output end as power_output,\n",
    "        min(power_output) over (partition by turbine_id) as min_power,\n",
    "        max(power_output) over (partition by turbine_id) as max_power,\n",
    "        mean(power_output) over (partition by turbine_id) as avg_power,\n",
    "        stddev(power_output) over (partition by turbine_id) as std_dev,\n",
    "        case\n",
    "            when\n",
    "            abs(power_output - mean(power_output) over (partition by turbine_id)) > 2.0\n",
    "            * stddev(power_output) over (partition by turbine_id)\n",
    "            then\n",
    "            true\n",
    "            else false\n",
    "        end as is_anomaly\n",
    "        from\n",
    "        wt\n",
    "        \"\"\")"
   ]
  },
  {
   "cell_type": "code",
   "execution_count": null,
   "metadata": {
    "application/vnd.databricks.v1+cell": {
     "cellMetadata": {
      "byteLimit": 2048000,
      "rowLimit": 10000
     },
     "inputWidgets": {},
     "nuid": "aa9dde36-b021-4982-aa2d-d4c3330cd1c9",
     "showTitle": false,
     "tableResultSettingsMap": {},
     "title": ""
    }
   },
   "outputs": [
    {
     "data": {
      "text/html": [
       "<style scoped>\n",
       "  .table-result-container {\n",
       "    max-height: 300px;\n",
       "    overflow: auto;\n",
       "  }\n",
       "  table, th, td {\n",
       "    border: 1px solid black;\n",
       "    border-collapse: collapse;\n",
       "  }\n",
       "  th, td {\n",
       "    padding: 5px;\n",
       "  }\n",
       "  th {\n",
       "    text-align: left;\n",
       "  }\n",
       "</style><div class='table-result-container'><table class='table-result'><thead style='background-color: white'><tr><th>timestamp</th><th>turbine_id</th><th>wind_speed</th><th>wind_direction</th><th>power_output</th><th>min_power</th><th>max_power</th><th>avg_power</th><th>std_dev</th><th>is_anomaly</th></tr></thead><tbody><tr><td>2022-03-31T01:00:00Z</td><td>1</td><td>10.7</td><td>238</td><td>2.6</td><td>1.6</td><td>4.3</td><td>2.958333333333334</td><td>0.7706105240068714</td><td>false</td></tr><tr><td>2022-03-31T02:00:00Z</td><td>1</td><td>15.0</td><td>295</td><td>4.0</td><td>1.6</td><td>4.3</td><td>2.958333333333334</td><td>0.7706105240068714</td><td>false</td></tr><tr><td>2022-03-31T03:00:00Z</td><td>1</td><td>11.3</td><td>214</td><td>3.3</td><td>1.6</td><td>4.3</td><td>2.958333333333334</td><td>0.7706105240068714</td><td>false</td></tr><tr><td>2022-03-31T04:00:00Z</td><td>1</td><td>9.8</td><td>312</td><td>2.5</td><td>1.6</td><td>4.3</td><td>2.958333333333334</td><td>0.7706105240068714</td><td>false</td></tr><tr><td>2022-03-31T05:00:00Z</td><td>1</td><td>13.0</td><td>232</td><td>2.1</td><td>1.6</td><td>4.3</td><td>2.958333333333334</td><td>0.7706105240068714</td><td>false</td></tr><tr><td>2022-03-31T06:00:00Z</td><td>1</td><td>10.5</td><td>304</td><td>3.0</td><td>1.6</td><td>4.3</td><td>2.958333333333334</td><td>0.7706105240068714</td><td>false</td></tr><tr><td>2022-03-31T07:00:00Z</td><td>1</td><td>9.1</td><td>305</td><td>2.8</td><td>1.6</td><td>4.3</td><td>2.958333333333334</td><td>0.7706105240068714</td><td>false</td></tr><tr><td>2022-03-31T08:00:00Z</td><td>1</td><td>14.7</td><td>131</td><td>3.2</td><td>1.6</td><td>4.3</td><td>2.958333333333334</td><td>0.7706105240068714</td><td>false</td></tr><tr><td>2022-03-31T09:00:00Z</td><td>1</td><td>9.1</td><td>242</td><td>3.1</td><td>1.6</td><td>4.3</td><td>2.958333333333334</td><td>0.7706105240068714</td><td>false</td></tr><tr><td>2022-03-31T10:00:00Z</td><td>1</td><td>10.2</td><td>279</td><td>2.2</td><td>1.6</td><td>4.3</td><td>2.958333333333334</td><td>0.7706105240068714</td><td>false</td></tr><tr><td>2022-03-31T11:00:00Z</td><td>1</td><td>10.0</td><td>281</td><td>3.1</td><td>1.6</td><td>4.3</td><td>2.958333333333334</td><td>0.7706105240068714</td><td>false</td></tr><tr><td>2022-03-31T12:00:00Z</td><td>1</td><td>9.2</td><td>289</td><td>3.9</td><td>1.6</td><td>4.3</td><td>2.958333333333334</td><td>0.7706105240068714</td><td>false</td></tr><tr><td>2022-03-31T13:00:00Z</td><td>1</td><td>14.9</td><td>105</td><td>1.8</td><td>1.6</td><td>4.3</td><td>2.958333333333334</td><td>0.7706105240068714</td><td>false</td></tr><tr><td>2022-03-31T14:00:00Z</td><td>1</td><td>14.7</td><td>26</td><td>1.6</td><td>1.6</td><td>4.3</td><td>2.958333333333334</td><td>0.7706105240068714</td><td>false</td></tr><tr><td>2022-03-31T15:00:00Z</td><td>1</td><td>12.7</td><td>261</td><td>2.5</td><td>1.6</td><td>4.3</td><td>2.958333333333334</td><td>0.7706105240068714</td><td>false</td></tr><tr><td>2022-03-31T16:00:00Z</td><td>1</td><td>12.0</td><td>316</td><td>3.7</td><td>1.6</td><td>4.3</td><td>2.958333333333334</td><td>0.7706105240068714</td><td>false</td></tr><tr><td>2022-03-31T17:00:00Z</td><td>1</td><td>12.0</td><td>331</td><td>3.7</td><td>1.6</td><td>4.3</td><td>2.958333333333334</td><td>0.7706105240068714</td><td>false</td></tr><tr><td>2022-03-31T18:00:00Z</td><td>1</td><td>13.7</td><td>77</td><td>4.3</td><td>1.6</td><td>4.3</td><td>2.958333333333334</td><td>0.7706105240068714</td><td>false</td></tr><tr><td>2022-03-31T19:00:00Z</td><td>1</td><td>9.4</td><td>75</td><td>1.9</td><td>1.6</td><td>4.3</td><td>2.958333333333334</td><td>0.7706105240068714</td><td>false</td></tr><tr><td>2022-03-31T20:00:00Z</td><td>1</td><td>14.6</td><td>254</td><td>4.1</td><td>1.6</td><td>4.3</td><td>2.958333333333334</td><td>0.7706105240068714</td><td>false</td></tr><tr><td>2022-03-31T21:00:00Z</td><td>1</td><td>11.4</td><td>172</td><td>2.4</td><td>1.6</td><td>4.3</td><td>2.958333333333334</td><td>0.7706105240068714</td><td>false</td></tr><tr><td>2022-03-31T22:00:00Z</td><td>1</td><td>11.1</td><td>168</td><td>3.0</td><td>1.6</td><td>4.3</td><td>2.958333333333334</td><td>0.7706105240068714</td><td>false</td></tr><tr><td>2022-03-31T23:00:00Z</td><td>1</td><td>13.7</td><td>51</td><td>3.7</td><td>1.6</td><td>4.3</td><td>2.958333333333334</td><td>0.7706105240068714</td><td>false</td></tr><tr><td>2022-03-31T00:00:00Z</td><td>1</td><td>14.7</td><td>186</td><td>2.5</td><td>1.6</td><td>4.3</td><td>2.958333333333334</td><td>0.7706105240068714</td><td>false</td></tr><tr><td>2022-03-31T00:00:00Z</td><td>2</td><td>11.2</td><td>68</td><td>2.8</td><td>1.6</td><td>4.4</td><td>3.229166666666666</td><td>0.712301332587408</td><td>false</td></tr><tr><td>2022-03-31T01:00:00Z</td><td>2</td><td>9.3</td><td>260</td><td>2.8</td><td>1.6</td><td>4.4</td><td>3.229166666666666</td><td>0.712301332587408</td><td>false</td></tr><tr><td>2022-03-31T02:00:00Z</td><td>2</td><td>9.3</td><td>179</td><td>2.5</td><td>1.6</td><td>4.4</td><td>3.229166666666666</td><td>0.712301332587408</td><td>false</td></tr><tr><td>2022-03-31T03:00:00Z</td><td>2</td><td>11.1</td><td>336</td><td>3.2</td><td>1.6</td><td>4.4</td><td>3.229166666666666</td><td>0.712301332587408</td><td>false</td></tr><tr><td>2022-03-31T04:00:00Z</td><td>2</td><td>12.6</td><td>170</td><td>3.2</td><td>1.6</td><td>4.4</td><td>3.229166666666666</td><td>0.712301332587408</td><td>false</td></tr><tr><td>2022-03-31T05:00:00Z</td><td>2</td><td>14.4</td><td>260</td><td>3.6</td><td>1.6</td><td>4.4</td><td>3.229166666666666</td><td>0.712301332587408</td><td>false</td></tr><tr><td>2022-03-31T06:00:00Z</td><td>2</td><td>11.2</td><td>183</td><td>4.4</td><td>1.6</td><td>4.4</td><td>3.229166666666666</td><td>0.712301332587408</td><td>false</td></tr><tr><td>2022-03-31T07:00:00Z</td><td>2</td><td>11.7</td><td>119</td><td>3.4</td><td>1.6</td><td>4.4</td><td>3.229166666666666</td><td>0.712301332587408</td><td>false</td></tr><tr><td>2022-03-31T08:00:00Z</td><td>2</td><td>9.5</td><td>227</td><td>1.6</td><td>1.6</td><td>4.4</td><td>3.229166666666666</td><td>0.712301332587408</td><td>true</td></tr><tr><td>2022-03-31T09:00:00Z</td><td>2</td><td>14.9</td><td>152</td><td>3.1</td><td>1.6</td><td>4.4</td><td>3.229166666666666</td><td>0.712301332587408</td><td>false</td></tr><tr><td>2022-03-31T10:00:00Z</td><td>2</td><td>10.3</td><td>191</td><td>3.9</td><td>1.6</td><td>4.4</td><td>3.229166666666666</td><td>0.712301332587408</td><td>false</td></tr><tr><td>2022-03-31T11:00:00Z</td><td>2</td><td>11.9</td><td>259</td><td>4.2</td><td>1.6</td><td>4.4</td><td>3.229166666666666</td><td>0.712301332587408</td><td>false</td></tr><tr><td>2022-03-31T12:00:00Z</td><td>2</td><td>14.5</td><td>285</td><td>3.0</td><td>1.6</td><td>4.4</td><td>3.229166666666666</td><td>0.712301332587408</td><td>false</td></tr><tr><td>2022-03-31T13:00:00Z</td><td>2</td><td>13.1</td><td>231</td><td>4.4</td><td>1.6</td><td>4.4</td><td>3.229166666666666</td><td>0.712301332587408</td><td>false</td></tr><tr><td>2022-03-31T14:00:00Z</td><td>2</td><td>12.8</td><td>178</td><td>3.7</td><td>1.6</td><td>4.4</td><td>3.229166666666666</td><td>0.712301332587408</td><td>false</td></tr><tr><td>2022-03-31T15:00:00Z</td><td>2</td><td>13.9</td><td>99</td><td>3.3</td><td>1.6</td><td>4.4</td><td>3.229166666666666</td><td>0.712301332587408</td><td>false</td></tr><tr><td>2022-03-31T16:00:00Z</td><td>2</td><td>11.3</td><td>79</td><td>2.0</td><td>1.6</td><td>4.4</td><td>3.229166666666666</td><td>0.712301332587408</td><td>false</td></tr><tr><td>2022-03-31T17:00:00Z</td><td>2</td><td>12.3</td><td>115</td><td>4.0</td><td>1.6</td><td>4.4</td><td>3.229166666666666</td><td>0.712301332587408</td><td>false</td></tr><tr><td>2022-03-31T18:00:00Z</td><td>2</td><td>14.6</td><td>171</td><td>2.5</td><td>1.6</td><td>4.4</td><td>3.229166666666666</td><td>0.712301332587408</td><td>false</td></tr><tr><td>2022-03-31T19:00:00Z</td><td>2</td><td>12.5</td><td>57</td><td>3.5</td><td>1.6</td><td>4.4</td><td>3.229166666666666</td><td>0.712301332587408</td><td>false</td></tr><tr><td>2022-03-31T20:00:00Z</td><td>2</td><td>14.3</td><td>323</td><td>3.8</td><td>1.6</td><td>4.4</td><td>3.229166666666666</td><td>0.712301332587408</td><td>false</td></tr><tr><td>2022-03-31T21:00:00Z</td><td>2</td><td>13.9</td><td>19</td><td>2.8</td><td>1.6</td><td>4.4</td><td>3.229166666666666</td><td>0.712301332587408</td><td>false</td></tr><tr><td>2022-03-31T22:00:00Z</td><td>2</td><td>9.7</td><td>25</td><td>3.1</td><td>1.6</td><td>4.4</td><td>3.229166666666666</td><td>0.712301332587408</td><td>false</td></tr><tr><td>2022-03-31T23:00:00Z</td><td>2</td><td>10.3</td><td>244</td><td>2.7</td><td>1.6</td><td>4.4</td><td>3.229166666666666</td><td>0.712301332587408</td><td>false</td></tr><tr><td>2022-03-31T00:00:00Z</td><td>3</td><td>14.7</td><td>242</td><td>2.1</td><td>1.5</td><td>4.3</td><td>2.8791666666666664</td><td>0.9623247064165559</td><td>false</td></tr><tr><td>2022-03-31T01:00:00Z</td><td>3</td><td>15.0</td><td>306</td><td>3.3</td><td>1.5</td><td>4.3</td><td>2.8791666666666664</td><td>0.9623247064165559</td><td>false</td></tr><tr><td>2022-03-31T02:00:00Z</td><td>3</td><td>10.7</td><td>106</td><td>3.6</td><td>1.5</td><td>4.3</td><td>2.8791666666666664</td><td>0.9623247064165559</td><td>false</td></tr><tr><td>2022-03-31T03:00:00Z</td><td>3</td><td>10.0</td><td>140</td><td>2.8</td><td>1.5</td><td>4.3</td><td>2.8791666666666664</td><td>0.9623247064165559</td><td>false</td></tr><tr><td>2022-03-31T04:00:00Z</td><td>3</td><td>12.1</td><td>34</td><td>3.4</td><td>1.5</td><td>4.3</td><td>2.8791666666666664</td><td>0.9623247064165559</td><td>false</td></tr><tr><td>2022-03-31T05:00:00Z</td><td>3</td><td>14.2</td><td>195</td><td>3.3</td><td>1.5</td><td>4.3</td><td>2.8791666666666664</td><td>0.9623247064165559</td><td>false</td></tr><tr><td>2022-03-31T06:00:00Z</td><td>3</td><td>9.5</td><td>349</td><td>4.1</td><td>1.5</td><td>4.3</td><td>2.8791666666666664</td><td>0.9623247064165559</td><td>false</td></tr><tr><td>2022-03-31T07:00:00Z</td><td>3</td><td>12.4</td><td>26</td><td>1.8</td><td>1.5</td><td>4.3</td><td>2.8791666666666664</td><td>0.9623247064165559</td><td>false</td></tr><tr><td>2022-03-31T08:00:00Z</td><td>3</td><td>9.7</td><td>236</td><td>3.8</td><td>1.5</td><td>4.3</td><td>2.8791666666666664</td><td>0.9623247064165559</td><td>false</td></tr><tr><td>2022-03-31T09:00:00Z</td><td>3</td><td>14.4</td><td>20</td><td>1.5</td><td>1.5</td><td>4.3</td><td>2.8791666666666664</td><td>0.9623247064165559</td><td>false</td></tr><tr><td>2022-03-31T10:00:00Z</td><td>3</td><td>9.0</td><td>312</td><td>4.0</td><td>1.5</td><td>4.3</td><td>2.8791666666666664</td><td>0.9623247064165559</td><td>false</td></tr><tr><td>2022-03-31T11:00:00Z</td><td>3</td><td>9.4</td><td>258</td><td>1.8</td><td>1.5</td><td>4.3</td><td>2.8791666666666664</td><td>0.9623247064165559</td><td>false</td></tr><tr><td>2022-03-31T12:00:00Z</td><td>3</td><td>10.7</td><td>111</td><td>2.4</td><td>1.5</td><td>4.3</td><td>2.8791666666666664</td><td>0.9623247064165559</td><td>false</td></tr><tr><td>2022-03-31T13:00:00Z</td><td>3</td><td>9.7</td><td>276</td><td>4.1</td><td>1.5</td><td>4.3</td><td>2.8791666666666664</td><td>0.9623247064165559</td><td>false</td></tr><tr><td>2022-03-31T14:00:00Z</td><td>3</td><td>10.5</td><td>156</td><td>3.7</td><td>1.5</td><td>4.3</td><td>2.8791666666666664</td><td>0.9623247064165559</td><td>false</td></tr><tr><td>2022-03-31T15:00:00Z</td><td>3</td><td>10.0</td><td>17</td><td>1.6</td><td>1.5</td><td>4.3</td><td>2.8791666666666664</td><td>0.9623247064165559</td><td>false</td></tr><tr><td>2022-03-31T16:00:00Z</td><td>3</td><td>12.6</td><td>108</td><td>3.0</td><td>1.5</td><td>4.3</td><td>2.8791666666666664</td><td>0.9623247064165559</td><td>false</td></tr><tr><td>2022-03-31T17:00:00Z</td><td>3</td><td>14.9</td><td>84</td><td>4.3</td><td>1.5</td><td>4.3</td><td>2.8791666666666664</td><td>0.9623247064165559</td><td>false</td></tr><tr><td>2022-03-31T18:00:00Z</td><td>3</td><td>14.2</td><td>125</td><td>2.3</td><td>1.5</td><td>4.3</td><td>2.8791666666666664</td><td>0.9623247064165559</td><td>false</td></tr><tr><td>2022-03-31T19:00:00Z</td><td>3</td><td>13.4</td><td>211</td><td>1.6</td><td>1.5</td><td>4.3</td><td>2.8791666666666664</td><td>0.9623247064165559</td><td>false</td></tr><tr><td>2022-03-31T20:00:00Z</td><td>3</td><td>13.0</td><td>281</td><td>1.6</td><td>1.5</td><td>4.3</td><td>2.8791666666666664</td><td>0.9623247064165559</td><td>false</td></tr><tr><td>2022-03-31T21:00:00Z</td><td>3</td><td>9.1</td><td>149</td><td>4.0</td><td>1.5</td><td>4.3</td><td>2.8791666666666664</td><td>0.9623247064165559</td><td>false</td></tr><tr><td>2022-03-31T22:00:00Z</td><td>3</td><td>12.7</td><td>97</td><td>3.0</td><td>1.5</td><td>4.3</td><td>2.8791666666666664</td><td>0.9623247064165559</td><td>false</td></tr><tr><td>2022-03-31T23:00:00Z</td><td>3</td><td>10.1</td><td>112</td><td>2.0</td><td>1.5</td><td>4.3</td><td>2.8791666666666664</td><td>0.9623247064165559</td><td>false</td></tr><tr><td>2022-03-31T00:00:00Z</td><td>4</td><td>9.6</td><td>39</td><td>3.2</td><td>1.7</td><td>4.4</td><td>3.033333333333333</td><td>0.8937788203521859</td><td>false</td></tr><tr><td>2022-03-31T01:00:00Z</td><td>4</td><td>10.4</td><td>42</td><td>1.8</td><td>1.7</td><td>4.4</td><td>3.033333333333333</td><td>0.8937788203521859</td><td>false</td></tr><tr><td>2022-03-31T02:00:00Z</td><td>4</td><td>13.9</td><td>262</td><td>2.2</td><td>1.7</td><td>4.4</td><td>3.033333333333333</td><td>0.8937788203521859</td><td>false</td></tr><tr><td>2022-03-31T03:00:00Z</td><td>4</td><td>11.3</td><td>237</td><td>2.0</td><td>1.7</td><td>4.4</td><td>3.033333333333333</td><td>0.8937788203521859</td><td>false</td></tr><tr><td>2022-03-31T04:00:00Z</td><td>4</td><td>11.5</td><td>144</td><td>4.1</td><td>1.7</td><td>4.4</td><td>3.033333333333333</td><td>0.8937788203521859</td><td>false</td></tr><tr><td>2022-03-31T05:00:00Z</td><td>4</td><td>14.8</td><td>154</td><td>2.1</td><td>1.7</td><td>4.4</td><td>3.033333333333333</td><td>0.8937788203521859</td><td>false</td></tr><tr><td>2022-03-31T06:00:00Z</td><td>4</td><td>9.8</td><td>130</td><td>2.7</td><td>1.7</td><td>4.4</td><td>3.033333333333333</td><td>0.8937788203521859</td><td>false</td></tr><tr><td>2022-03-31T07:00:00Z</td><td>4</td><td>13.5</td><td>46</td><td>1.7</td><td>1.7</td><td>4.4</td><td>3.033333333333333</td><td>0.8937788203521859</td><td>false</td></tr><tr><td>2022-03-31T08:00:00Z</td><td>4</td><td>12.9</td><td>190</td><td>4.2</td><td>1.7</td><td>4.4</td><td>3.033333333333333</td><td>0.8937788203521859</td><td>false</td></tr><tr><td>2022-03-31T09:00:00Z</td><td>4</td><td>9.3</td><td>230</td><td>3.9</td><td>1.7</td><td>4.4</td><td>3.033333333333333</td><td>0.8937788203521859</td><td>false</td></tr><tr><td>2022-03-31T10:00:00Z</td><td>4</td><td>11.7</td><td>127</td><td>4.4</td><td>1.7</td><td>4.4</td><td>3.033333333333333</td><td>0.8937788203521859</td><td>false</td></tr><tr><td>2022-03-31T11:00:00Z</td><td>4</td><td>13.1</td><td>92</td><td>3.8</td><td>1.7</td><td>4.4</td><td>3.033333333333333</td><td>0.8937788203521859</td><td>false</td></tr><tr><td>2022-03-31T12:00:00Z</td><td>4</td><td>9.4</td><td>348</td><td>2.9</td><td>1.7</td><td>4.4</td><td>3.033333333333333</td><td>0.8937788203521859</td><td>false</td></tr><tr><td>2022-03-31T13:00:00Z</td><td>4</td><td>9.1</td><td>280</td><td>1.9</td><td>1.7</td><td>4.4</td><td>3.033333333333333</td><td>0.8937788203521859</td><td>false</td></tr><tr><td>2022-03-31T14:00:00Z</td><td>4</td><td>10.4</td><td>207</td><td>2.5</td><td>1.7</td><td>4.4</td><td>3.033333333333333</td><td>0.8937788203521859</td><td>false</td></tr><tr><td>2022-03-31T15:00:00Z</td><td>4</td><td>12.6</td><td>161</td><td>3.9</td><td>1.7</td><td>4.4</td><td>3.033333333333333</td><td>0.8937788203521859</td><td>false</td></tr><tr><td>2022-03-31T16:00:00Z</td><td>4</td><td>11.4</td><td>148</td><td>4.0</td><td>1.7</td><td>4.4</td><td>3.033333333333333</td><td>0.8937788203521859</td><td>false</td></tr><tr><td>2022-03-31T17:00:00Z</td><td>4</td><td>12.6</td><td>75</td><td>2.6</td><td>1.7</td><td>4.4</td><td>3.033333333333333</td><td>0.8937788203521859</td><td>false</td></tr><tr><td>2022-03-31T18:00:00Z</td><td>4</td><td>10.9</td><td>237</td><td>4.4</td><td>1.7</td><td>4.4</td><td>3.033333333333333</td><td>0.8937788203521859</td><td>false</td></tr><tr><td>2022-03-31T19:00:00Z</td><td>4</td><td>12.0</td><td>163</td><td>3.7</td><td>1.7</td><td>4.4</td><td>3.033333333333333</td><td>0.8937788203521859</td><td>false</td></tr><tr><td>2022-03-31T20:00:00Z</td><td>4</td><td>11.9</td><td>231</td><td>3.2</td><td>1.7</td><td>4.4</td><td>3.033333333333333</td><td>0.8937788203521859</td><td>false</td></tr><tr><td>2022-03-31T21:00:00Z</td><td>4</td><td>11.2</td><td>238</td><td>2.4</td><td>1.7</td><td>4.4</td><td>3.033333333333333</td><td>0.8937788203521859</td><td>false</td></tr><tr><td>2022-03-31T22:00:00Z</td><td>4</td><td>12.8</td><td>290</td><td>2.5</td><td>1.7</td><td>4.4</td><td>3.033333333333333</td><td>0.8937788203521859</td><td>false</td></tr><tr><td>2022-03-31T23:00:00Z</td><td>4</td><td>10.1</td><td>43</td><td>2.7</td><td>1.7</td><td>4.4</td><td>3.033333333333333</td><td>0.8937788203521859</td><td>false</td></tr><tr><td>2022-03-31T00:00:00Z</td><td>5</td><td>10.4</td><td>218</td><td>2.6</td><td>1.5</td><td>4.2</td><td>2.9375000000000004</td><td>0.8641721346241557</td><td>false</td></tr><tr><td>2022-03-31T01:00:00Z</td><td>5</td><td>12.5</td><td>88</td><td>1.7</td><td>1.5</td><td>4.2</td><td>2.9375000000000004</td><td>0.8641721346241557</td><td>false</td></tr><tr><td>2022-03-31T02:00:00Z</td><td>5</td><td>11.7</td><td>278</td><td>2.1</td><td>1.5</td><td>4.2</td><td>2.9375000000000004</td><td>0.8641721346241557</td><td>false</td></tr><tr><td>2022-03-31T03:00:00Z</td><td>5</td><td>11.5</td><td>140</td><td>3.8</td><td>1.5</td><td>4.2</td><td>2.9375000000000004</td><td>0.8641721346241557</td><td>false</td></tr><tr><td>2022-03-31T04:00:00Z</td><td>5</td><td>14.0</td><td>238</td><td>3.0</td><td>1.5</td><td>4.2</td><td>2.9375000000000004</td><td>0.8641721346241557</td><td>false</td></tr><tr><td>2022-03-31T05:00:00Z</td><td>5</td><td>10.8</td><td>51</td><td>3.8</td><td>1.5</td><td>4.2</td><td>2.9375000000000004</td><td>0.8641721346241557</td><td>false</td></tr><tr><td>2022-03-31T06:00:00Z</td><td>5</td><td>10.3</td><td>20</td><td>2.3</td><td>1.5</td><td>4.2</td><td>2.9375000000000004</td><td>0.8641721346241557</td><td>false</td></tr><tr><td>2022-03-31T07:00:00Z</td><td>5</td><td>14.0</td><td>306</td><td>2.5</td><td>1.5</td><td>4.2</td><td>2.9375000000000004</td><td>0.8641721346241557</td><td>false</td></tr><tr><td>2022-03-31T08:00:00Z</td><td>5</td><td>14.4</td><td>321</td><td>3.0</td><td>1.5</td><td>4.2</td><td>2.9375000000000004</td><td>0.8641721346241557</td><td>false</td></tr><tr><td>2022-03-31T09:00:00Z</td><td>5</td><td>10.9</td><td>262</td><td>3.7</td><td>1.5</td><td>4.2</td><td>2.9375000000000004</td><td>0.8641721346241557</td><td>false</td></tr><tr><td>2022-03-31T10:00:00Z</td><td>5</td><td>9.4</td><td>65</td><td>1.8</td><td>1.5</td><td>4.2</td><td>2.9375000000000004</td><td>0.8641721346241557</td><td>false</td></tr><tr><td>2022-03-31T11:00:00Z</td><td>5</td><td>12.0</td><td>356</td><td>4.0</td><td>1.5</td><td>4.2</td><td>2.9375000000000004</td><td>0.8641721346241557</td><td>false</td></tr><tr><td>2022-03-31T12:00:00Z</td><td>5</td><td>12.1</td><td>317</td><td>4.2</td><td>1.5</td><td>4.2</td><td>2.9375000000000004</td><td>0.8641721346241557</td><td>false</td></tr><tr><td>2022-03-31T13:00:00Z</td><td>5</td><td>12.3</td><td>231</td><td>4.1</td><td>1.5</td><td>4.2</td><td>2.9375000000000004</td><td>0.8641721346241557</td><td>false</td></tr><tr><td>2022-03-31T14:00:00Z</td><td>5</td><td>10.9</td><td>341</td><td>2.5</td><td>1.5</td><td>4.2</td><td>2.9375000000000004</td><td>0.8641721346241557</td><td>false</td></tr><tr><td>2022-03-31T15:00:00Z</td><td>5</td><td>12.9</td><td>278</td><td>4.0</td><td>1.5</td><td>4.2</td><td>2.9375000000000004</td><td>0.8641721346241557</td><td>false</td></tr><tr><td>2022-03-31T16:00:00Z</td><td>5</td><td>14.8</td><td>193</td><td>2.3</td><td>1.5</td><td>4.2</td><td>2.9375000000000004</td><td>0.8641721346241557</td><td>false</td></tr><tr><td>2022-03-31T17:00:00Z</td><td>5</td><td>13.5</td><td>162</td><td>2.3</td><td>1.5</td><td>4.2</td><td>2.9375000000000004</td><td>0.8641721346241557</td><td>false</td></tr><tr><td>2022-03-31T18:00:00Z</td><td>5</td><td>9.9</td><td>197</td><td>3.9</td><td>1.5</td><td>4.2</td><td>2.9375000000000004</td><td>0.8641721346241557</td><td>false</td></tr><tr><td>2022-03-31T19:00:00Z</td><td>5</td><td>14.4</td><td>203</td><td>3.7</td><td>1.5</td><td>4.2</td><td>2.9375000000000004</td><td>0.8641721346241557</td><td>false</td></tr><tr><td>2022-03-31T20:00:00Z</td><td>5</td><td>12.1</td><td>134</td><td>1.5</td><td>1.5</td><td>4.2</td><td>2.9375000000000004</td><td>0.8641721346241557</td><td>false</td></tr><tr><td>2022-03-31T21:00:00Z</td><td>5</td><td>9.9</td><td>262</td><td>2.9</td><td>1.5</td><td>4.2</td><td>2.9375000000000004</td><td>0.8641721346241557</td><td>false</td></tr><tr><td>2022-03-31T22:00:00Z</td><td>5</td><td>11.9</td><td>272</td><td>2.9</td><td>1.5</td><td>4.2</td><td>2.9375000000000004</td><td>0.8641721346241557</td><td>false</td></tr><tr><td>2022-03-31T23:00:00Z</td><td>5</td><td>13.5</td><td>55</td><td>1.9</td><td>1.5</td><td>4.2</td><td>2.9375000000000004</td><td>0.8641721346241557</td><td>false</td></tr><tr><td>2022-03-31T00:00:00Z</td><td>6</td><td>14.0</td><td>321</td><td>1.9</td><td>1.6</td><td>4.0</td><td>2.733333333333333</td><td>0.7316845760575931</td><td>false</td></tr><tr><td>2022-03-31T01:00:00Z</td><td>6</td><td>10.4</td><td>247</td><td>2.9</td><td>1.6</td><td>4.0</td><td>2.733333333333333</td><td>0.7316845760575931</td><td>false</td></tr><tr><td>2022-03-31T02:00:00Z</td><td>6</td><td>13.7</td><td>10</td><td>4.0</td><td>1.6</td><td>4.0</td><td>2.733333333333333</td><td>0.7316845760575931</td><td>false</td></tr><tr><td>2022-03-31T03:00:00Z</td><td>6</td><td>13.9</td><td>353</td><td>2.1</td><td>1.6</td><td>4.0</td><td>2.733333333333333</td><td>0.7316845760575931</td><td>false</td></tr><tr><td>2022-03-31T04:00:00Z</td><td>6</td><td>11.0</td><td>79</td><td>4.0</td><td>1.6</td><td>4.0</td><td>2.733333333333333</td><td>0.7316845760575931</td><td>false</td></tr><tr><td>2022-03-31T05:00:00Z</td><td>6</td><td>14.2</td><td>353</td><td>2.4</td><td>1.6</td><td>4.0</td><td>2.733333333333333</td><td>0.7316845760575931</td><td>false</td></tr><tr><td>2022-03-31T06:00:00Z</td><td>6</td><td>14.8</td><td>122</td><td>1.9</td><td>1.6</td><td>4.0</td><td>2.733333333333333</td><td>0.7316845760575931</td><td>false</td></tr><tr><td>2022-03-31T07:00:00Z</td><td>6</td><td>10.9</td><td>154</td><td>3.1</td><td>1.6</td><td>4.0</td><td>2.733333333333333</td><td>0.7316845760575931</td><td>false</td></tr><tr><td>2022-03-31T08:00:00Z</td><td>6</td><td>11.0</td><td>245</td><td>2.7</td><td>1.6</td><td>4.0</td><td>2.733333333333333</td><td>0.7316845760575931</td><td>false</td></tr><tr><td>2022-03-31T09:00:00Z</td><td>6</td><td>11.1</td><td>234</td><td>1.9</td><td>1.6</td><td>4.0</td><td>2.733333333333333</td><td>0.7316845760575931</td><td>false</td></tr><tr><td>2022-03-31T10:00:00Z</td><td>6</td><td>12.6</td><td>169</td><td>3.9</td><td>1.6</td><td>4.0</td><td>2.733333333333333</td><td>0.7316845760575931</td><td>false</td></tr><tr><td>2022-03-31T11:00:00Z</td><td>6</td><td>11.3</td><td>66</td><td>3.4</td><td>1.6</td><td>4.0</td><td>2.733333333333333</td><td>0.7316845760575931</td><td>false</td></tr><tr><td>2022-03-31T12:00:00Z</td><td>6</td><td>10.6</td><td>169</td><td>3.1</td><td>1.6</td><td>4.0</td><td>2.733333333333333</td><td>0.7316845760575931</td><td>false</td></tr><tr><td>2022-03-31T13:00:00Z</td><td>6</td><td>14.2</td><td>119</td><td>1.9</td><td>1.6</td><td>4.0</td><td>2.733333333333333</td><td>0.7316845760575931</td><td>false</td></tr><tr><td>2022-03-31T14:00:00Z</td><td>6</td><td>13.6</td><td>253</td><td>2.3</td><td>1.6</td><td>4.0</td><td>2.733333333333333</td><td>0.7316845760575931</td><td>false</td></tr><tr><td>2022-03-31T15:00:00Z</td><td>6</td><td>11.6</td><td>121</td><td>3.3</td><td>1.6</td><td>4.0</td><td>2.733333333333333</td><td>0.7316845760575931</td><td>false</td></tr><tr><td>2022-03-31T16:00:00Z</td><td>6</td><td>12.6</td><td>159</td><td>2.1</td><td>1.6</td><td>4.0</td><td>2.733333333333333</td><td>0.7316845760575931</td><td>false</td></tr><tr><td>2022-03-31T17:00:00Z</td><td>6</td><td>15.0</td><td>86</td><td>1.6</td><td>1.6</td><td>4.0</td><td>2.733333333333333</td><td>0.7316845760575931</td><td>false</td></tr><tr><td>2022-03-31T18:00:00Z</td><td>6</td><td>13.9</td><td>274</td><td>2.6</td><td>1.6</td><td>4.0</td><td>2.733333333333333</td><td>0.7316845760575931</td><td>false</td></tr><tr><td>2022-03-31T19:00:00Z</td><td>6</td><td>14.8</td><td>9</td><td>2.2</td><td>1.6</td><td>4.0</td><td>2.733333333333333</td><td>0.7316845760575931</td><td>false</td></tr><tr><td>2022-03-31T20:00:00Z</td><td>6</td><td>11.0</td><td>50</td><td>2.7</td><td>1.6</td><td>4.0</td><td>2.733333333333333</td><td>0.7316845760575931</td><td>false</td></tr><tr><td>2022-03-31T21:00:00Z</td><td>6</td><td>9.3</td><td>339</td><td>3.8</td><td>1.6</td><td>4.0</td><td>2.733333333333333</td><td>0.7316845760575931</td><td>false</td></tr><tr><td>2022-03-31T22:00:00Z</td><td>6</td><td>10.2</td><td>332</td><td>2.8</td><td>1.6</td><td>4.0</td><td>2.733333333333333</td><td>0.7316845760575931</td><td>false</td></tr><tr><td>2022-03-31T23:00:00Z</td><td>6</td><td>9.9</td><td>37</td><td>3.0</td><td>1.6</td><td>4.0</td><td>2.733333333333333</td><td>0.7316845760575931</td><td>false</td></tr><tr><td>2022-03-31T00:00:00Z</td><td>7</td><td>12.7</td><td>157</td><td>3.3</td><td>1.6</td><td>4.3</td><td>2.766666666666667</td><td>0.792171844920064</td><td>false</td></tr><tr><td>2022-03-31T01:00:00Z</td><td>7</td><td>14.9</td><td>308</td><td>4.3</td><td>1.6</td><td>4.3</td><td>2.766666666666667</td><td>0.792171844920064</td><td>false</td></tr><tr><td>2022-03-31T02:00:00Z</td><td>7</td><td>9.9</td><td>285</td><td>1.8</td><td>1.6</td><td>4.3</td><td>2.766666666666667</td><td>0.792171844920064</td><td>false</td></tr><tr><td>2022-03-31T03:00:00Z</td><td>7</td><td>12.2</td><td>293</td><td>2.0</td><td>1.6</td><td>4.3</td><td>2.766666666666667</td><td>0.792171844920064</td><td>false</td></tr><tr><td>2022-03-31T04:00:00Z</td><td>7</td><td>12.3</td><td>205</td><td>3.2</td><td>1.6</td><td>4.3</td><td>2.766666666666667</td><td>0.792171844920064</td><td>false</td></tr><tr><td>2022-03-31T05:00:00Z</td><td>7</td><td>10.0</td><td>137</td><td>3.9</td><td>1.6</td><td>4.3</td><td>2.766666666666667</td><td>0.792171844920064</td><td>false</td></tr><tr><td>2022-03-31T06:00:00Z</td><td>7</td><td>11.2</td><td>178</td><td>2.5</td><td>1.6</td><td>4.3</td><td>2.766666666666667</td><td>0.792171844920064</td><td>false</td></tr><tr><td>2022-03-31T07:00:00Z</td><td>7</td><td>9.1</td><td>142</td><td>1.6</td><td>1.6</td><td>4.3</td><td>2.766666666666667</td><td>0.792171844920064</td><td>false</td></tr><tr><td>2022-03-31T08:00:00Z</td><td>7</td><td>13.3</td><td>95</td><td>3.8</td><td>1.6</td><td>4.3</td><td>2.766666666666667</td><td>0.792171844920064</td><td>false</td></tr><tr><td>2022-03-31T09:00:00Z</td><td>7</td><td>12.6</td><td>103</td><td>1.8</td><td>1.6</td><td>4.3</td><td>2.766666666666667</td><td>0.792171844920064</td><td>false</td></tr><tr><td>2022-03-31T10:00:00Z</td><td>7</td><td>9.4</td><td>133</td><td>2.5</td><td>1.6</td><td>4.3</td><td>2.766666666666667</td><td>0.792171844920064</td><td>false</td></tr><tr><td>2022-03-31T11:00:00Z</td><td>7</td><td>14.8</td><td>72</td><td>2.2</td><td>1.6</td><td>4.3</td><td>2.766666666666667</td><td>0.792171844920064</td><td>false</td></tr><tr><td>2022-03-31T12:00:00Z</td><td>7</td><td>13.4</td><td>267</td><td>3.1</td><td>1.6</td><td>4.3</td><td>2.766666666666667</td><td>0.792171844920064</td><td>false</td></tr><tr><td>2022-03-31T13:00:00Z</td><td>7</td><td>14.6</td><td>212</td><td>3.6</td><td>1.6</td><td>4.3</td><td>2.766666666666667</td><td>0.792171844920064</td><td>false</td></tr><tr><td>2022-03-31T14:00:00Z</td><td>7</td><td>9.3</td><td>161</td><td>3.2</td><td>1.6</td><td>4.3</td><td>2.766666666666667</td><td>0.792171844920064</td><td>false</td></tr><tr><td>2022-03-31T15:00:00Z</td><td>7</td><td>13.1</td><td>70</td><td>2.4</td><td>1.6</td><td>4.3</td><td>2.766666666666667</td><td>0.792171844920064</td><td>false</td></tr><tr><td>2022-03-31T16:00:00Z</td><td>7</td><td>10.8</td><td>339</td><td>1.7</td><td>1.6</td><td>4.3</td><td>2.766666666666667</td><td>0.792171844920064</td><td>false</td></tr><tr><td>2022-03-31T17:00:00Z</td><td>7</td><td>10.6</td><td>304</td><td>3.3</td><td>1.6</td><td>4.3</td><td>2.766666666666667</td><td>0.792171844920064</td><td>false</td></tr><tr><td>2022-03-31T18:00:00Z</td><td>7</td><td>9.6</td><td>188</td><td>1.9</td><td>1.6</td><td>4.3</td><td>2.766666666666667</td><td>0.792171844920064</td><td>false</td></tr><tr><td>2022-03-31T19:00:00Z</td><td>7</td><td>12.1</td><td>357</td><td>2.6</td><td>1.6</td><td>4.3</td><td>2.766666666666667</td><td>0.792171844920064</td><td>false</td></tr><tr><td>2022-03-31T20:00:00Z</td><td>7</td><td>14.0</td><td>240</td><td>3.2</td><td>1.6</td><td>4.3</td><td>2.766666666666667</td><td>0.792171844920064</td><td>false</td></tr><tr><td>2022-03-31T21:00:00Z</td><td>7</td><td>12.3</td><td>318</td><td>2.2</td><td>1.6</td><td>4.3</td><td>2.766666666666667</td><td>0.792171844920064</td><td>false</td></tr><tr><td>2022-03-31T22:00:00Z</td><td>7</td><td>10.5</td><td>285</td><td>3.8</td><td>1.6</td><td>4.3</td><td>2.766666666666667</td><td>0.792171844920064</td><td>false</td></tr><tr><td>2022-03-31T23:00:00Z</td><td>7</td><td>11.1</td><td>225</td><td>2.5</td><td>1.6</td><td>4.3</td><td>2.766666666666667</td><td>0.792171844920064</td><td>false</td></tr><tr><td>2022-03-31T00:00:00Z</td><td>8</td><td>9.9</td><td>269</td><td>4.1</td><td>1.7</td><td>4.4</td><td>3.3958333333333326</td><td>0.9630021746630676</td><td>false</td></tr><tr><td>2022-03-31T01:00:00Z</td><td>8</td><td>14.7</td><td>10</td><td>3.4</td><td>1.7</td><td>4.4</td><td>3.3958333333333326</td><td>0.9630021746630676</td><td>false</td></tr><tr><td>2022-03-31T02:00:00Z</td><td>8</td><td>10.7</td><td>164</td><td>3.8</td><td>1.7</td><td>4.4</td><td>3.3958333333333326</td><td>0.9630021746630676</td><td>false</td></tr><tr><td>2022-03-31T03:00:00Z</td><td>8</td><td>10.4</td><td>139</td><td>1.7</td><td>1.7</td><td>4.4</td><td>3.3958333333333326</td><td>0.9630021746630676</td><td>false</td></tr><tr><td>2022-03-31T04:00:00Z</td><td>8</td><td>10.2</td><td>283</td><td>4.4</td><td>1.7</td><td>4.4</td><td>3.3958333333333326</td><td>0.9630021746630676</td><td>false</td></tr><tr><td>2022-03-31T05:00:00Z</td><td>8</td><td>12.2</td><td>256</td><td>2.4</td><td>1.7</td><td>4.4</td><td>3.3958333333333326</td><td>0.9630021746630676</td><td>false</td></tr><tr><td>2022-03-31T06:00:00Z</td><td>8</td><td>10.0</td><td>196</td><td>2.9</td><td>1.7</td><td>4.4</td><td>3.3958333333333326</td><td>0.9630021746630676</td><td>false</td></tr><tr><td>2022-03-31T07:00:00Z</td><td>8</td><td>11.9</td><td>57</td><td>3.5</td><td>1.7</td><td>4.4</td><td>3.3958333333333326</td><td>0.9630021746630676</td><td>false</td></tr><tr><td>2022-03-31T08:00:00Z</td><td>8</td><td>11.2</td><td>95</td><td>1.7</td><td>1.7</td><td>4.4</td><td>3.3958333333333326</td><td>0.9630021746630676</td><td>false</td></tr><tr><td>2022-03-31T09:00:00Z</td><td>8</td><td>12.8</td><td>209</td><td>4.2</td><td>1.7</td><td>4.4</td><td>3.3958333333333326</td><td>0.9630021746630676</td><td>false</td></tr><tr><td>2022-03-31T10:00:00Z</td><td>8</td><td>13.8</td><td>318</td><td>4.0</td><td>1.7</td><td>4.4</td><td>3.3958333333333326</td><td>0.9630021746630676</td><td>false</td></tr><tr><td>2022-03-31T11:00:00Z</td><td>8</td><td>11.9</td><td>1</td><td>4.4</td><td>1.7</td><td>4.4</td><td>3.3958333333333326</td><td>0.9630021746630676</td><td>false</td></tr><tr><td>2022-03-31T12:00:00Z</td><td>8</td><td>11.2</td><td>189</td><td>4.4</td><td>1.7</td><td>4.4</td><td>3.3958333333333326</td><td>0.9630021746630676</td><td>false</td></tr><tr><td>2022-03-31T13:00:00Z</td><td>8</td><td>12.7</td><td>110</td><td>2.4</td><td>1.7</td><td>4.4</td><td>3.3958333333333326</td><td>0.9630021746630676</td><td>false</td></tr><tr><td>2022-03-31T14:00:00Z</td><td>8</td><td>9.6</td><td>288</td><td>4.4</td><td>1.7</td><td>4.4</td><td>3.3958333333333326</td><td>0.9630021746630676</td><td>false</td></tr><tr><td>2022-03-31T15:00:00Z</td><td>8</td><td>10.6</td><td>271</td><td>4.2</td><td>1.7</td><td>4.4</td><td>3.3958333333333326</td><td>0.9630021746630676</td><td>false</td></tr><tr><td>2022-03-31T16:00:00Z</td><td>8</td><td>10.3</td><td>124</td><td>3.3</td><td>1.7</td><td>4.4</td><td>3.3958333333333326</td><td>0.9630021746630676</td><td>false</td></tr><tr><td>2022-03-31T17:00:00Z</td><td>8</td><td>11.0</td><td>312</td><td>3.8</td><td>1.7</td><td>4.4</td><td>3.3958333333333326</td><td>0.9630021746630676</td><td>false</td></tr><tr><td>2022-03-31T18:00:00Z</td><td>8</td><td>10.8</td><td>108</td><td>3.6</td><td>1.7</td><td>4.4</td><td>3.3958333333333326</td><td>0.9630021746630676</td><td>false</td></tr><tr><td>2022-03-31T19:00:00Z</td><td>8</td><td>13.0</td><td>307</td><td>3.1</td><td>1.7</td><td>4.4</td><td>3.3958333333333326</td><td>0.9630021746630676</td><td>false</td></tr><tr><td>2022-03-31T20:00:00Z</td><td>8</td><td>9.4</td><td>21</td><td>1.8</td><td>1.7</td><td>4.4</td><td>3.3958333333333326</td><td>0.9630021746630676</td><td>false</td></tr><tr><td>2022-03-31T21:00:00Z</td><td>8</td><td>11.2</td><td>161</td><td>1.7</td><td>1.7</td><td>4.4</td><td>3.3958333333333326</td><td>0.9630021746630676</td><td>false</td></tr><tr><td>2022-03-31T22:00:00Z</td><td>8</td><td>11.5</td><td>212</td><td>4.4</td><td>1.7</td><td>4.4</td><td>3.3958333333333326</td><td>0.9630021746630676</td><td>false</td></tr><tr><td>2022-03-31T23:00:00Z</td><td>8</td><td>14.3</td><td>21</td><td>3.9</td><td>1.7</td><td>4.4</td><td>3.3958333333333326</td><td>0.9630021746630676</td><td>false</td></tr><tr><td>2022-03-31T00:00:00Z</td><td>9</td><td>13.5</td><td>299</td><td>1.6</td><td>1.6</td><td>4.3</td><td>3.275</td><td>0.7484767139359433</td><td>true</td></tr><tr><td>2022-03-31T01:00:00Z</td><td>9</td><td>10.8</td><td>208</td><td>4.1</td><td>1.6</td><td>4.3</td><td>3.275</td><td>0.7484767139359433</td><td>false</td></tr><tr><td>2022-03-31T02:00:00Z</td><td>9</td><td>10.4</td><td>349</td><td>3.6</td><td>1.6</td><td>4.3</td><td>3.275</td><td>0.7484767139359433</td><td>false</td></tr><tr><td>2022-03-31T03:00:00Z</td><td>9</td><td>13.8</td><td>12</td><td>3.2</td><td>1.6</td><td>4.3</td><td>3.275</td><td>0.7484767139359433</td><td>false</td></tr><tr><td>2022-03-31T04:00:00Z</td><td>9</td><td>11.8</td><td>235</td><td>4.0</td><td>1.6</td><td>4.3</td><td>3.275</td><td>0.7484767139359433</td><td>false</td></tr><tr><td>2022-03-31T05:00:00Z</td><td>9</td><td>12.4</td><td>314</td><td>2.5</td><td>1.6</td><td>4.3</td><td>3.275</td><td>0.7484767139359433</td><td>false</td></tr><tr><td>2022-03-31T06:00:00Z</td><td>9</td><td>14.6</td><td>300</td><td>4.3</td><td>1.6</td><td>4.3</td><td>3.275</td><td>0.7484767139359433</td><td>false</td></tr><tr><td>2022-03-31T07:00:00Z</td><td>9</td><td>12.6</td><td>272</td><td>3.6</td><td>1.6</td><td>4.3</td><td>3.275</td><td>0.7484767139359433</td><td>false</td></tr><tr><td>2022-03-31T08:00:00Z</td><td>9</td><td>13.8</td><td>96</td><td>2.3</td><td>1.6</td><td>4.3</td><td>3.275</td><td>0.7484767139359433</td><td>false</td></tr><tr><td>2022-03-31T09:00:00Z</td><td>9</td><td>12.1</td><td>324</td><td>3.8</td><td>1.6</td><td>4.3</td><td>3.275</td><td>0.7484767139359433</td><td>false</td></tr><tr><td>2022-03-31T10:00:00Z</td><td>9</td><td>13.8</td><td>4</td><td>3.6</td><td>1.6</td><td>4.3</td><td>3.275</td><td>0.7484767139359433</td><td>false</td></tr><tr><td>2022-03-31T11:00:00Z</td><td>9</td><td>13.2</td><td>214</td><td>3.5</td><td>1.6</td><td>4.3</td><td>3.275</td><td>0.7484767139359433</td><td>false</td></tr><tr><td>2022-03-31T12:00:00Z</td><td>9</td><td>13.4</td><td>351</td><td>2.5</td><td>1.6</td><td>4.3</td><td>3.275</td><td>0.7484767139359433</td><td>false</td></tr><tr><td>2022-03-31T13:00:00Z</td><td>9</td><td>10.4</td><td>112</td><td>3.6</td><td>1.6</td><td>4.3</td><td>3.275</td><td>0.7484767139359433</td><td>false</td></tr><tr><td>2022-03-31T14:00:00Z</td><td>9</td><td>11.3</td><td>136</td><td>3.6</td><td>1.6</td><td>4.3</td><td>3.275</td><td>0.7484767139359433</td><td>false</td></tr><tr><td>2022-03-31T15:00:00Z</td><td>9</td><td>10.4</td><td>109</td><td>3.6</td><td>1.6</td><td>4.3</td><td>3.275</td><td>0.7484767139359433</td><td>false</td></tr><tr><td>2022-03-31T16:00:00Z</td><td>9</td><td>11.2</td><td>21</td><td>2.3</td><td>1.6</td><td>4.3</td><td>3.275</td><td>0.7484767139359433</td><td>false</td></tr><tr><td>2022-03-31T17:00:00Z</td><td>9</td><td>11.9</td><td>133</td><td>3.8</td><td>1.6</td><td>4.3</td><td>3.275</td><td>0.7484767139359433</td><td>false</td></tr><tr><td>2022-03-31T18:00:00Z</td><td>9</td><td>12.3</td><td>234</td><td>2.3</td><td>1.6</td><td>4.3</td><td>3.275</td><td>0.7484767139359433</td><td>false</td></tr><tr><td>2022-03-31T19:00:00Z</td><td>9</td><td>14.9</td><td>145</td><td>3.8</td><td>1.6</td><td>4.3</td><td>3.275</td><td>0.7484767139359433</td><td>false</td></tr><tr><td>2022-03-31T20:00:00Z</td><td>9</td><td>9.8</td><td>221</td><td>4.3</td><td>1.6</td><td>4.3</td><td>3.275</td><td>0.7484767139359433</td><td>false</td></tr><tr><td>2022-03-31T21:00:00Z</td><td>9</td><td>9.4</td><td>307</td><td>2.2</td><td>1.6</td><td>4.3</td><td>3.275</td><td>0.7484767139359433</td><td>false</td></tr><tr><td>2022-03-31T22:00:00Z</td><td>9</td><td>13.3</td><td>25</td><td>3.4</td><td>1.6</td><td>4.3</td><td>3.275</td><td>0.7484767139359433</td><td>false</td></tr><tr><td>2022-03-31T23:00:00Z</td><td>9</td><td>15.0</td><td>102</td><td>3.1</td><td>1.6</td><td>4.3</td><td>3.275</td><td>0.7484767139359433</td><td>false</td></tr><tr><td>2022-03-31T00:00:00Z</td><td>10</td><td>12.2</td><td>118</td><td>2.6</td><td>1.6</td><td>4.3</td><td>2.704166666666666</td><td>0.7686686212376318</td><td>false</td></tr><tr><td>2022-03-31T01:00:00Z</td><td>10</td><td>9.1</td><td>292</td><td>2.3</td><td>1.6</td><td>4.3</td><td>2.704166666666666</td><td>0.7686686212376318</td><td>false</td></tr><tr><td>2022-03-31T02:00:00Z</td><td>10</td><td>9.3</td><td>103</td><td>1.8</td><td>1.6</td><td>4.3</td><td>2.704166666666666</td><td>0.7686686212376318</td><td>false</td></tr><tr><td>2022-03-31T03:00:00Z</td><td>10</td><td>11.7</td><td>343</td><td>2.4</td><td>1.6</td><td>4.3</td><td>2.704166666666666</td><td>0.7686686212376318</td><td>false</td></tr><tr><td>2022-03-31T04:00:00Z</td><td>10</td><td>10.1</td><td>181</td><td>2.7</td><td>1.6</td><td>4.3</td><td>2.704166666666666</td><td>0.7686686212376318</td><td>false</td></tr><tr><td>2022-03-31T05:00:00Z</td><td>10</td><td>13.6</td><td>181</td><td>1.6</td><td>1.6</td><td>4.3</td><td>2.704166666666666</td><td>0.7686686212376318</td><td>false</td></tr><tr><td>2022-03-31T06:00:00Z</td><td>10</td><td>14.0</td><td>296</td><td>2.5</td><td>1.6</td><td>4.3</td><td>2.704166666666666</td><td>0.7686686212376318</td><td>false</td></tr><tr><td>2022-03-31T07:00:00Z</td><td>10</td><td>14.8</td><td>339</td><td>2.9</td><td>1.6</td><td>4.3</td><td>2.704166666666666</td><td>0.7686686212376318</td><td>false</td></tr><tr><td>2022-03-31T08:00:00Z</td><td>10</td><td>11.9</td><td>340</td><td>1.6</td><td>1.6</td><td>4.3</td><td>2.704166666666666</td><td>0.7686686212376318</td><td>false</td></tr><tr><td>2022-03-31T09:00:00Z</td><td>10</td><td>9.3</td><td>32</td><td>2.8</td><td>1.6</td><td>4.3</td><td>2.704166666666666</td><td>0.7686686212376318</td><td>false</td></tr><tr><td>2022-03-31T10:00:00Z</td><td>10</td><td>14.6</td><td>322</td><td>1.7</td><td>1.6</td><td>4.3</td><td>2.704166666666666</td><td>0.7686686212376318</td><td>false</td></tr><tr><td>2022-03-31T11:00:00Z</td><td>10</td><td>10.2</td><td>199</td><td>2.9</td><td>1.6</td><td>4.3</td><td>2.704166666666666</td><td>0.7686686212376318</td><td>false</td></tr><tr><td>2022-03-31T12:00:00Z</td><td>10</td><td>9.4</td><td>218</td><td>3.4</td><td>1.6</td><td>4.3</td><td>2.704166666666666</td><td>0.7686686212376318</td><td>false</td></tr><tr><td>2022-03-31T13:00:00Z</td><td>10</td><td>11.1</td><td>13</td><td>3.6</td><td>1.6</td><td>4.3</td><td>2.704166666666666</td><td>0.7686686212376318</td><td>false</td></tr><tr><td>2022-03-31T14:00:00Z</td><td>10</td><td>13.8</td><td>263</td><td>3.9</td><td>1.6</td><td>4.3</td><td>2.704166666666666</td><td>0.7686686212376318</td><td>false</td></tr><tr><td>2022-03-31T15:00:00Z</td><td>10</td><td>10.6</td><td>328</td><td>2.1</td><td>1.6</td><td>4.3</td><td>2.704166666666666</td><td>0.7686686212376318</td><td>false</td></tr><tr><td>2022-03-31T16:00:00Z</td><td>10</td><td>11.1</td><td>49</td><td>2.1</td><td>1.6</td><td>4.3</td><td>2.704166666666666</td><td>0.7686686212376318</td><td>false</td></tr><tr><td>2022-03-31T17:00:00Z</td><td>10</td><td>9.8</td><td>240</td><td>4.1</td><td>1.6</td><td>4.3</td><td>2.704166666666666</td><td>0.7686686212376318</td><td>false</td></tr><tr><td>2022-03-31T18:00:00Z</td><td>10</td><td>11.6</td><td>83</td><td>2.7</td><td>1.6</td><td>4.3</td><td>2.704166666666666</td><td>0.7686686212376318</td><td>false</td></tr><tr><td>2022-03-31T19:00:00Z</td><td>10</td><td>11.4</td><td>23</td><td>2.0</td><td>1.6</td><td>4.3</td><td>2.704166666666666</td><td>0.7686686212376318</td><td>false</td></tr><tr><td>2022-03-31T20:00:00Z</td><td>10</td><td>12.3</td><td>26</td><td>3.4</td><td>1.6</td><td>4.3</td><td>2.704166666666666</td><td>0.7686686212376318</td><td>false</td></tr><tr><td>2022-03-31T21:00:00Z</td><td>10</td><td>10.0</td><td>115</td><td>2.8</td><td>1.6</td><td>4.3</td><td>2.704166666666666</td><td>0.7686686212376318</td><td>false</td></tr><tr><td>2022-03-31T22:00:00Z</td><td>10</td><td>14.0</td><td>82</td><td>4.3</td><td>1.6</td><td>4.3</td><td>2.704166666666666</td><td>0.7686686212376318</td><td>true</td></tr><tr><td>2022-03-31T23:00:00Z</td><td>10</td><td>10.1</td><td>19</td><td>2.7</td><td>1.6</td><td>4.3</td><td>2.704166666666666</td><td>0.7686686212376318</td><td>false</td></tr><tr><td>2022-03-31T00:00:00Z</td><td>11</td><td>12.5</td><td>71</td><td>2.4</td><td>1.5</td><td>4.3</td><td>2.8874999999999997</td><td>0.9483681636964851</td><td>false</td></tr><tr><td>2022-03-31T01:00:00Z</td><td>11</td><td>9.3</td><td>38</td><td>4.2</td><td>1.5</td><td>4.3</td><td>2.8874999999999997</td><td>0.9483681636964851</td><td>false</td></tr><tr><td>2022-03-31T02:00:00Z</td><td>11</td><td>13.7</td><td>272</td><td>2.2</td><td>1.5</td><td>4.3</td><td>2.8874999999999997</td><td>0.9483681636964851</td><td>false</td></tr><tr><td>2022-03-31T03:00:00Z</td><td>11</td><td>11.0</td><td>181</td><td>2.1</td><td>1.5</td><td>4.3</td><td>2.8874999999999997</td><td>0.9483681636964851</td><td>false</td></tr><tr><td>2022-03-31T04:00:00Z</td><td>11</td><td>10.8</td><td>31</td><td>1.7</td><td>1.5</td><td>4.3</td><td>2.8874999999999997</td><td>0.9483681636964851</td><td>false</td></tr><tr><td>2022-03-31T05:00:00Z</td><td>11</td><td>11.9</td><td>302</td><td>2.8</td><td>1.5</td><td>4.3</td><td>2.8874999999999997</td><td>0.9483681636964851</td><td>false</td></tr><tr><td>2022-03-31T06:00:00Z</td><td>11</td><td>10.4</td><td>38</td><td>2.6</td><td>1.5</td><td>4.3</td><td>2.8874999999999997</td><td>0.9483681636964851</td><td>false</td></tr><tr><td>2022-03-31T07:00:00Z</td><td>11</td><td>13.3</td><td>285</td><td>4.1</td><td>1.5</td><td>4.3</td><td>2.8874999999999997</td><td>0.9483681636964851</td><td>false</td></tr><tr><td>2022-03-31T08:00:00Z</td><td>11</td><td>12.1</td><td>278</td><td>1.6</td><td>1.5</td><td>4.3</td><td>2.8874999999999997</td><td>0.9483681636964851</td><td>false</td></tr><tr><td>2022-03-31T09:00:00Z</td><td>11</td><td>9.8</td><td>176</td><td>3.8</td><td>1.5</td><td>4.3</td><td>2.8874999999999997</td><td>0.9483681636964851</td><td>false</td></tr><tr><td>2022-03-31T10:00:00Z</td><td>11</td><td>11.1</td><td>315</td><td>2.3</td><td>1.5</td><td>4.3</td><td>2.8874999999999997</td><td>0.9483681636964851</td><td>false</td></tr><tr><td>2022-03-31T11:00:00Z</td><td>11</td><td>9.7</td><td>269</td><td>1.5</td><td>1.5</td><td>4.3</td><td>2.8874999999999997</td><td>0.9483681636964851</td><td>false</td></tr><tr><td>2022-03-31T12:00:00Z</td><td>11</td><td>13.0</td><td>257</td><td>2.1</td><td>1.5</td><td>4.3</td><td>2.8874999999999997</td><td>0.9483681636964851</td><td>false</td></tr><tr><td>2022-03-31T13:00:00Z</td><td>11</td><td>10.1</td><td>29</td><td>3.8</td><td>1.5</td><td>4.3</td><td>2.8874999999999997</td><td>0.9483681636964851</td><td>false</td></tr><tr><td>2022-03-31T14:00:00Z</td><td>11</td><td>14.2</td><td>357</td><td>3.1</td><td>1.5</td><td>4.3</td><td>2.8874999999999997</td><td>0.9483681636964851</td><td>false</td></tr><tr><td>2022-03-31T15:00:00Z</td><td>11</td><td>14.3</td><td>306</td><td>1.9</td><td>1.5</td><td>4.3</td><td>2.8874999999999997</td><td>0.9483681636964851</td><td>false</td></tr><tr><td>2022-03-31T16:00:00Z</td><td>11</td><td>12.3</td><td>58</td><td>3.8</td><td>1.5</td><td>4.3</td><td>2.8874999999999997</td><td>0.9483681636964851</td><td>false</td></tr><tr><td>2022-03-31T17:00:00Z</td><td>11</td><td>9.8</td><td>149</td><td>4.0</td><td>1.5</td><td>4.3</td><td>2.8874999999999997</td><td>0.9483681636964851</td><td>false</td></tr><tr><td>2022-03-31T18:00:00Z</td><td>11</td><td>13.7</td><td>80</td><td>3.6</td><td>1.5</td><td>4.3</td><td>2.8874999999999997</td><td>0.9483681636964851</td><td>false</td></tr><tr><td>2022-03-31T19:00:00Z</td><td>11</td><td>14.6</td><td>202</td><td>3.8</td><td>1.5</td><td>4.3</td><td>2.8874999999999997</td><td>0.9483681636964851</td><td>false</td></tr><tr><td>2022-03-31T20:00:00Z</td><td>11</td><td>13.0</td><td>103</td><td>2.4</td><td>1.5</td><td>4.3</td><td>2.8874999999999997</td><td>0.9483681636964851</td><td>false</td></tr><tr><td>2022-03-31T21:00:00Z</td><td>11</td><td>12.6</td><td>341</td><td>4.3</td><td>1.5</td><td>4.3</td><td>2.8874999999999997</td><td>0.9483681636964851</td><td>false</td></tr><tr><td>2022-03-31T22:00:00Z</td><td>11</td><td>13.5</td><td>194</td><td>1.7</td><td>1.5</td><td>4.3</td><td>2.8874999999999997</td><td>0.9483681636964851</td><td>false</td></tr><tr><td>2022-03-31T23:00:00Z</td><td>11</td><td>13.3</td><td>232</td><td>3.5</td><td>1.5</td><td>4.3</td><td>2.8874999999999997</td><td>0.9483681636964851</td><td>false</td></tr><tr><td>2022-03-31T00:00:00Z</td><td>12</td><td>13.2</td><td>265</td><td>3.4</td><td>1.6</td><td>4.4</td><td>2.983333333333334</td><td>0.95810803905027</td><td>false</td></tr><tr><td>2022-03-31T01:00:00Z</td><td>12</td><td>14.8</td><td>74</td><td>2.5</td><td>1.6</td><td>4.4</td><td>2.983333333333334</td><td>0.95810803905027</td><td>false</td></tr><tr><td>2022-03-31T02:00:00Z</td><td>12</td><td>10.3</td><td>31</td><td>4.0</td><td>1.6</td><td>4.4</td><td>2.983333333333334</td><td>0.95810803905027</td><td>false</td></tr><tr><td>2022-03-31T03:00:00Z</td><td>12</td><td>10.4</td><td>13</td><td>1.7</td><td>1.6</td><td>4.4</td><td>2.983333333333334</td><td>0.95810803905027</td><td>false</td></tr><tr><td>2022-03-31T04:00:00Z</td><td>12</td><td>10.1</td><td>170</td><td>2.3</td><td>1.6</td><td>4.4</td><td>2.983333333333334</td><td>0.95810803905027</td><td>false</td></tr><tr><td>2022-03-31T05:00:00Z</td><td>12</td><td>13.7</td><td>42</td><td>1.6</td><td>1.6</td><td>4.4</td><td>2.983333333333334</td><td>0.95810803905027</td><td>false</td></tr><tr><td>2022-03-31T06:00:00Z</td><td>12</td><td>14.9</td><td>208</td><td>1.9</td><td>1.6</td><td>4.4</td><td>2.983333333333334</td><td>0.95810803905027</td><td>false</td></tr><tr><td>2022-03-31T07:00:00Z</td><td>12</td><td>9.4</td><td>227</td><td>4.4</td><td>1.6</td><td>4.4</td><td>2.983333333333334</td><td>0.95810803905027</td><td>false</td></tr><tr><td>2022-03-31T08:00:00Z</td><td>12</td><td>12.5</td><td>75</td><td>2.2</td><td>1.6</td><td>4.4</td><td>2.983333333333334</td><td>0.95810803905027</td><td>false</td></tr><tr><td>2022-03-31T09:00:00Z</td><td>12</td><td>12.7</td><td>165</td><td>3.5</td><td>1.6</td><td>4.4</td><td>2.983333333333334</td><td>0.95810803905027</td><td>false</td></tr><tr><td>2022-03-31T10:00:00Z</td><td>12</td><td>12.7</td><td>74</td><td>4.3</td><td>1.6</td><td>4.4</td><td>2.983333333333334</td><td>0.95810803905027</td><td>false</td></tr><tr><td>2022-03-31T11:00:00Z</td><td>12</td><td>10.2</td><td>348</td><td>1.7</td><td>1.6</td><td>4.4</td><td>2.983333333333334</td><td>0.95810803905027</td><td>false</td></tr><tr><td>2022-03-31T12:00:00Z</td><td>12</td><td>14.3</td><td>301</td><td>4.4</td><td>1.6</td><td>4.4</td><td>2.983333333333334</td><td>0.95810803905027</td><td>false</td></tr><tr><td>2022-03-31T13:00:00Z</td><td>12</td><td>14.7</td><td>18</td><td>3.7</td><td>1.6</td><td>4.4</td><td>2.983333333333334</td><td>0.95810803905027</td><td>false</td></tr><tr><td>2022-03-31T14:00:00Z</td><td>12</td><td>14.8</td><td>297</td><td>4.3</td><td>1.6</td><td>4.4</td><td>2.983333333333334</td><td>0.95810803905027</td><td>false</td></tr><tr><td>2022-03-31T15:00:00Z</td><td>12</td><td>9.4</td><td>203</td><td>2.7</td><td>1.6</td><td>4.4</td><td>2.983333333333334</td><td>0.95810803905027</td><td>false</td></tr><tr><td>2022-03-31T16:00:00Z</td><td>12</td><td>14.1</td><td>25</td><td>4.4</td><td>1.6</td><td>4.4</td><td>2.983333333333334</td><td>0.95810803905027</td><td>false</td></tr><tr><td>2022-03-31T17:00:00Z</td><td>12</td><td>12.6</td><td>204</td><td>2.4</td><td>1.6</td><td>4.4</td><td>2.983333333333334</td><td>0.95810803905027</td><td>false</td></tr><tr><td>2022-03-31T18:00:00Z</td><td>12</td><td>11.7</td><td>291</td><td>2.3</td><td>1.6</td><td>4.4</td><td>2.983333333333334</td><td>0.95810803905027</td><td>false</td></tr><tr><td>2022-03-31T19:00:00Z</td><td>12</td><td>12.5</td><td>320</td><td>2.0</td><td>1.6</td><td>4.4</td><td>2.983333333333334</td><td>0.95810803905027</td><td>false</td></tr><tr><td>2022-03-31T20:00:00Z</td><td>12</td><td>13.6</td><td>44</td><td>3.0</td><td>1.6</td><td>4.4</td><td>2.983333333333334</td><td>0.95810803905027</td><td>false</td></tr><tr><td>2022-03-31T21:00:00Z</td><td>12</td><td>11.4</td><td>140</td><td>2.8</td><td>1.6</td><td>4.4</td><td>2.983333333333334</td><td>0.95810803905027</td><td>false</td></tr><tr><td>2022-03-31T22:00:00Z</td><td>12</td><td>14.5</td><td>169</td><td>2.9</td><td>1.6</td><td>4.4</td><td>2.983333333333334</td><td>0.95810803905027</td><td>false</td></tr><tr><td>2022-03-31T23:00:00Z</td><td>12</td><td>9.5</td><td>189</td><td>3.2</td><td>1.6</td><td>4.4</td><td>2.983333333333334</td><td>0.95810803905027</td><td>false</td></tr><tr><td>2022-03-31T00:00:00Z</td><td>13</td><td>11.0</td><td>168</td><td>2.3</td><td>1.6</td><td>4.5</td><td>3.304166666666667</td><td>0.9901599197436071</td><td>false</td></tr><tr><td>2022-03-31T01:00:00Z</td><td>13</td><td>12.6</td><td>68</td><td>2.8</td><td>1.6</td><td>4.5</td><td>3.304166666666667</td><td>0.9901599197436071</td><td>false</td></tr><tr><td>2022-03-31T02:00:00Z</td><td>13</td><td>10.3</td><td>150</td><td>3.2</td><td>1.6</td><td>4.5</td><td>3.304166666666667</td><td>0.9901599197436071</td><td>false</td></tr><tr><td>2022-03-31T03:00:00Z</td><td>13</td><td>13.8</td><td>66</td><td>3.9</td><td>1.6</td><td>4.5</td><td>3.304166666666667</td><td>0.9901599197436071</td><td>false</td></tr><tr><td>2022-03-31T04:00:00Z</td><td>13</td><td>12.3</td><td>259</td><td>2.1</td><td>1.6</td><td>4.5</td><td>3.304166666666667</td><td>0.9901599197436071</td><td>false</td></tr><tr><td>2022-03-31T05:00:00Z</td><td>13</td><td>12.7</td><td>8</td><td>4.1</td><td>1.6</td><td>4.5</td><td>3.304166666666667</td><td>0.9901599197436071</td><td>false</td></tr><tr><td>2022-03-31T06:00:00Z</td><td>13</td><td>12.1</td><td>123</td><td>2.7</td><td>1.6</td><td>4.5</td><td>3.304166666666667</td><td>0.9901599197436071</td><td>false</td></tr><tr><td>2022-03-31T07:00:00Z</td><td>13</td><td>9.7</td><td>347</td><td>1.7</td><td>1.6</td><td>4.5</td><td>3.304166666666667</td><td>0.9901599197436071</td><td>false</td></tr><tr><td>2022-03-31T08:00:00Z</td><td>13</td><td>10.1</td><td>325</td><td>4.2</td><td>1.6</td><td>4.5</td><td>3.304166666666667</td><td>0.9901599197436071</td><td>false</td></tr><tr><td>2022-03-31T09:00:00Z</td><td>13</td><td>14.6</td><td>30</td><td>3.5</td><td>1.6</td><td>4.5</td><td>3.304166666666667</td><td>0.9901599197436071</td><td>false</td></tr><tr><td>2022-03-31T10:00:00Z</td><td>13</td><td>13.9</td><td>96</td><td>4.3</td><td>1.6</td><td>4.5</td><td>3.304166666666667</td><td>0.9901599197436071</td><td>false</td></tr><tr><td>2022-03-31T11:00:00Z</td><td>13</td><td>11.5</td><td>83</td><td>4.2</td><td>1.6</td><td>4.5</td><td>3.304166666666667</td><td>0.9901599197436071</td><td>false</td></tr><tr><td>2022-03-31T12:00:00Z</td><td>13</td><td>10.9</td><td>25</td><td>4.2</td><td>1.6</td><td>4.5</td><td>3.304166666666667</td><td>0.9901599197436071</td><td>false</td></tr><tr><td>2022-03-31T13:00:00Z</td><td>13</td><td>13.4</td><td>35</td><td>4.2</td><td>1.6</td><td>4.5</td><td>3.304166666666667</td><td>0.9901599197436071</td><td>false</td></tr><tr><td>2022-03-31T14:00:00Z</td><td>13</td><td>9.8</td><td>254</td><td>3.3</td><td>1.6</td><td>4.5</td><td>3.304166666666667</td><td>0.9901599197436071</td><td>false</td></tr><tr><td>2022-03-31T15:00:00Z</td><td>13</td><td>15.0</td><td>78</td><td>4.2</td><td>1.6</td><td>4.5</td><td>3.304166666666667</td><td>0.9901599197436071</td><td>false</td></tr><tr><td>2022-03-31T16:00:00Z</td><td>13</td><td>9.1</td><td>64</td><td>1.6</td><td>1.6</td><td>4.5</td><td>3.304166666666667</td><td>0.9901599197436071</td><td>false</td></tr><tr><td>2022-03-31T17:00:00Z</td><td>13</td><td>12.2</td><td>220</td><td>4.1</td><td>1.6</td><td>4.5</td><td>3.304166666666667</td><td>0.9901599197436071</td><td>false</td></tr><tr><td>2022-03-31T18:00:00Z</td><td>13</td><td>13.3</td><td>175</td><td>3.7</td><td>1.6</td><td>4.5</td><td>3.304166666666667</td><td>0.9901599197436071</td><td>false</td></tr><tr><td>2022-03-31T19:00:00Z</td><td>13</td><td>13.4</td><td>140</td><td>1.6</td><td>1.6</td><td>4.5</td><td>3.304166666666667</td><td>0.9901599197436071</td><td>false</td></tr><tr><td>2022-03-31T20:00:00Z</td><td>13</td><td>11.0</td><td>303</td><td>3.8</td><td>1.6</td><td>4.5</td><td>3.304166666666667</td><td>0.9901599197436071</td><td>false</td></tr><tr><td>2022-03-31T21:00:00Z</td><td>13</td><td>9.9</td><td>195</td><td>1.7</td><td>1.6</td><td>4.5</td><td>3.304166666666667</td><td>0.9901599197436071</td><td>false</td></tr><tr><td>2022-03-31T22:00:00Z</td><td>13</td><td>10.7</td><td>145</td><td>3.4</td><td>1.6</td><td>4.5</td><td>3.304166666666667</td><td>0.9901599197436071</td><td>false</td></tr><tr><td>2022-03-31T23:00:00Z</td><td>13</td><td>12.8</td><td>302</td><td>4.5</td><td>1.6</td><td>4.5</td><td>3.304166666666667</td><td>0.9901599197436071</td><td>false</td></tr><tr><td>2022-03-31T00:00:00Z</td><td>14</td><td>10.5</td><td>96</td><td>3.4</td><td>1.6</td><td>4.3</td><td>3.304166666666666</td><td>0.8492857186389383</td><td>false</td></tr><tr><td>2022-03-31T01:00:00Z</td><td>14</td><td>12.6</td><td>171</td><td>3.4</td><td>1.6</td><td>4.3</td><td>3.304166666666666</td><td>0.8492857186389383</td><td>false</td></tr><tr><td>2022-03-31T02:00:00Z</td><td>14</td><td>12.3</td><td>276</td><td>4.0</td><td>1.6</td><td>4.3</td><td>3.304166666666666</td><td>0.8492857186389383</td><td>false</td></tr><tr><td>2022-03-31T03:00:00Z</td><td>14</td><td>10.6</td><td>153</td><td>3.9</td><td>1.6</td><td>4.3</td><td>3.304166666666666</td><td>0.8492857186389383</td><td>false</td></tr><tr><td>2022-03-31T04:00:00Z</td><td>14</td><td>13.1</td><td>320</td><td>4.1</td><td>1.6</td><td>4.3</td><td>3.304166666666666</td><td>0.8492857186389383</td><td>false</td></tr><tr><td>2022-03-31T05:00:00Z</td><td>14</td><td>14.3</td><td>80</td><td>3.8</td><td>1.6</td><td>4.3</td><td>3.304166666666666</td><td>0.8492857186389383</td><td>false</td></tr><tr><td>2022-03-31T06:00:00Z</td><td>14</td><td>9.6</td><td>298</td><td>4.0</td><td>1.6</td><td>4.3</td><td>3.304166666666666</td><td>0.8492857186389383</td><td>false</td></tr><tr><td>2022-03-31T07:00:00Z</td><td>14</td><td>10.8</td><td>79</td><td>4.0</td><td>1.6</td><td>4.3</td><td>3.304166666666666</td><td>0.8492857186389383</td><td>false</td></tr><tr><td>2022-03-31T08:00:00Z</td><td>14</td><td>12.5</td><td>145</td><td>3.3</td><td>1.6</td><td>4.3</td><td>3.304166666666666</td><td>0.8492857186389383</td><td>false</td></tr><tr><td>2022-03-31T09:00:00Z</td><td>14</td><td>9.7</td><td>188</td><td>2.3</td><td>1.6</td><td>4.3</td><td>3.304166666666666</td><td>0.8492857186389383</td><td>false</td></tr><tr><td>2022-03-31T10:00:00Z</td><td>14</td><td>11.9</td><td>211</td><td>3.3</td><td>1.6</td><td>4.3</td><td>3.304166666666666</td><td>0.8492857186389383</td><td>false</td></tr><tr><td>2022-03-31T11:00:00Z</td><td>14</td><td>9.3</td><td>172</td><td>2.5</td><td>1.6</td><td>4.3</td><td>3.304166666666666</td><td>0.8492857186389383</td><td>false</td></tr><tr><td>2022-03-31T12:00:00Z</td><td>14</td><td>9.2</td><td>156</td><td>2.1</td><td>1.6</td><td>4.3</td><td>3.304166666666666</td><td>0.8492857186389383</td><td>false</td></tr><tr><td>2022-03-31T13:00:00Z</td><td>14</td><td>13.2</td><td>311</td><td>4.3</td><td>1.6</td><td>4.3</td><td>3.304166666666666</td><td>0.8492857186389383</td><td>false</td></tr><tr><td>2022-03-31T14:00:00Z</td><td>14</td><td>10.0</td><td>324</td><td>4.1</td><td>1.6</td><td>4.3</td><td>3.304166666666666</td><td>0.8492857186389383</td><td>false</td></tr><tr><td>2022-03-31T15:00:00Z</td><td>14</td><td>12.2</td><td>10</td><td>4.1</td><td>1.6</td><td>4.3</td><td>3.304166666666666</td><td>0.8492857186389383</td><td>false</td></tr><tr><td>2022-03-31T16:00:00Z</td><td>14</td><td>12.6</td><td>262</td><td>1.9</td><td>1.6</td><td>4.3</td><td>3.304166666666666</td><td>0.8492857186389383</td><td>false</td></tr><tr><td>2022-03-31T17:00:00Z</td><td>14</td><td>11.3</td><td>276</td><td>3.6</td><td>1.6</td><td>4.3</td><td>3.304166666666666</td><td>0.8492857186389383</td><td>false</td></tr><tr><td>2022-03-31T18:00:00Z</td><td>14</td><td>14.0</td><td>22</td><td>3.9</td><td>1.6</td><td>4.3</td><td>3.304166666666666</td><td>0.8492857186389383</td><td>false</td></tr><tr><td>2022-03-31T19:00:00Z</td><td>14</td><td>14.5</td><td>80</td><td>1.6</td><td>1.6</td><td>4.3</td><td>3.304166666666666</td><td>0.8492857186389383</td><td>true</td></tr><tr><td>2022-03-31T20:00:00Z</td><td>14</td><td>10.3</td><td>335</td><td>1.6</td><td>1.6</td><td>4.3</td><td>3.304166666666666</td><td>0.8492857186389383</td><td>true</td></tr><tr><td>2022-03-31T21:00:00Z</td><td>14</td><td>13.8</td><td>68</td><td>3.8</td><td>1.6</td><td>4.3</td><td>3.304166666666666</td><td>0.8492857186389383</td><td>false</td></tr><tr><td>2022-03-31T22:00:00Z</td><td>14</td><td>11.0</td><td>280</td><td>3.1</td><td>1.6</td><td>4.3</td><td>3.304166666666666</td><td>0.8492857186389383</td><td>false</td></tr><tr><td>2022-03-31T23:00:00Z</td><td>14</td><td>14.8</td><td>286</td><td>3.2</td><td>1.6</td><td>4.3</td><td>3.304166666666666</td><td>0.8492857186389383</td><td>false</td></tr><tr><td>2022-03-31T00:00:00Z</td><td>15</td><td>13.7</td><td>180</td><td>4.2</td><td>1.7</td><td>4.4</td><td>2.9166666666666674</td><td>0.8207455076976036</td><td>false</td></tr><tr><td>2022-03-31T01:00:00Z</td><td>15</td><td>12.2</td><td>325</td><td>2.8</td><td>1.7</td><td>4.4</td><td>2.9166666666666674</td><td>0.8207455076976036</td><td>false</td></tr><tr><td>2022-03-31T02:00:00Z</td><td>15</td><td>14.8</td><td>274</td><td>4.1</td><td>1.7</td><td>4.4</td><td>2.9166666666666674</td><td>0.8207455076976036</td><td>false</td></tr><tr><td>2022-03-31T03:00:00Z</td><td>15</td><td>9.5</td><td>53</td><td>2.7</td><td>1.7</td><td>4.4</td><td>2.9166666666666674</td><td>0.8207455076976036</td><td>false</td></tr><tr><td>2022-03-31T04:00:00Z</td><td>15</td><td>11.9</td><td>1</td><td>1.9</td><td>1.7</td><td>4.4</td><td>2.9166666666666674</td><td>0.8207455076976036</td><td>false</td></tr><tr><td>2022-03-31T05:00:00Z</td><td>15</td><td>10.0</td><td>62</td><td>2.5</td><td>1.7</td><td>4.4</td><td>2.9166666666666674</td><td>0.8207455076976036</td><td>false</td></tr><tr><td>2022-03-31T06:00:00Z</td><td>15</td><td>14.8</td><td>37</td><td>2.4</td><td>1.7</td><td>4.4</td><td>2.9166666666666674</td><td>0.8207455076976036</td><td>false</td></tr><tr><td>2022-03-31T07:00:00Z</td><td>15</td><td>10.0</td><td>80</td><td>4.4</td><td>1.7</td><td>4.4</td><td>2.9166666666666674</td><td>0.8207455076976036</td><td>false</td></tr><tr><td>2022-03-31T08:00:00Z</td><td>15</td><td>11.6</td><td>287</td><td>3.6</td><td>1.7</td><td>4.4</td><td>2.9166666666666674</td><td>0.8207455076976036</td><td>false</td></tr><tr><td>2022-03-31T09:00:00Z</td><td>15</td><td>12.3</td><td>334</td><td>2.3</td><td>1.7</td><td>4.4</td><td>2.9166666666666674</td><td>0.8207455076976036</td><td>false</td></tr><tr><td>2022-03-31T10:00:00Z</td><td>15</td><td>11.2</td><td>27</td><td>2.5</td><td>1.7</td><td>4.4</td><td>2.9166666666666674</td><td>0.8207455076976036</td><td>false</td></tr><tr><td>2022-03-31T11:00:00Z</td><td>15</td><td>14.5</td><td>160</td><td>2.3</td><td>1.7</td><td>4.4</td><td>2.9166666666666674</td><td>0.8207455076976036</td><td>false</td></tr><tr><td>2022-03-31T12:00:00Z</td><td>15</td><td>13.0</td><td>191</td><td>2.4</td><td>1.7</td><td>4.4</td><td>2.9166666666666674</td><td>0.8207455076976036</td><td>false</td></tr><tr><td>2022-03-31T13:00:00Z</td><td>15</td><td>9.0</td><td>254</td><td>2.7</td><td>1.7</td><td>4.4</td><td>2.9166666666666674</td><td>0.8207455076976036</td><td>false</td></tr><tr><td>2022-03-31T14:00:00Z</td><td>15</td><td>10.3</td><td>322</td><td>3.0</td><td>1.7</td><td>4.4</td><td>2.9166666666666674</td><td>0.8207455076976036</td><td>false</td></tr><tr><td>2022-03-31T15:00:00Z</td><td>15</td><td>13.1</td><td>24</td><td>3.1</td><td>1.7</td><td>4.4</td><td>2.9166666666666674</td><td>0.8207455076976036</td><td>false</td></tr><tr><td>2022-03-31T16:00:00Z</td><td>15</td><td>11.9</td><td>225</td><td>3.1</td><td>1.7</td><td>4.4</td><td>2.9166666666666674</td><td>0.8207455076976036</td><td>false</td></tr><tr><td>2022-03-31T17:00:00Z</td><td>15</td><td>12.7</td><td>94</td><td>4.2</td><td>1.7</td><td>4.4</td><td>2.9166666666666674</td><td>0.8207455076976036</td><td>false</td></tr><tr><td>2022-03-31T18:00:00Z</td><td>15</td><td>11.5</td><td>307</td><td>3.1</td><td>1.7</td><td>4.4</td><td>2.9166666666666674</td><td>0.8207455076976036</td><td>false</td></tr><tr><td>2022-03-31T19:00:00Z</td><td>15</td><td>11.1</td><td>241</td><td>2.1</td><td>1.7</td><td>4.4</td><td>2.9166666666666674</td><td>0.8207455076976036</td><td>false</td></tr><tr><td>2022-03-31T20:00:00Z</td><td>15</td><td>12.0</td><td>220</td><td>1.7</td><td>1.7</td><td>4.4</td><td>2.9166666666666674</td><td>0.8207455076976036</td><td>false</td></tr><tr><td>2022-03-31T21:00:00Z</td><td>15</td><td>13.5</td><td>137</td><td>2.2</td><td>1.7</td><td>4.4</td><td>2.9166666666666674</td><td>0.8207455076976036</td><td>false</td></tr><tr><td>2022-03-31T22:00:00Z</td><td>15</td><td>14.5</td><td>350</td><td>4.4</td><td>1.7</td><td>4.4</td><td>2.9166666666666674</td><td>0.8207455076976036</td><td>false</td></tr><tr><td>2022-03-31T23:00:00Z</td><td>15</td><td>12.0</td><td>56</td><td>2.3</td><td>1.7</td><td>4.4</td><td>2.9166666666666674</td><td>0.8207455076976036</td><td>false</td></tr></tbody></table></div>"
      ]
     },
     "metadata": {
      "application/vnd.databricks.v1+output": {
       "addedWidgets": {},
       "aggData": [],
       "aggError": "",
       "aggOverflow": false,
       "aggSchema": [],
       "aggSeriesLimitReached": false,
       "aggType": "",
       "arguments": {},
       "columnCustomDisplayInfos": {},
       "data": [
        [
         "2022-03-31T01:00:00Z",
         1,
         10.7,
         238,
         2.6,
         1.6,
         4.3,
         2.958333333333334,
         0.7706105240068714,
         false
        ],
        [
         "2022-03-31T02:00:00Z",
         1,
         15,
         295,
         4,
         1.6,
         4.3,
         2.958333333333334,
         0.7706105240068714,
         false
        ],
        [
         "2022-03-31T03:00:00Z",
         1,
         11.3,
         214,
         3.3,
         1.6,
         4.3,
         2.958333333333334,
         0.7706105240068714,
         false
        ],
        [
         "2022-03-31T04:00:00Z",
         1,
         9.8,
         312,
         2.5,
         1.6,
         4.3,
         2.958333333333334,
         0.7706105240068714,
         false
        ],
        [
         "2022-03-31T05:00:00Z",
         1,
         13,
         232,
         2.1,
         1.6,
         4.3,
         2.958333333333334,
         0.7706105240068714,
         false
        ],
        [
         "2022-03-31T06:00:00Z",
         1,
         10.5,
         304,
         3,
         1.6,
         4.3,
         2.958333333333334,
         0.7706105240068714,
         false
        ],
        [
         "2022-03-31T07:00:00Z",
         1,
         9.1,
         305,
         2.8,
         1.6,
         4.3,
         2.958333333333334,
         0.7706105240068714,
         false
        ],
        [
         "2022-03-31T08:00:00Z",
         1,
         14.7,
         131,
         3.2,
         1.6,
         4.3,
         2.958333333333334,
         0.7706105240068714,
         false
        ],
        [
         "2022-03-31T09:00:00Z",
         1,
         9.1,
         242,
         3.1,
         1.6,
         4.3,
         2.958333333333334,
         0.7706105240068714,
         false
        ],
        [
         "2022-03-31T10:00:00Z",
         1,
         10.2,
         279,
         2.2,
         1.6,
         4.3,
         2.958333333333334,
         0.7706105240068714,
         false
        ],
        [
         "2022-03-31T11:00:00Z",
         1,
         10,
         281,
         3.1,
         1.6,
         4.3,
         2.958333333333334,
         0.7706105240068714,
         false
        ],
        [
         "2022-03-31T12:00:00Z",
         1,
         9.2,
         289,
         3.9,
         1.6,
         4.3,
         2.958333333333334,
         0.7706105240068714,
         false
        ],
        [
         "2022-03-31T13:00:00Z",
         1,
         14.9,
         105,
         1.8,
         1.6,
         4.3,
         2.958333333333334,
         0.7706105240068714,
         false
        ],
        [
         "2022-03-31T14:00:00Z",
         1,
         14.7,
         26,
         1.6,
         1.6,
         4.3,
         2.958333333333334,
         0.7706105240068714,
         false
        ],
        [
         "2022-03-31T15:00:00Z",
         1,
         12.7,
         261,
         2.5,
         1.6,
         4.3,
         2.958333333333334,
         0.7706105240068714,
         false
        ],
        [
         "2022-03-31T16:00:00Z",
         1,
         12,
         316,
         3.7,
         1.6,
         4.3,
         2.958333333333334,
         0.7706105240068714,
         false
        ],
        [
         "2022-03-31T17:00:00Z",
         1,
         12,
         331,
         3.7,
         1.6,
         4.3,
         2.958333333333334,
         0.7706105240068714,
         false
        ],
        [
         "2022-03-31T18:00:00Z",
         1,
         13.7,
         77,
         4.3,
         1.6,
         4.3,
         2.958333333333334,
         0.7706105240068714,
         false
        ],
        [
         "2022-03-31T19:00:00Z",
         1,
         9.4,
         75,
         1.9,
         1.6,
         4.3,
         2.958333333333334,
         0.7706105240068714,
         false
        ],
        [
         "2022-03-31T20:00:00Z",
         1,
         14.6,
         254,
         4.1,
         1.6,
         4.3,
         2.958333333333334,
         0.7706105240068714,
         false
        ],
        [
         "2022-03-31T21:00:00Z",
         1,
         11.4,
         172,
         2.4,
         1.6,
         4.3,
         2.958333333333334,
         0.7706105240068714,
         false
        ],
        [
         "2022-03-31T22:00:00Z",
         1,
         11.1,
         168,
         3,
         1.6,
         4.3,
         2.958333333333334,
         0.7706105240068714,
         false
        ],
        [
         "2022-03-31T23:00:00Z",
         1,
         13.7,
         51,
         3.7,
         1.6,
         4.3,
         2.958333333333334,
         0.7706105240068714,
         false
        ],
        [
         "2022-03-31T00:00:00Z",
         1,
         14.7,
         186,
         2.5,
         1.6,
         4.3,
         2.958333333333334,
         0.7706105240068714,
         false
        ],
        [
         "2022-03-31T00:00:00Z",
         2,
         11.2,
         68,
         2.8,
         1.6,
         4.4,
         3.229166666666666,
         0.712301332587408,
         false
        ],
        [
         "2022-03-31T01:00:00Z",
         2,
         9.3,
         260,
         2.8,
         1.6,
         4.4,
         3.229166666666666,
         0.712301332587408,
         false
        ],
        [
         "2022-03-31T02:00:00Z",
         2,
         9.3,
         179,
         2.5,
         1.6,
         4.4,
         3.229166666666666,
         0.712301332587408,
         false
        ],
        [
         "2022-03-31T03:00:00Z",
         2,
         11.1,
         336,
         3.2,
         1.6,
         4.4,
         3.229166666666666,
         0.712301332587408,
         false
        ],
        [
         "2022-03-31T04:00:00Z",
         2,
         12.6,
         170,
         3.2,
         1.6,
         4.4,
         3.229166666666666,
         0.712301332587408,
         false
        ],
        [
         "2022-03-31T05:00:00Z",
         2,
         14.4,
         260,
         3.6,
         1.6,
         4.4,
         3.229166666666666,
         0.712301332587408,
         false
        ],
        [
         "2022-03-31T06:00:00Z",
         2,
         11.2,
         183,
         4.4,
         1.6,
         4.4,
         3.229166666666666,
         0.712301332587408,
         false
        ],
        [
         "2022-03-31T07:00:00Z",
         2,
         11.7,
         119,
         3.4,
         1.6,
         4.4,
         3.229166666666666,
         0.712301332587408,
         false
        ],
        [
         "2022-03-31T08:00:00Z",
         2,
         9.5,
         227,
         1.6,
         1.6,
         4.4,
         3.229166666666666,
         0.712301332587408,
         true
        ],
        [
         "2022-03-31T09:00:00Z",
         2,
         14.9,
         152,
         3.1,
         1.6,
         4.4,
         3.229166666666666,
         0.712301332587408,
         false
        ],
        [
         "2022-03-31T10:00:00Z",
         2,
         10.3,
         191,
         3.9,
         1.6,
         4.4,
         3.229166666666666,
         0.712301332587408,
         false
        ],
        [
         "2022-03-31T11:00:00Z",
         2,
         11.9,
         259,
         4.2,
         1.6,
         4.4,
         3.229166666666666,
         0.712301332587408,
         false
        ],
        [
         "2022-03-31T12:00:00Z",
         2,
         14.5,
         285,
         3,
         1.6,
         4.4,
         3.229166666666666,
         0.712301332587408,
         false
        ],
        [
         "2022-03-31T13:00:00Z",
         2,
         13.1,
         231,
         4.4,
         1.6,
         4.4,
         3.229166666666666,
         0.712301332587408,
         false
        ],
        [
         "2022-03-31T14:00:00Z",
         2,
         12.8,
         178,
         3.7,
         1.6,
         4.4,
         3.229166666666666,
         0.712301332587408,
         false
        ],
        [
         "2022-03-31T15:00:00Z",
         2,
         13.9,
         99,
         3.3,
         1.6,
         4.4,
         3.229166666666666,
         0.712301332587408,
         false
        ],
        [
         "2022-03-31T16:00:00Z",
         2,
         11.3,
         79,
         2,
         1.6,
         4.4,
         3.229166666666666,
         0.712301332587408,
         false
        ],
        [
         "2022-03-31T17:00:00Z",
         2,
         12.3,
         115,
         4,
         1.6,
         4.4,
         3.229166666666666,
         0.712301332587408,
         false
        ],
        [
         "2022-03-31T18:00:00Z",
         2,
         14.6,
         171,
         2.5,
         1.6,
         4.4,
         3.229166666666666,
         0.712301332587408,
         false
        ],
        [
         "2022-03-31T19:00:00Z",
         2,
         12.5,
         57,
         3.5,
         1.6,
         4.4,
         3.229166666666666,
         0.712301332587408,
         false
        ],
        [
         "2022-03-31T20:00:00Z",
         2,
         14.3,
         323,
         3.8,
         1.6,
         4.4,
         3.229166666666666,
         0.712301332587408,
         false
        ],
        [
         "2022-03-31T21:00:00Z",
         2,
         13.9,
         19,
         2.8,
         1.6,
         4.4,
         3.229166666666666,
         0.712301332587408,
         false
        ],
        [
         "2022-03-31T22:00:00Z",
         2,
         9.7,
         25,
         3.1,
         1.6,
         4.4,
         3.229166666666666,
         0.712301332587408,
         false
        ],
        [
         "2022-03-31T23:00:00Z",
         2,
         10.3,
         244,
         2.7,
         1.6,
         4.4,
         3.229166666666666,
         0.712301332587408,
         false
        ],
        [
         "2022-03-31T00:00:00Z",
         3,
         14.7,
         242,
         2.1,
         1.5,
         4.3,
         2.8791666666666664,
         0.9623247064165559,
         false
        ],
        [
         "2022-03-31T01:00:00Z",
         3,
         15,
         306,
         3.3,
         1.5,
         4.3,
         2.8791666666666664,
         0.9623247064165559,
         false
        ],
        [
         "2022-03-31T02:00:00Z",
         3,
         10.7,
         106,
         3.6,
         1.5,
         4.3,
         2.8791666666666664,
         0.9623247064165559,
         false
        ],
        [
         "2022-03-31T03:00:00Z",
         3,
         10,
         140,
         2.8,
         1.5,
         4.3,
         2.8791666666666664,
         0.9623247064165559,
         false
        ],
        [
         "2022-03-31T04:00:00Z",
         3,
         12.1,
         34,
         3.4,
         1.5,
         4.3,
         2.8791666666666664,
         0.9623247064165559,
         false
        ],
        [
         "2022-03-31T05:00:00Z",
         3,
         14.2,
         195,
         3.3,
         1.5,
         4.3,
         2.8791666666666664,
         0.9623247064165559,
         false
        ],
        [
         "2022-03-31T06:00:00Z",
         3,
         9.5,
         349,
         4.1,
         1.5,
         4.3,
         2.8791666666666664,
         0.9623247064165559,
         false
        ],
        [
         "2022-03-31T07:00:00Z",
         3,
         12.4,
         26,
         1.8,
         1.5,
         4.3,
         2.8791666666666664,
         0.9623247064165559,
         false
        ],
        [
         "2022-03-31T08:00:00Z",
         3,
         9.7,
         236,
         3.8,
         1.5,
         4.3,
         2.8791666666666664,
         0.9623247064165559,
         false
        ],
        [
         "2022-03-31T09:00:00Z",
         3,
         14.4,
         20,
         1.5,
         1.5,
         4.3,
         2.8791666666666664,
         0.9623247064165559,
         false
        ],
        [
         "2022-03-31T10:00:00Z",
         3,
         9,
         312,
         4,
         1.5,
         4.3,
         2.8791666666666664,
         0.9623247064165559,
         false
        ],
        [
         "2022-03-31T11:00:00Z",
         3,
         9.4,
         258,
         1.8,
         1.5,
         4.3,
         2.8791666666666664,
         0.9623247064165559,
         false
        ],
        [
         "2022-03-31T12:00:00Z",
         3,
         10.7,
         111,
         2.4,
         1.5,
         4.3,
         2.8791666666666664,
         0.9623247064165559,
         false
        ],
        [
         "2022-03-31T13:00:00Z",
         3,
         9.7,
         276,
         4.1,
         1.5,
         4.3,
         2.8791666666666664,
         0.9623247064165559,
         false
        ],
        [
         "2022-03-31T14:00:00Z",
         3,
         10.5,
         156,
         3.7,
         1.5,
         4.3,
         2.8791666666666664,
         0.9623247064165559,
         false
        ],
        [
         "2022-03-31T15:00:00Z",
         3,
         10,
         17,
         1.6,
         1.5,
         4.3,
         2.8791666666666664,
         0.9623247064165559,
         false
        ],
        [
         "2022-03-31T16:00:00Z",
         3,
         12.6,
         108,
         3,
         1.5,
         4.3,
         2.8791666666666664,
         0.9623247064165559,
         false
        ],
        [
         "2022-03-31T17:00:00Z",
         3,
         14.9,
         84,
         4.3,
         1.5,
         4.3,
         2.8791666666666664,
         0.9623247064165559,
         false
        ],
        [
         "2022-03-31T18:00:00Z",
         3,
         14.2,
         125,
         2.3,
         1.5,
         4.3,
         2.8791666666666664,
         0.9623247064165559,
         false
        ],
        [
         "2022-03-31T19:00:00Z",
         3,
         13.4,
         211,
         1.6,
         1.5,
         4.3,
         2.8791666666666664,
         0.9623247064165559,
         false
        ],
        [
         "2022-03-31T20:00:00Z",
         3,
         13,
         281,
         1.6,
         1.5,
         4.3,
         2.8791666666666664,
         0.9623247064165559,
         false
        ],
        [
         "2022-03-31T21:00:00Z",
         3,
         9.1,
         149,
         4,
         1.5,
         4.3,
         2.8791666666666664,
         0.9623247064165559,
         false
        ],
        [
         "2022-03-31T22:00:00Z",
         3,
         12.7,
         97,
         3,
         1.5,
         4.3,
         2.8791666666666664,
         0.9623247064165559,
         false
        ],
        [
         "2022-03-31T23:00:00Z",
         3,
         10.1,
         112,
         2,
         1.5,
         4.3,
         2.8791666666666664,
         0.9623247064165559,
         false
        ],
        [
         "2022-03-31T00:00:00Z",
         4,
         9.6,
         39,
         3.2,
         1.7,
         4.4,
         3.033333333333333,
         0.8937788203521859,
         false
        ],
        [
         "2022-03-31T01:00:00Z",
         4,
         10.4,
         42,
         1.8,
         1.7,
         4.4,
         3.033333333333333,
         0.8937788203521859,
         false
        ],
        [
         "2022-03-31T02:00:00Z",
         4,
         13.9,
         262,
         2.2,
         1.7,
         4.4,
         3.033333333333333,
         0.8937788203521859,
         false
        ],
        [
         "2022-03-31T03:00:00Z",
         4,
         11.3,
         237,
         2,
         1.7,
         4.4,
         3.033333333333333,
         0.8937788203521859,
         false
        ],
        [
         "2022-03-31T04:00:00Z",
         4,
         11.5,
         144,
         4.1,
         1.7,
         4.4,
         3.033333333333333,
         0.8937788203521859,
         false
        ],
        [
         "2022-03-31T05:00:00Z",
         4,
         14.8,
         154,
         2.1,
         1.7,
         4.4,
         3.033333333333333,
         0.8937788203521859,
         false
        ],
        [
         "2022-03-31T06:00:00Z",
         4,
         9.8,
         130,
         2.7,
         1.7,
         4.4,
         3.033333333333333,
         0.8937788203521859,
         false
        ],
        [
         "2022-03-31T07:00:00Z",
         4,
         13.5,
         46,
         1.7,
         1.7,
         4.4,
         3.033333333333333,
         0.8937788203521859,
         false
        ],
        [
         "2022-03-31T08:00:00Z",
         4,
         12.9,
         190,
         4.2,
         1.7,
         4.4,
         3.033333333333333,
         0.8937788203521859,
         false
        ],
        [
         "2022-03-31T09:00:00Z",
         4,
         9.3,
         230,
         3.9,
         1.7,
         4.4,
         3.033333333333333,
         0.8937788203521859,
         false
        ],
        [
         "2022-03-31T10:00:00Z",
         4,
         11.7,
         127,
         4.4,
         1.7,
         4.4,
         3.033333333333333,
         0.8937788203521859,
         false
        ],
        [
         "2022-03-31T11:00:00Z",
         4,
         13.1,
         92,
         3.8,
         1.7,
         4.4,
         3.033333333333333,
         0.8937788203521859,
         false
        ],
        [
         "2022-03-31T12:00:00Z",
         4,
         9.4,
         348,
         2.9,
         1.7,
         4.4,
         3.033333333333333,
         0.8937788203521859,
         false
        ],
        [
         "2022-03-31T13:00:00Z",
         4,
         9.1,
         280,
         1.9,
         1.7,
         4.4,
         3.033333333333333,
         0.8937788203521859,
         false
        ],
        [
         "2022-03-31T14:00:00Z",
         4,
         10.4,
         207,
         2.5,
         1.7,
         4.4,
         3.033333333333333,
         0.8937788203521859,
         false
        ],
        [
         "2022-03-31T15:00:00Z",
         4,
         12.6,
         161,
         3.9,
         1.7,
         4.4,
         3.033333333333333,
         0.8937788203521859,
         false
        ],
        [
         "2022-03-31T16:00:00Z",
         4,
         11.4,
         148,
         4,
         1.7,
         4.4,
         3.033333333333333,
         0.8937788203521859,
         false
        ],
        [
         "2022-03-31T17:00:00Z",
         4,
         12.6,
         75,
         2.6,
         1.7,
         4.4,
         3.033333333333333,
         0.8937788203521859,
         false
        ],
        [
         "2022-03-31T18:00:00Z",
         4,
         10.9,
         237,
         4.4,
         1.7,
         4.4,
         3.033333333333333,
         0.8937788203521859,
         false
        ],
        [
         "2022-03-31T19:00:00Z",
         4,
         12,
         163,
         3.7,
         1.7,
         4.4,
         3.033333333333333,
         0.8937788203521859,
         false
        ],
        [
         "2022-03-31T20:00:00Z",
         4,
         11.9,
         231,
         3.2,
         1.7,
         4.4,
         3.033333333333333,
         0.8937788203521859,
         false
        ],
        [
         "2022-03-31T21:00:00Z",
         4,
         11.2,
         238,
         2.4,
         1.7,
         4.4,
         3.033333333333333,
         0.8937788203521859,
         false
        ],
        [
         "2022-03-31T22:00:00Z",
         4,
         12.8,
         290,
         2.5,
         1.7,
         4.4,
         3.033333333333333,
         0.8937788203521859,
         false
        ],
        [
         "2022-03-31T23:00:00Z",
         4,
         10.1,
         43,
         2.7,
         1.7,
         4.4,
         3.033333333333333,
         0.8937788203521859,
         false
        ],
        [
         "2022-03-31T00:00:00Z",
         5,
         10.4,
         218,
         2.6,
         1.5,
         4.2,
         2.9375000000000004,
         0.8641721346241557,
         false
        ],
        [
         "2022-03-31T01:00:00Z",
         5,
         12.5,
         88,
         1.7,
         1.5,
         4.2,
         2.9375000000000004,
         0.8641721346241557,
         false
        ],
        [
         "2022-03-31T02:00:00Z",
         5,
         11.7,
         278,
         2.1,
         1.5,
         4.2,
         2.9375000000000004,
         0.8641721346241557,
         false
        ],
        [
         "2022-03-31T03:00:00Z",
         5,
         11.5,
         140,
         3.8,
         1.5,
         4.2,
         2.9375000000000004,
         0.8641721346241557,
         false
        ],
        [
         "2022-03-31T04:00:00Z",
         5,
         14,
         238,
         3,
         1.5,
         4.2,
         2.9375000000000004,
         0.8641721346241557,
         false
        ],
        [
         "2022-03-31T05:00:00Z",
         5,
         10.8,
         51,
         3.8,
         1.5,
         4.2,
         2.9375000000000004,
         0.8641721346241557,
         false
        ],
        [
         "2022-03-31T06:00:00Z",
         5,
         10.3,
         20,
         2.3,
         1.5,
         4.2,
         2.9375000000000004,
         0.8641721346241557,
         false
        ],
        [
         "2022-03-31T07:00:00Z",
         5,
         14,
         306,
         2.5,
         1.5,
         4.2,
         2.9375000000000004,
         0.8641721346241557,
         false
        ],
        [
         "2022-03-31T08:00:00Z",
         5,
         14.4,
         321,
         3,
         1.5,
         4.2,
         2.9375000000000004,
         0.8641721346241557,
         false
        ],
        [
         "2022-03-31T09:00:00Z",
         5,
         10.9,
         262,
         3.7,
         1.5,
         4.2,
         2.9375000000000004,
         0.8641721346241557,
         false
        ],
        [
         "2022-03-31T10:00:00Z",
         5,
         9.4,
         65,
         1.8,
         1.5,
         4.2,
         2.9375000000000004,
         0.8641721346241557,
         false
        ],
        [
         "2022-03-31T11:00:00Z",
         5,
         12,
         356,
         4,
         1.5,
         4.2,
         2.9375000000000004,
         0.8641721346241557,
         false
        ],
        [
         "2022-03-31T12:00:00Z",
         5,
         12.1,
         317,
         4.2,
         1.5,
         4.2,
         2.9375000000000004,
         0.8641721346241557,
         false
        ],
        [
         "2022-03-31T13:00:00Z",
         5,
         12.3,
         231,
         4.1,
         1.5,
         4.2,
         2.9375000000000004,
         0.8641721346241557,
         false
        ],
        [
         "2022-03-31T14:00:00Z",
         5,
         10.9,
         341,
         2.5,
         1.5,
         4.2,
         2.9375000000000004,
         0.8641721346241557,
         false
        ],
        [
         "2022-03-31T15:00:00Z",
         5,
         12.9,
         278,
         4,
         1.5,
         4.2,
         2.9375000000000004,
         0.8641721346241557,
         false
        ],
        [
         "2022-03-31T16:00:00Z",
         5,
         14.8,
         193,
         2.3,
         1.5,
         4.2,
         2.9375000000000004,
         0.8641721346241557,
         false
        ],
        [
         "2022-03-31T17:00:00Z",
         5,
         13.5,
         162,
         2.3,
         1.5,
         4.2,
         2.9375000000000004,
         0.8641721346241557,
         false
        ],
        [
         "2022-03-31T18:00:00Z",
         5,
         9.9,
         197,
         3.9,
         1.5,
         4.2,
         2.9375000000000004,
         0.8641721346241557,
         false
        ],
        [
         "2022-03-31T19:00:00Z",
         5,
         14.4,
         203,
         3.7,
         1.5,
         4.2,
         2.9375000000000004,
         0.8641721346241557,
         false
        ],
        [
         "2022-03-31T20:00:00Z",
         5,
         12.1,
         134,
         1.5,
         1.5,
         4.2,
         2.9375000000000004,
         0.8641721346241557,
         false
        ],
        [
         "2022-03-31T21:00:00Z",
         5,
         9.9,
         262,
         2.9,
         1.5,
         4.2,
         2.9375000000000004,
         0.8641721346241557,
         false
        ],
        [
         "2022-03-31T22:00:00Z",
         5,
         11.9,
         272,
         2.9,
         1.5,
         4.2,
         2.9375000000000004,
         0.8641721346241557,
         false
        ],
        [
         "2022-03-31T23:00:00Z",
         5,
         13.5,
         55,
         1.9,
         1.5,
         4.2,
         2.9375000000000004,
         0.8641721346241557,
         false
        ],
        [
         "2022-03-31T00:00:00Z",
         6,
         14,
         321,
         1.9,
         1.6,
         4,
         2.733333333333333,
         0.7316845760575931,
         false
        ],
        [
         "2022-03-31T01:00:00Z",
         6,
         10.4,
         247,
         2.9,
         1.6,
         4,
         2.733333333333333,
         0.7316845760575931,
         false
        ],
        [
         "2022-03-31T02:00:00Z",
         6,
         13.7,
         10,
         4,
         1.6,
         4,
         2.733333333333333,
         0.7316845760575931,
         false
        ],
        [
         "2022-03-31T03:00:00Z",
         6,
         13.9,
         353,
         2.1,
         1.6,
         4,
         2.733333333333333,
         0.7316845760575931,
         false
        ],
        [
         "2022-03-31T04:00:00Z",
         6,
         11,
         79,
         4,
         1.6,
         4,
         2.733333333333333,
         0.7316845760575931,
         false
        ],
        [
         "2022-03-31T05:00:00Z",
         6,
         14.2,
         353,
         2.4,
         1.6,
         4,
         2.733333333333333,
         0.7316845760575931,
         false
        ],
        [
         "2022-03-31T06:00:00Z",
         6,
         14.8,
         122,
         1.9,
         1.6,
         4,
         2.733333333333333,
         0.7316845760575931,
         false
        ],
        [
         "2022-03-31T07:00:00Z",
         6,
         10.9,
         154,
         3.1,
         1.6,
         4,
         2.733333333333333,
         0.7316845760575931,
         false
        ],
        [
         "2022-03-31T08:00:00Z",
         6,
         11,
         245,
         2.7,
         1.6,
         4,
         2.733333333333333,
         0.7316845760575931,
         false
        ],
        [
         "2022-03-31T09:00:00Z",
         6,
         11.1,
         234,
         1.9,
         1.6,
         4,
         2.733333333333333,
         0.7316845760575931,
         false
        ],
        [
         "2022-03-31T10:00:00Z",
         6,
         12.6,
         169,
         3.9,
         1.6,
         4,
         2.733333333333333,
         0.7316845760575931,
         false
        ],
        [
         "2022-03-31T11:00:00Z",
         6,
         11.3,
         66,
         3.4,
         1.6,
         4,
         2.733333333333333,
         0.7316845760575931,
         false
        ],
        [
         "2022-03-31T12:00:00Z",
         6,
         10.6,
         169,
         3.1,
         1.6,
         4,
         2.733333333333333,
         0.7316845760575931,
         false
        ],
        [
         "2022-03-31T13:00:00Z",
         6,
         14.2,
         119,
         1.9,
         1.6,
         4,
         2.733333333333333,
         0.7316845760575931,
         false
        ],
        [
         "2022-03-31T14:00:00Z",
         6,
         13.6,
         253,
         2.3,
         1.6,
         4,
         2.733333333333333,
         0.7316845760575931,
         false
        ],
        [
         "2022-03-31T15:00:00Z",
         6,
         11.6,
         121,
         3.3,
         1.6,
         4,
         2.733333333333333,
         0.7316845760575931,
         false
        ],
        [
         "2022-03-31T16:00:00Z",
         6,
         12.6,
         159,
         2.1,
         1.6,
         4,
         2.733333333333333,
         0.7316845760575931,
         false
        ],
        [
         "2022-03-31T17:00:00Z",
         6,
         15,
         86,
         1.6,
         1.6,
         4,
         2.733333333333333,
         0.7316845760575931,
         false
        ],
        [
         "2022-03-31T18:00:00Z",
         6,
         13.9,
         274,
         2.6,
         1.6,
         4,
         2.733333333333333,
         0.7316845760575931,
         false
        ],
        [
         "2022-03-31T19:00:00Z",
         6,
         14.8,
         9,
         2.2,
         1.6,
         4,
         2.733333333333333,
         0.7316845760575931,
         false
        ],
        [
         "2022-03-31T20:00:00Z",
         6,
         11,
         50,
         2.7,
         1.6,
         4,
         2.733333333333333,
         0.7316845760575931,
         false
        ],
        [
         "2022-03-31T21:00:00Z",
         6,
         9.3,
         339,
         3.8,
         1.6,
         4,
         2.733333333333333,
         0.7316845760575931,
         false
        ],
        [
         "2022-03-31T22:00:00Z",
         6,
         10.2,
         332,
         2.8,
         1.6,
         4,
         2.733333333333333,
         0.7316845760575931,
         false
        ],
        [
         "2022-03-31T23:00:00Z",
         6,
         9.9,
         37,
         3,
         1.6,
         4,
         2.733333333333333,
         0.7316845760575931,
         false
        ],
        [
         "2022-03-31T00:00:00Z",
         7,
         12.7,
         157,
         3.3,
         1.6,
         4.3,
         2.766666666666667,
         0.792171844920064,
         false
        ],
        [
         "2022-03-31T01:00:00Z",
         7,
         14.9,
         308,
         4.3,
         1.6,
         4.3,
         2.766666666666667,
         0.792171844920064,
         false
        ],
        [
         "2022-03-31T02:00:00Z",
         7,
         9.9,
         285,
         1.8,
         1.6,
         4.3,
         2.766666666666667,
         0.792171844920064,
         false
        ],
        [
         "2022-03-31T03:00:00Z",
         7,
         12.2,
         293,
         2,
         1.6,
         4.3,
         2.766666666666667,
         0.792171844920064,
         false
        ],
        [
         "2022-03-31T04:00:00Z",
         7,
         12.3,
         205,
         3.2,
         1.6,
         4.3,
         2.766666666666667,
         0.792171844920064,
         false
        ],
        [
         "2022-03-31T05:00:00Z",
         7,
         10,
         137,
         3.9,
         1.6,
         4.3,
         2.766666666666667,
         0.792171844920064,
         false
        ],
        [
         "2022-03-31T06:00:00Z",
         7,
         11.2,
         178,
         2.5,
         1.6,
         4.3,
         2.766666666666667,
         0.792171844920064,
         false
        ],
        [
         "2022-03-31T07:00:00Z",
         7,
         9.1,
         142,
         1.6,
         1.6,
         4.3,
         2.766666666666667,
         0.792171844920064,
         false
        ],
        [
         "2022-03-31T08:00:00Z",
         7,
         13.3,
         95,
         3.8,
         1.6,
         4.3,
         2.766666666666667,
         0.792171844920064,
         false
        ],
        [
         "2022-03-31T09:00:00Z",
         7,
         12.6,
         103,
         1.8,
         1.6,
         4.3,
         2.766666666666667,
         0.792171844920064,
         false
        ],
        [
         "2022-03-31T10:00:00Z",
         7,
         9.4,
         133,
         2.5,
         1.6,
         4.3,
         2.766666666666667,
         0.792171844920064,
         false
        ],
        [
         "2022-03-31T11:00:00Z",
         7,
         14.8,
         72,
         2.2,
         1.6,
         4.3,
         2.766666666666667,
         0.792171844920064,
         false
        ],
        [
         "2022-03-31T12:00:00Z",
         7,
         13.4,
         267,
         3.1,
         1.6,
         4.3,
         2.766666666666667,
         0.792171844920064,
         false
        ],
        [
         "2022-03-31T13:00:00Z",
         7,
         14.6,
         212,
         3.6,
         1.6,
         4.3,
         2.766666666666667,
         0.792171844920064,
         false
        ],
        [
         "2022-03-31T14:00:00Z",
         7,
         9.3,
         161,
         3.2,
         1.6,
         4.3,
         2.766666666666667,
         0.792171844920064,
         false
        ],
        [
         "2022-03-31T15:00:00Z",
         7,
         13.1,
         70,
         2.4,
         1.6,
         4.3,
         2.766666666666667,
         0.792171844920064,
         false
        ],
        [
         "2022-03-31T16:00:00Z",
         7,
         10.8,
         339,
         1.7,
         1.6,
         4.3,
         2.766666666666667,
         0.792171844920064,
         false
        ],
        [
         "2022-03-31T17:00:00Z",
         7,
         10.6,
         304,
         3.3,
         1.6,
         4.3,
         2.766666666666667,
         0.792171844920064,
         false
        ],
        [
         "2022-03-31T18:00:00Z",
         7,
         9.6,
         188,
         1.9,
         1.6,
         4.3,
         2.766666666666667,
         0.792171844920064,
         false
        ],
        [
         "2022-03-31T19:00:00Z",
         7,
         12.1,
         357,
         2.6,
         1.6,
         4.3,
         2.766666666666667,
         0.792171844920064,
         false
        ],
        [
         "2022-03-31T20:00:00Z",
         7,
         14,
         240,
         3.2,
         1.6,
         4.3,
         2.766666666666667,
         0.792171844920064,
         false
        ],
        [
         "2022-03-31T21:00:00Z",
         7,
         12.3,
         318,
         2.2,
         1.6,
         4.3,
         2.766666666666667,
         0.792171844920064,
         false
        ],
        [
         "2022-03-31T22:00:00Z",
         7,
         10.5,
         285,
         3.8,
         1.6,
         4.3,
         2.766666666666667,
         0.792171844920064,
         false
        ],
        [
         "2022-03-31T23:00:00Z",
         7,
         11.1,
         225,
         2.5,
         1.6,
         4.3,
         2.766666666666667,
         0.792171844920064,
         false
        ],
        [
         "2022-03-31T00:00:00Z",
         8,
         9.9,
         269,
         4.1,
         1.7,
         4.4,
         3.3958333333333326,
         0.9630021746630676,
         false
        ],
        [
         "2022-03-31T01:00:00Z",
         8,
         14.7,
         10,
         3.4,
         1.7,
         4.4,
         3.3958333333333326,
         0.9630021746630676,
         false
        ],
        [
         "2022-03-31T02:00:00Z",
         8,
         10.7,
         164,
         3.8,
         1.7,
         4.4,
         3.3958333333333326,
         0.9630021746630676,
         false
        ],
        [
         "2022-03-31T03:00:00Z",
         8,
         10.4,
         139,
         1.7,
         1.7,
         4.4,
         3.3958333333333326,
         0.9630021746630676,
         false
        ],
        [
         "2022-03-31T04:00:00Z",
         8,
         10.2,
         283,
         4.4,
         1.7,
         4.4,
         3.3958333333333326,
         0.9630021746630676,
         false
        ],
        [
         "2022-03-31T05:00:00Z",
         8,
         12.2,
         256,
         2.4,
         1.7,
         4.4,
         3.3958333333333326,
         0.9630021746630676,
         false
        ],
        [
         "2022-03-31T06:00:00Z",
         8,
         10,
         196,
         2.9,
         1.7,
         4.4,
         3.3958333333333326,
         0.9630021746630676,
         false
        ],
        [
         "2022-03-31T07:00:00Z",
         8,
         11.9,
         57,
         3.5,
         1.7,
         4.4,
         3.3958333333333326,
         0.9630021746630676,
         false
        ],
        [
         "2022-03-31T08:00:00Z",
         8,
         11.2,
         95,
         1.7,
         1.7,
         4.4,
         3.3958333333333326,
         0.9630021746630676,
         false
        ],
        [
         "2022-03-31T09:00:00Z",
         8,
         12.8,
         209,
         4.2,
         1.7,
         4.4,
         3.3958333333333326,
         0.9630021746630676,
         false
        ],
        [
         "2022-03-31T10:00:00Z",
         8,
         13.8,
         318,
         4,
         1.7,
         4.4,
         3.3958333333333326,
         0.9630021746630676,
         false
        ],
        [
         "2022-03-31T11:00:00Z",
         8,
         11.9,
         1,
         4.4,
         1.7,
         4.4,
         3.3958333333333326,
         0.9630021746630676,
         false
        ],
        [
         "2022-03-31T12:00:00Z",
         8,
         11.2,
         189,
         4.4,
         1.7,
         4.4,
         3.3958333333333326,
         0.9630021746630676,
         false
        ],
        [
         "2022-03-31T13:00:00Z",
         8,
         12.7,
         110,
         2.4,
         1.7,
         4.4,
         3.3958333333333326,
         0.9630021746630676,
         false
        ],
        [
         "2022-03-31T14:00:00Z",
         8,
         9.6,
         288,
         4.4,
         1.7,
         4.4,
         3.3958333333333326,
         0.9630021746630676,
         false
        ],
        [
         "2022-03-31T15:00:00Z",
         8,
         10.6,
         271,
         4.2,
         1.7,
         4.4,
         3.3958333333333326,
         0.9630021746630676,
         false
        ],
        [
         "2022-03-31T16:00:00Z",
         8,
         10.3,
         124,
         3.3,
         1.7,
         4.4,
         3.3958333333333326,
         0.9630021746630676,
         false
        ],
        [
         "2022-03-31T17:00:00Z",
         8,
         11,
         312,
         3.8,
         1.7,
         4.4,
         3.3958333333333326,
         0.9630021746630676,
         false
        ],
        [
         "2022-03-31T18:00:00Z",
         8,
         10.8,
         108,
         3.6,
         1.7,
         4.4,
         3.3958333333333326,
         0.9630021746630676,
         false
        ],
        [
         "2022-03-31T19:00:00Z",
         8,
         13,
         307,
         3.1,
         1.7,
         4.4,
         3.3958333333333326,
         0.9630021746630676,
         false
        ],
        [
         "2022-03-31T20:00:00Z",
         8,
         9.4,
         21,
         1.8,
         1.7,
         4.4,
         3.3958333333333326,
         0.9630021746630676,
         false
        ],
        [
         "2022-03-31T21:00:00Z",
         8,
         11.2,
         161,
         1.7,
         1.7,
         4.4,
         3.3958333333333326,
         0.9630021746630676,
         false
        ],
        [
         "2022-03-31T22:00:00Z",
         8,
         11.5,
         212,
         4.4,
         1.7,
         4.4,
         3.3958333333333326,
         0.9630021746630676,
         false
        ],
        [
         "2022-03-31T23:00:00Z",
         8,
         14.3,
         21,
         3.9,
         1.7,
         4.4,
         3.3958333333333326,
         0.9630021746630676,
         false
        ],
        [
         "2022-03-31T00:00:00Z",
         9,
         13.5,
         299,
         1.6,
         1.6,
         4.3,
         3.275,
         0.7484767139359433,
         true
        ],
        [
         "2022-03-31T01:00:00Z",
         9,
         10.8,
         208,
         4.1,
         1.6,
         4.3,
         3.275,
         0.7484767139359433,
         false
        ],
        [
         "2022-03-31T02:00:00Z",
         9,
         10.4,
         349,
         3.6,
         1.6,
         4.3,
         3.275,
         0.7484767139359433,
         false
        ],
        [
         "2022-03-31T03:00:00Z",
         9,
         13.8,
         12,
         3.2,
         1.6,
         4.3,
         3.275,
         0.7484767139359433,
         false
        ],
        [
         "2022-03-31T04:00:00Z",
         9,
         11.8,
         235,
         4,
         1.6,
         4.3,
         3.275,
         0.7484767139359433,
         false
        ],
        [
         "2022-03-31T05:00:00Z",
         9,
         12.4,
         314,
         2.5,
         1.6,
         4.3,
         3.275,
         0.7484767139359433,
         false
        ],
        [
         "2022-03-31T06:00:00Z",
         9,
         14.6,
         300,
         4.3,
         1.6,
         4.3,
         3.275,
         0.7484767139359433,
         false
        ],
        [
         "2022-03-31T07:00:00Z",
         9,
         12.6,
         272,
         3.6,
         1.6,
         4.3,
         3.275,
         0.7484767139359433,
         false
        ],
        [
         "2022-03-31T08:00:00Z",
         9,
         13.8,
         96,
         2.3,
         1.6,
         4.3,
         3.275,
         0.7484767139359433,
         false
        ],
        [
         "2022-03-31T09:00:00Z",
         9,
         12.1,
         324,
         3.8,
         1.6,
         4.3,
         3.275,
         0.7484767139359433,
         false
        ],
        [
         "2022-03-31T10:00:00Z",
         9,
         13.8,
         4,
         3.6,
         1.6,
         4.3,
         3.275,
         0.7484767139359433,
         false
        ],
        [
         "2022-03-31T11:00:00Z",
         9,
         13.2,
         214,
         3.5,
         1.6,
         4.3,
         3.275,
         0.7484767139359433,
         false
        ],
        [
         "2022-03-31T12:00:00Z",
         9,
         13.4,
         351,
         2.5,
         1.6,
         4.3,
         3.275,
         0.7484767139359433,
         false
        ],
        [
         "2022-03-31T13:00:00Z",
         9,
         10.4,
         112,
         3.6,
         1.6,
         4.3,
         3.275,
         0.7484767139359433,
         false
        ],
        [
         "2022-03-31T14:00:00Z",
         9,
         11.3,
         136,
         3.6,
         1.6,
         4.3,
         3.275,
         0.7484767139359433,
         false
        ],
        [
         "2022-03-31T15:00:00Z",
         9,
         10.4,
         109,
         3.6,
         1.6,
         4.3,
         3.275,
         0.7484767139359433,
         false
        ],
        [
         "2022-03-31T16:00:00Z",
         9,
         11.2,
         21,
         2.3,
         1.6,
         4.3,
         3.275,
         0.7484767139359433,
         false
        ],
        [
         "2022-03-31T17:00:00Z",
         9,
         11.9,
         133,
         3.8,
         1.6,
         4.3,
         3.275,
         0.7484767139359433,
         false
        ],
        [
         "2022-03-31T18:00:00Z",
         9,
         12.3,
         234,
         2.3,
         1.6,
         4.3,
         3.275,
         0.7484767139359433,
         false
        ],
        [
         "2022-03-31T19:00:00Z",
         9,
         14.9,
         145,
         3.8,
         1.6,
         4.3,
         3.275,
         0.7484767139359433,
         false
        ],
        [
         "2022-03-31T20:00:00Z",
         9,
         9.8,
         221,
         4.3,
         1.6,
         4.3,
         3.275,
         0.7484767139359433,
         false
        ],
        [
         "2022-03-31T21:00:00Z",
         9,
         9.4,
         307,
         2.2,
         1.6,
         4.3,
         3.275,
         0.7484767139359433,
         false
        ],
        [
         "2022-03-31T22:00:00Z",
         9,
         13.3,
         25,
         3.4,
         1.6,
         4.3,
         3.275,
         0.7484767139359433,
         false
        ],
        [
         "2022-03-31T23:00:00Z",
         9,
         15,
         102,
         3.1,
         1.6,
         4.3,
         3.275,
         0.7484767139359433,
         false
        ],
        [
         "2022-03-31T00:00:00Z",
         10,
         12.2,
         118,
         2.6,
         1.6,
         4.3,
         2.704166666666666,
         0.7686686212376318,
         false
        ],
        [
         "2022-03-31T01:00:00Z",
         10,
         9.1,
         292,
         2.3,
         1.6,
         4.3,
         2.704166666666666,
         0.7686686212376318,
         false
        ],
        [
         "2022-03-31T02:00:00Z",
         10,
         9.3,
         103,
         1.8,
         1.6,
         4.3,
         2.704166666666666,
         0.7686686212376318,
         false
        ],
        [
         "2022-03-31T03:00:00Z",
         10,
         11.7,
         343,
         2.4,
         1.6,
         4.3,
         2.704166666666666,
         0.7686686212376318,
         false
        ],
        [
         "2022-03-31T04:00:00Z",
         10,
         10.1,
         181,
         2.7,
         1.6,
         4.3,
         2.704166666666666,
         0.7686686212376318,
         false
        ],
        [
         "2022-03-31T05:00:00Z",
         10,
         13.6,
         181,
         1.6,
         1.6,
         4.3,
         2.704166666666666,
         0.7686686212376318,
         false
        ],
        [
         "2022-03-31T06:00:00Z",
         10,
         14,
         296,
         2.5,
         1.6,
         4.3,
         2.704166666666666,
         0.7686686212376318,
         false
        ],
        [
         "2022-03-31T07:00:00Z",
         10,
         14.8,
         339,
         2.9,
         1.6,
         4.3,
         2.704166666666666,
         0.7686686212376318,
         false
        ],
        [
         "2022-03-31T08:00:00Z",
         10,
         11.9,
         340,
         1.6,
         1.6,
         4.3,
         2.704166666666666,
         0.7686686212376318,
         false
        ],
        [
         "2022-03-31T09:00:00Z",
         10,
         9.3,
         32,
         2.8,
         1.6,
         4.3,
         2.704166666666666,
         0.7686686212376318,
         false
        ],
        [
         "2022-03-31T10:00:00Z",
         10,
         14.6,
         322,
         1.7,
         1.6,
         4.3,
         2.704166666666666,
         0.7686686212376318,
         false
        ],
        [
         "2022-03-31T11:00:00Z",
         10,
         10.2,
         199,
         2.9,
         1.6,
         4.3,
         2.704166666666666,
         0.7686686212376318,
         false
        ],
        [
         "2022-03-31T12:00:00Z",
         10,
         9.4,
         218,
         3.4,
         1.6,
         4.3,
         2.704166666666666,
         0.7686686212376318,
         false
        ],
        [
         "2022-03-31T13:00:00Z",
         10,
         11.1,
         13,
         3.6,
         1.6,
         4.3,
         2.704166666666666,
         0.7686686212376318,
         false
        ],
        [
         "2022-03-31T14:00:00Z",
         10,
         13.8,
         263,
         3.9,
         1.6,
         4.3,
         2.704166666666666,
         0.7686686212376318,
         false
        ],
        [
         "2022-03-31T15:00:00Z",
         10,
         10.6,
         328,
         2.1,
         1.6,
         4.3,
         2.704166666666666,
         0.7686686212376318,
         false
        ],
        [
         "2022-03-31T16:00:00Z",
         10,
         11.1,
         49,
         2.1,
         1.6,
         4.3,
         2.704166666666666,
         0.7686686212376318,
         false
        ],
        [
         "2022-03-31T17:00:00Z",
         10,
         9.8,
         240,
         4.1,
         1.6,
         4.3,
         2.704166666666666,
         0.7686686212376318,
         false
        ],
        [
         "2022-03-31T18:00:00Z",
         10,
         11.6,
         83,
         2.7,
         1.6,
         4.3,
         2.704166666666666,
         0.7686686212376318,
         false
        ],
        [
         "2022-03-31T19:00:00Z",
         10,
         11.4,
         23,
         2,
         1.6,
         4.3,
         2.704166666666666,
         0.7686686212376318,
         false
        ],
        [
         "2022-03-31T20:00:00Z",
         10,
         12.3,
         26,
         3.4,
         1.6,
         4.3,
         2.704166666666666,
         0.7686686212376318,
         false
        ],
        [
         "2022-03-31T21:00:00Z",
         10,
         10,
         115,
         2.8,
         1.6,
         4.3,
         2.704166666666666,
         0.7686686212376318,
         false
        ],
        [
         "2022-03-31T22:00:00Z",
         10,
         14,
         82,
         4.3,
         1.6,
         4.3,
         2.704166666666666,
         0.7686686212376318,
         true
        ],
        [
         "2022-03-31T23:00:00Z",
         10,
         10.1,
         19,
         2.7,
         1.6,
         4.3,
         2.704166666666666,
         0.7686686212376318,
         false
        ],
        [
         "2022-03-31T00:00:00Z",
         11,
         12.5,
         71,
         2.4,
         1.5,
         4.3,
         2.8874999999999997,
         0.9483681636964851,
         false
        ],
        [
         "2022-03-31T01:00:00Z",
         11,
         9.3,
         38,
         4.2,
         1.5,
         4.3,
         2.8874999999999997,
         0.9483681636964851,
         false
        ],
        [
         "2022-03-31T02:00:00Z",
         11,
         13.7,
         272,
         2.2,
         1.5,
         4.3,
         2.8874999999999997,
         0.9483681636964851,
         false
        ],
        [
         "2022-03-31T03:00:00Z",
         11,
         11,
         181,
         2.1,
         1.5,
         4.3,
         2.8874999999999997,
         0.9483681636964851,
         false
        ],
        [
         "2022-03-31T04:00:00Z",
         11,
         10.8,
         31,
         1.7,
         1.5,
         4.3,
         2.8874999999999997,
         0.9483681636964851,
         false
        ],
        [
         "2022-03-31T05:00:00Z",
         11,
         11.9,
         302,
         2.8,
         1.5,
         4.3,
         2.8874999999999997,
         0.9483681636964851,
         false
        ],
        [
         "2022-03-31T06:00:00Z",
         11,
         10.4,
         38,
         2.6,
         1.5,
         4.3,
         2.8874999999999997,
         0.9483681636964851,
         false
        ],
        [
         "2022-03-31T07:00:00Z",
         11,
         13.3,
         285,
         4.1,
         1.5,
         4.3,
         2.8874999999999997,
         0.9483681636964851,
         false
        ],
        [
         "2022-03-31T08:00:00Z",
         11,
         12.1,
         278,
         1.6,
         1.5,
         4.3,
         2.8874999999999997,
         0.9483681636964851,
         false
        ],
        [
         "2022-03-31T09:00:00Z",
         11,
         9.8,
         176,
         3.8,
         1.5,
         4.3,
         2.8874999999999997,
         0.9483681636964851,
         false
        ],
        [
         "2022-03-31T10:00:00Z",
         11,
         11.1,
         315,
         2.3,
         1.5,
         4.3,
         2.8874999999999997,
         0.9483681636964851,
         false
        ],
        [
         "2022-03-31T11:00:00Z",
         11,
         9.7,
         269,
         1.5,
         1.5,
         4.3,
         2.8874999999999997,
         0.9483681636964851,
         false
        ],
        [
         "2022-03-31T12:00:00Z",
         11,
         13,
         257,
         2.1,
         1.5,
         4.3,
         2.8874999999999997,
         0.9483681636964851,
         false
        ],
        [
         "2022-03-31T13:00:00Z",
         11,
         10.1,
         29,
         3.8,
         1.5,
         4.3,
         2.8874999999999997,
         0.9483681636964851,
         false
        ],
        [
         "2022-03-31T14:00:00Z",
         11,
         14.2,
         357,
         3.1,
         1.5,
         4.3,
         2.8874999999999997,
         0.9483681636964851,
         false
        ],
        [
         "2022-03-31T15:00:00Z",
         11,
         14.3,
         306,
         1.9,
         1.5,
         4.3,
         2.8874999999999997,
         0.9483681636964851,
         false
        ],
        [
         "2022-03-31T16:00:00Z",
         11,
         12.3,
         58,
         3.8,
         1.5,
         4.3,
         2.8874999999999997,
         0.9483681636964851,
         false
        ],
        [
         "2022-03-31T17:00:00Z",
         11,
         9.8,
         149,
         4,
         1.5,
         4.3,
         2.8874999999999997,
         0.9483681636964851,
         false
        ],
        [
         "2022-03-31T18:00:00Z",
         11,
         13.7,
         80,
         3.6,
         1.5,
         4.3,
         2.8874999999999997,
         0.9483681636964851,
         false
        ],
        [
         "2022-03-31T19:00:00Z",
         11,
         14.6,
         202,
         3.8,
         1.5,
         4.3,
         2.8874999999999997,
         0.9483681636964851,
         false
        ],
        [
         "2022-03-31T20:00:00Z",
         11,
         13,
         103,
         2.4,
         1.5,
         4.3,
         2.8874999999999997,
         0.9483681636964851,
         false
        ],
        [
         "2022-03-31T21:00:00Z",
         11,
         12.6,
         341,
         4.3,
         1.5,
         4.3,
         2.8874999999999997,
         0.9483681636964851,
         false
        ],
        [
         "2022-03-31T22:00:00Z",
         11,
         13.5,
         194,
         1.7,
         1.5,
         4.3,
         2.8874999999999997,
         0.9483681636964851,
         false
        ],
        [
         "2022-03-31T23:00:00Z",
         11,
         13.3,
         232,
         3.5,
         1.5,
         4.3,
         2.8874999999999997,
         0.9483681636964851,
         false
        ],
        [
         "2022-03-31T00:00:00Z",
         12,
         13.2,
         265,
         3.4,
         1.6,
         4.4,
         2.983333333333334,
         0.95810803905027,
         false
        ],
        [
         "2022-03-31T01:00:00Z",
         12,
         14.8,
         74,
         2.5,
         1.6,
         4.4,
         2.983333333333334,
         0.95810803905027,
         false
        ],
        [
         "2022-03-31T02:00:00Z",
         12,
         10.3,
         31,
         4,
         1.6,
         4.4,
         2.983333333333334,
         0.95810803905027,
         false
        ],
        [
         "2022-03-31T03:00:00Z",
         12,
         10.4,
         13,
         1.7,
         1.6,
         4.4,
         2.983333333333334,
         0.95810803905027,
         false
        ],
        [
         "2022-03-31T04:00:00Z",
         12,
         10.1,
         170,
         2.3,
         1.6,
         4.4,
         2.983333333333334,
         0.95810803905027,
         false
        ],
        [
         "2022-03-31T05:00:00Z",
         12,
         13.7,
         42,
         1.6,
         1.6,
         4.4,
         2.983333333333334,
         0.95810803905027,
         false
        ],
        [
         "2022-03-31T06:00:00Z",
         12,
         14.9,
         208,
         1.9,
         1.6,
         4.4,
         2.983333333333334,
         0.95810803905027,
         false
        ],
        [
         "2022-03-31T07:00:00Z",
         12,
         9.4,
         227,
         4.4,
         1.6,
         4.4,
         2.983333333333334,
         0.95810803905027,
         false
        ],
        [
         "2022-03-31T08:00:00Z",
         12,
         12.5,
         75,
         2.2,
         1.6,
         4.4,
         2.983333333333334,
         0.95810803905027,
         false
        ],
        [
         "2022-03-31T09:00:00Z",
         12,
         12.7,
         165,
         3.5,
         1.6,
         4.4,
         2.983333333333334,
         0.95810803905027,
         false
        ],
        [
         "2022-03-31T10:00:00Z",
         12,
         12.7,
         74,
         4.3,
         1.6,
         4.4,
         2.983333333333334,
         0.95810803905027,
         false
        ],
        [
         "2022-03-31T11:00:00Z",
         12,
         10.2,
         348,
         1.7,
         1.6,
         4.4,
         2.983333333333334,
         0.95810803905027,
         false
        ],
        [
         "2022-03-31T12:00:00Z",
         12,
         14.3,
         301,
         4.4,
         1.6,
         4.4,
         2.983333333333334,
         0.95810803905027,
         false
        ],
        [
         "2022-03-31T13:00:00Z",
         12,
         14.7,
         18,
         3.7,
         1.6,
         4.4,
         2.983333333333334,
         0.95810803905027,
         false
        ],
        [
         "2022-03-31T14:00:00Z",
         12,
         14.8,
         297,
         4.3,
         1.6,
         4.4,
         2.983333333333334,
         0.95810803905027,
         false
        ],
        [
         "2022-03-31T15:00:00Z",
         12,
         9.4,
         203,
         2.7,
         1.6,
         4.4,
         2.983333333333334,
         0.95810803905027,
         false
        ],
        [
         "2022-03-31T16:00:00Z",
         12,
         14.1,
         25,
         4.4,
         1.6,
         4.4,
         2.983333333333334,
         0.95810803905027,
         false
        ],
        [
         "2022-03-31T17:00:00Z",
         12,
         12.6,
         204,
         2.4,
         1.6,
         4.4,
         2.983333333333334,
         0.95810803905027,
         false
        ],
        [
         "2022-03-31T18:00:00Z",
         12,
         11.7,
         291,
         2.3,
         1.6,
         4.4,
         2.983333333333334,
         0.95810803905027,
         false
        ],
        [
         "2022-03-31T19:00:00Z",
         12,
         12.5,
         320,
         2,
         1.6,
         4.4,
         2.983333333333334,
         0.95810803905027,
         false
        ],
        [
         "2022-03-31T20:00:00Z",
         12,
         13.6,
         44,
         3,
         1.6,
         4.4,
         2.983333333333334,
         0.95810803905027,
         false
        ],
        [
         "2022-03-31T21:00:00Z",
         12,
         11.4,
         140,
         2.8,
         1.6,
         4.4,
         2.983333333333334,
         0.95810803905027,
         false
        ],
        [
         "2022-03-31T22:00:00Z",
         12,
         14.5,
         169,
         2.9,
         1.6,
         4.4,
         2.983333333333334,
         0.95810803905027,
         false
        ],
        [
         "2022-03-31T23:00:00Z",
         12,
         9.5,
         189,
         3.2,
         1.6,
         4.4,
         2.983333333333334,
         0.95810803905027,
         false
        ],
        [
         "2022-03-31T00:00:00Z",
         13,
         11,
         168,
         2.3,
         1.6,
         4.5,
         3.304166666666667,
         0.9901599197436071,
         false
        ],
        [
         "2022-03-31T01:00:00Z",
         13,
         12.6,
         68,
         2.8,
         1.6,
         4.5,
         3.304166666666667,
         0.9901599197436071,
         false
        ],
        [
         "2022-03-31T02:00:00Z",
         13,
         10.3,
         150,
         3.2,
         1.6,
         4.5,
         3.304166666666667,
         0.9901599197436071,
         false
        ],
        [
         "2022-03-31T03:00:00Z",
         13,
         13.8,
         66,
         3.9,
         1.6,
         4.5,
         3.304166666666667,
         0.9901599197436071,
         false
        ],
        [
         "2022-03-31T04:00:00Z",
         13,
         12.3,
         259,
         2.1,
         1.6,
         4.5,
         3.304166666666667,
         0.9901599197436071,
         false
        ],
        [
         "2022-03-31T05:00:00Z",
         13,
         12.7,
         8,
         4.1,
         1.6,
         4.5,
         3.304166666666667,
         0.9901599197436071,
         false
        ],
        [
         "2022-03-31T06:00:00Z",
         13,
         12.1,
         123,
         2.7,
         1.6,
         4.5,
         3.304166666666667,
         0.9901599197436071,
         false
        ],
        [
         "2022-03-31T07:00:00Z",
         13,
         9.7,
         347,
         1.7,
         1.6,
         4.5,
         3.304166666666667,
         0.9901599197436071,
         false
        ],
        [
         "2022-03-31T08:00:00Z",
         13,
         10.1,
         325,
         4.2,
         1.6,
         4.5,
         3.304166666666667,
         0.9901599197436071,
         false
        ],
        [
         "2022-03-31T09:00:00Z",
         13,
         14.6,
         30,
         3.5,
         1.6,
         4.5,
         3.304166666666667,
         0.9901599197436071,
         false
        ],
        [
         "2022-03-31T10:00:00Z",
         13,
         13.9,
         96,
         4.3,
         1.6,
         4.5,
         3.304166666666667,
         0.9901599197436071,
         false
        ],
        [
         "2022-03-31T11:00:00Z",
         13,
         11.5,
         83,
         4.2,
         1.6,
         4.5,
         3.304166666666667,
         0.9901599197436071,
         false
        ],
        [
         "2022-03-31T12:00:00Z",
         13,
         10.9,
         25,
         4.2,
         1.6,
         4.5,
         3.304166666666667,
         0.9901599197436071,
         false
        ],
        [
         "2022-03-31T13:00:00Z",
         13,
         13.4,
         35,
         4.2,
         1.6,
         4.5,
         3.304166666666667,
         0.9901599197436071,
         false
        ],
        [
         "2022-03-31T14:00:00Z",
         13,
         9.8,
         254,
         3.3,
         1.6,
         4.5,
         3.304166666666667,
         0.9901599197436071,
         false
        ],
        [
         "2022-03-31T15:00:00Z",
         13,
         15,
         78,
         4.2,
         1.6,
         4.5,
         3.304166666666667,
         0.9901599197436071,
         false
        ],
        [
         "2022-03-31T16:00:00Z",
         13,
         9.1,
         64,
         1.6,
         1.6,
         4.5,
         3.304166666666667,
         0.9901599197436071,
         false
        ],
        [
         "2022-03-31T17:00:00Z",
         13,
         12.2,
         220,
         4.1,
         1.6,
         4.5,
         3.304166666666667,
         0.9901599197436071,
         false
        ],
        [
         "2022-03-31T18:00:00Z",
         13,
         13.3,
         175,
         3.7,
         1.6,
         4.5,
         3.304166666666667,
         0.9901599197436071,
         false
        ],
        [
         "2022-03-31T19:00:00Z",
         13,
         13.4,
         140,
         1.6,
         1.6,
         4.5,
         3.304166666666667,
         0.9901599197436071,
         false
        ],
        [
         "2022-03-31T20:00:00Z",
         13,
         11,
         303,
         3.8,
         1.6,
         4.5,
         3.304166666666667,
         0.9901599197436071,
         false
        ],
        [
         "2022-03-31T21:00:00Z",
         13,
         9.9,
         195,
         1.7,
         1.6,
         4.5,
         3.304166666666667,
         0.9901599197436071,
         false
        ],
        [
         "2022-03-31T22:00:00Z",
         13,
         10.7,
         145,
         3.4,
         1.6,
         4.5,
         3.304166666666667,
         0.9901599197436071,
         false
        ],
        [
         "2022-03-31T23:00:00Z",
         13,
         12.8,
         302,
         4.5,
         1.6,
         4.5,
         3.304166666666667,
         0.9901599197436071,
         false
        ],
        [
         "2022-03-31T00:00:00Z",
         14,
         10.5,
         96,
         3.4,
         1.6,
         4.3,
         3.304166666666666,
         0.8492857186389383,
         false
        ],
        [
         "2022-03-31T01:00:00Z",
         14,
         12.6,
         171,
         3.4,
         1.6,
         4.3,
         3.304166666666666,
         0.8492857186389383,
         false
        ],
        [
         "2022-03-31T02:00:00Z",
         14,
         12.3,
         276,
         4,
         1.6,
         4.3,
         3.304166666666666,
         0.8492857186389383,
         false
        ],
        [
         "2022-03-31T03:00:00Z",
         14,
         10.6,
         153,
         3.9,
         1.6,
         4.3,
         3.304166666666666,
         0.8492857186389383,
         false
        ],
        [
         "2022-03-31T04:00:00Z",
         14,
         13.1,
         320,
         4.1,
         1.6,
         4.3,
         3.304166666666666,
         0.8492857186389383,
         false
        ],
        [
         "2022-03-31T05:00:00Z",
         14,
         14.3,
         80,
         3.8,
         1.6,
         4.3,
         3.304166666666666,
         0.8492857186389383,
         false
        ],
        [
         "2022-03-31T06:00:00Z",
         14,
         9.6,
         298,
         4,
         1.6,
         4.3,
         3.304166666666666,
         0.8492857186389383,
         false
        ],
        [
         "2022-03-31T07:00:00Z",
         14,
         10.8,
         79,
         4,
         1.6,
         4.3,
         3.304166666666666,
         0.8492857186389383,
         false
        ],
        [
         "2022-03-31T08:00:00Z",
         14,
         12.5,
         145,
         3.3,
         1.6,
         4.3,
         3.304166666666666,
         0.8492857186389383,
         false
        ],
        [
         "2022-03-31T09:00:00Z",
         14,
         9.7,
         188,
         2.3,
         1.6,
         4.3,
         3.304166666666666,
         0.8492857186389383,
         false
        ],
        [
         "2022-03-31T10:00:00Z",
         14,
         11.9,
         211,
         3.3,
         1.6,
         4.3,
         3.304166666666666,
         0.8492857186389383,
         false
        ],
        [
         "2022-03-31T11:00:00Z",
         14,
         9.3,
         172,
         2.5,
         1.6,
         4.3,
         3.304166666666666,
         0.8492857186389383,
         false
        ],
        [
         "2022-03-31T12:00:00Z",
         14,
         9.2,
         156,
         2.1,
         1.6,
         4.3,
         3.304166666666666,
         0.8492857186389383,
         false
        ],
        [
         "2022-03-31T13:00:00Z",
         14,
         13.2,
         311,
         4.3,
         1.6,
         4.3,
         3.304166666666666,
         0.8492857186389383,
         false
        ],
        [
         "2022-03-31T14:00:00Z",
         14,
         10,
         324,
         4.1,
         1.6,
         4.3,
         3.304166666666666,
         0.8492857186389383,
         false
        ],
        [
         "2022-03-31T15:00:00Z",
         14,
         12.2,
         10,
         4.1,
         1.6,
         4.3,
         3.304166666666666,
         0.8492857186389383,
         false
        ],
        [
         "2022-03-31T16:00:00Z",
         14,
         12.6,
         262,
         1.9,
         1.6,
         4.3,
         3.304166666666666,
         0.8492857186389383,
         false
        ],
        [
         "2022-03-31T17:00:00Z",
         14,
         11.3,
         276,
         3.6,
         1.6,
         4.3,
         3.304166666666666,
         0.8492857186389383,
         false
        ],
        [
         "2022-03-31T18:00:00Z",
         14,
         14,
         22,
         3.9,
         1.6,
         4.3,
         3.304166666666666,
         0.8492857186389383,
         false
        ],
        [
         "2022-03-31T19:00:00Z",
         14,
         14.5,
         80,
         1.6,
         1.6,
         4.3,
         3.304166666666666,
         0.8492857186389383,
         true
        ],
        [
         "2022-03-31T20:00:00Z",
         14,
         10.3,
         335,
         1.6,
         1.6,
         4.3,
         3.304166666666666,
         0.8492857186389383,
         true
        ],
        [
         "2022-03-31T21:00:00Z",
         14,
         13.8,
         68,
         3.8,
         1.6,
         4.3,
         3.304166666666666,
         0.8492857186389383,
         false
        ],
        [
         "2022-03-31T22:00:00Z",
         14,
         11,
         280,
         3.1,
         1.6,
         4.3,
         3.304166666666666,
         0.8492857186389383,
         false
        ],
        [
         "2022-03-31T23:00:00Z",
         14,
         14.8,
         286,
         3.2,
         1.6,
         4.3,
         3.304166666666666,
         0.8492857186389383,
         false
        ],
        [
         "2022-03-31T00:00:00Z",
         15,
         13.7,
         180,
         4.2,
         1.7,
         4.4,
         2.9166666666666674,
         0.8207455076976036,
         false
        ],
        [
         "2022-03-31T01:00:00Z",
         15,
         12.2,
         325,
         2.8,
         1.7,
         4.4,
         2.9166666666666674,
         0.8207455076976036,
         false
        ],
        [
         "2022-03-31T02:00:00Z",
         15,
         14.8,
         274,
         4.1,
         1.7,
         4.4,
         2.9166666666666674,
         0.8207455076976036,
         false
        ],
        [
         "2022-03-31T03:00:00Z",
         15,
         9.5,
         53,
         2.7,
         1.7,
         4.4,
         2.9166666666666674,
         0.8207455076976036,
         false
        ],
        [
         "2022-03-31T04:00:00Z",
         15,
         11.9,
         1,
         1.9,
         1.7,
         4.4,
         2.9166666666666674,
         0.8207455076976036,
         false
        ],
        [
         "2022-03-31T05:00:00Z",
         15,
         10,
         62,
         2.5,
         1.7,
         4.4,
         2.9166666666666674,
         0.8207455076976036,
         false
        ],
        [
         "2022-03-31T06:00:00Z",
         15,
         14.8,
         37,
         2.4,
         1.7,
         4.4,
         2.9166666666666674,
         0.8207455076976036,
         false
        ],
        [
         "2022-03-31T07:00:00Z",
         15,
         10,
         80,
         4.4,
         1.7,
         4.4,
         2.9166666666666674,
         0.8207455076976036,
         false
        ],
        [
         "2022-03-31T08:00:00Z",
         15,
         11.6,
         287,
         3.6,
         1.7,
         4.4,
         2.9166666666666674,
         0.8207455076976036,
         false
        ],
        [
         "2022-03-31T09:00:00Z",
         15,
         12.3,
         334,
         2.3,
         1.7,
         4.4,
         2.9166666666666674,
         0.8207455076976036,
         false
        ],
        [
         "2022-03-31T10:00:00Z",
         15,
         11.2,
         27,
         2.5,
         1.7,
         4.4,
         2.9166666666666674,
         0.8207455076976036,
         false
        ],
        [
         "2022-03-31T11:00:00Z",
         15,
         14.5,
         160,
         2.3,
         1.7,
         4.4,
         2.9166666666666674,
         0.8207455076976036,
         false
        ],
        [
         "2022-03-31T12:00:00Z",
         15,
         13,
         191,
         2.4,
         1.7,
         4.4,
         2.9166666666666674,
         0.8207455076976036,
         false
        ],
        [
         "2022-03-31T13:00:00Z",
         15,
         9,
         254,
         2.7,
         1.7,
         4.4,
         2.9166666666666674,
         0.8207455076976036,
         false
        ],
        [
         "2022-03-31T14:00:00Z",
         15,
         10.3,
         322,
         3,
         1.7,
         4.4,
         2.9166666666666674,
         0.8207455076976036,
         false
        ],
        [
         "2022-03-31T15:00:00Z",
         15,
         13.1,
         24,
         3.1,
         1.7,
         4.4,
         2.9166666666666674,
         0.8207455076976036,
         false
        ],
        [
         "2022-03-31T16:00:00Z",
         15,
         11.9,
         225,
         3.1,
         1.7,
         4.4,
         2.9166666666666674,
         0.8207455076976036,
         false
        ],
        [
         "2022-03-31T17:00:00Z",
         15,
         12.7,
         94,
         4.2,
         1.7,
         4.4,
         2.9166666666666674,
         0.8207455076976036,
         false
        ],
        [
         "2022-03-31T18:00:00Z",
         15,
         11.5,
         307,
         3.1,
         1.7,
         4.4,
         2.9166666666666674,
         0.8207455076976036,
         false
        ],
        [
         "2022-03-31T19:00:00Z",
         15,
         11.1,
         241,
         2.1,
         1.7,
         4.4,
         2.9166666666666674,
         0.8207455076976036,
         false
        ],
        [
         "2022-03-31T20:00:00Z",
         15,
         12,
         220,
         1.7,
         1.7,
         4.4,
         2.9166666666666674,
         0.8207455076976036,
         false
        ],
        [
         "2022-03-31T21:00:00Z",
         15,
         13.5,
         137,
         2.2,
         1.7,
         4.4,
         2.9166666666666674,
         0.8207455076976036,
         false
        ],
        [
         "2022-03-31T22:00:00Z",
         15,
         14.5,
         350,
         4.4,
         1.7,
         4.4,
         2.9166666666666674,
         0.8207455076976036,
         false
        ],
        [
         "2022-03-31T23:00:00Z",
         15,
         12,
         56,
         2.3,
         1.7,
         4.4,
         2.9166666666666674,
         0.8207455076976036,
         false
        ]
       ],
       "datasetInfos": [],
       "dbfsResultPath": null,
       "isJsonSchema": true,
       "metadata": {},
       "overflow": false,
       "plotOptions": {
        "customPlotOptions": {},
        "displayType": "table",
        "pivotAggregation": null,
        "pivotColumns": null,
        "xColumns": null,
        "yColumns": null
       },
       "removedWidgets": [],
       "schema": [
        {
         "metadata": "{}",
         "name": "timestamp",
         "type": "\"timestamp\""
        },
        {
         "metadata": "{}",
         "name": "turbine_id",
         "type": "\"long\""
        },
        {
         "metadata": "{}",
         "name": "wind_speed",
         "type": "\"double\""
        },
        {
         "metadata": "{}",
         "name": "wind_direction",
         "type": "\"long\""
        },
        {
         "metadata": "{}",
         "name": "power_output",
         "type": "\"double\""
        },
        {
         "metadata": "{}",
         "name": "min_power",
         "type": "\"double\""
        },
        {
         "metadata": "{}",
         "name": "max_power",
         "type": "\"double\""
        },
        {
         "metadata": "{}",
         "name": "avg_power",
         "type": "\"double\""
        },
        {
         "metadata": "{}",
         "name": "std_dev",
         "type": "\"double\""
        },
        {
         "metadata": "{}",
         "name": "is_anomaly",
         "type": "\"boolean\""
        }
       ],
       "type": "table"
      }
     },
     "output_type": "display_data"
    }
   ],
   "source": [
    "wt_df_y.createOrReplaceTempView(\"wt\")\n",
    "res = compute_stats(wt_df_y)\n",
    "\n",
    "# remove when read for prod\n",
    "res.display()"
   ]
  },
  {
   "cell_type": "markdown",
   "metadata": {
    "application/vnd.databricks.v1+cell": {
     "cellMetadata": {},
     "inputWidgets": {},
     "nuid": "e7099922-dfa2-47d7-941f-53fc9e35c770",
     "showTitle": false,
     "tableResultSettingsMap": {},
     "title": ""
    }
   },
   "source": [
    "### Use append mode to add the data to the stats table"
   ]
  },
  {
   "cell_type": "code",
   "execution_count": null,
   "metadata": {
    "application/vnd.databricks.v1+cell": {
     "cellMetadata": {
      "byteLimit": 2048000,
      "rowLimit": 10000
     },
     "inputWidgets": {},
     "nuid": "4370808b-3b2d-48e5-a52b-9910a9c76bbb",
     "showTitle": false,
     "tableResultSettingsMap": {},
     "title": ""
    }
   },
   "outputs": [],
   "source": [
    "res.write.mode('append').saveAsTable('dev_labs.lab_alistair_mclean.wt_data_processed')"
   ]
  },
  {
   "cell_type": "code",
   "execution_count": null,
   "metadata": {
    "application/vnd.databricks.v1+cell": {
     "cellMetadata": {
      "byteLimit": 2048000,
      "rowLimit": 10000
     },
     "inputWidgets": {},
     "nuid": "d52da889-0eaf-47b6-88cf-917d24f334d1",
     "showTitle": false,
     "tableResultSettingsMap": {},
     "title": ""
    }
   },
   "outputs": [
    {
     "data": {
      "text/plain": [
       "DataFrame[num_affected_rows: bigint, num_updated_rows: bigint, num_deleted_rows: bigint, num_inserted_rows: bigint]"
      ]
     },
     "execution_count": 26,
     "metadata": {},
     "output_type": "execute_result"
    }
   ],
   "source": [
    "##############\n",
    "# If we want to be more 'safe' in case of multiple runs in a day then we could use a merge into\n",
    "\n",
    "# from delta.tables import *\n",
    "\n",
    "# # Load the Delta table\n",
    "# target = DeltaTable.forName(spark, 'dev_labs.lab_alistair_mclean.wt_data_processed')\n",
    "\n",
    "# target.alias(\"target\").merge(\n",
    "#     res.alias(\"source\"),\n",
    "#     \"target.timestamp = source.timestamp AND target.turbine_id = source.turbine_id\"\n",
    "# ).whenMatchedUpdateAll(\n",
    "# ).whenNotMatchedInsertAll(\n",
    "# ).execute()\n",
    "###############"
   ]
  },
  {
   "cell_type": "markdown",
   "metadata": {
    "application/vnd.databricks.v1+cell": {
     "cellMetadata": {},
     "inputWidgets": {},
     "nuid": "d4227c82-6b10-49d9-ac3b-dade6046adde",
     "showTitle": false,
     "tableResultSettingsMap": {},
     "title": ""
    }
   },
   "source": [
    "# End of pipeline\n",
    "\n",
    "The above cells would be extracted into a separate notebook which would then be run as a notebook task using workflows.\n",
    "\n",
    "Some additional tests below"
   ]
  },
  {
   "cell_type": "markdown",
   "metadata": {
    "application/vnd.databricks.v1+cell": {
     "cellMetadata": {
      "byteLimit": 2048000,
      "rowLimit": 10000
     },
     "inputWidgets": {},
     "nuid": "abbf16c3-5b7e-4d0b-b7ec-82fd15cd6de4",
     "showTitle": false,
     "tableResultSettingsMap": {},
     "title": ""
    }
   },
   "source": [
    "### Test imputation for null values.\n",
    "The assumption is that the row will be written but the power output will be null, rather than no row being written at all.~"
   ]
  },
  {
   "cell_type": "code",
   "execution_count": null,
   "metadata": {
    "application/vnd.databricks.v1+cell": {
     "cellMetadata": {
      "byteLimit": 2048000,
      "rowLimit": 10000
     },
     "inputWidgets": {},
     "nuid": "59961fde-6931-414b-873f-bef545e0fcbd",
     "showTitle": false,
     "tableResultSettingsMap": {},
     "title": ""
    }
   },
   "outputs": [
    {
     "data": {
      "text/plain": [
       "2.5"
      ]
     },
     "execution_count": 22,
     "metadata": {},
     "output_type": "execute_result"
    }
   ],
   "source": [
    "old_power = spark.sql(\"SELECT power_output FROM dev_labs.lab_alistair_mclean.wt_data WHERE turbine_id = 1 AND timestamp = '2022-03-31 00:00:00'\")\n",
    "old_power.collect()[0][0]  # 2.5\n",
    "# use this to set back if needed"
   ]
  },
  {
   "cell_type": "code",
   "execution_count": null,
   "metadata": {
    "application/vnd.databricks.v1+cell": {
     "cellMetadata": {
      "byteLimit": 2048000,
      "implicitDf": true,
      "rowLimit": 10000
     },
     "inputWidgets": {},
     "nuid": "4acd271d-a741-46a1-afd0-dacf803a1ba9",
     "showTitle": false,
     "tableResultSettingsMap": {},
     "title": ""
    }
   },
   "outputs": [
    {
     "data": {
      "text/html": [
       "<style scoped>\n",
       "  .table-result-container {\n",
       "    max-height: 300px;\n",
       "    overflow: auto;\n",
       "  }\n",
       "  table, th, td {\n",
       "    border: 1px solid black;\n",
       "    border-collapse: collapse;\n",
       "  }\n",
       "  th, td {\n",
       "    padding: 5px;\n",
       "  }\n",
       "  th {\n",
       "    text-align: left;\n",
       "  }\n",
       "</style><div class='table-result-container'><table class='table-result'><thead style='background-color: white'><tr><th>timestamp</th><th>turbine_id</th><th>wind_speed</th><th>wind_direction</th><th>power_output</th></tr></thead><tbody><tr><td>2022-03-31T00:00:00Z</td><td>1</td><td>14.7</td><td>186</td><td>null</td></tr></tbody></table></div>"
      ]
     },
     "metadata": {
      "application/vnd.databricks.v1+output": {
       "addedWidgets": {},
       "aggData": [],
       "aggError": "",
       "aggOverflow": false,
       "aggSchema": [],
       "aggSeriesLimitReached": false,
       "aggType": "",
       "arguments": {},
       "columnCustomDisplayInfos": {},
       "data": [
        [
         "2022-03-31T00:00:00Z",
         1,
         14.7,
         186,
         null
        ]
       ],
       "datasetInfos": [
        {
         "name": "_sqldf",
         "schema": {
          "fields": [
           {
            "metadata": {},
            "name": "timestamp",
            "nullable": true,
            "type": "timestamp"
           },
           {
            "metadata": {},
            "name": "turbine_id",
            "nullable": true,
            "type": "long"
           },
           {
            "metadata": {},
            "name": "wind_speed",
            "nullable": true,
            "type": "double"
           },
           {
            "metadata": {},
            "name": "wind_direction",
            "nullable": true,
            "type": "long"
           },
           {
            "metadata": {},
            "name": "power_output",
            "nullable": true,
            "type": "double"
           }
          ],
          "type": "struct"
         },
         "tableIdentifier": null,
         "typeStr": "pyspark.sql.connect.dataframe.DataFrame"
        }
       ],
       "dbfsResultPath": null,
       "isJsonSchema": true,
       "metadata": {
        "createTempViewForImplicitDf": true,
        "dataframeName": "_sqldf",
        "executionCount": 27
       },
       "overflow": false,
       "plotOptions": {
        "customPlotOptions": {},
        "displayType": "table",
        "pivotAggregation": null,
        "pivotColumns": null,
        "xColumns": null,
        "yColumns": null
       },
       "removedWidgets": [],
       "schema": [
        {
         "metadata": "{}",
         "name": "timestamp",
         "type": "\"timestamp\""
        },
        {
         "metadata": "{}",
         "name": "turbine_id",
         "type": "\"long\""
        },
        {
         "metadata": "{}",
         "name": "wind_speed",
         "type": "\"double\""
        },
        {
         "metadata": "{}",
         "name": "wind_direction",
         "type": "\"long\""
        },
        {
         "metadata": "{}",
         "name": "power_output",
         "type": "\"double\""
        }
       ],
       "type": "table"
      }
     },
     "output_type": "display_data"
    }
   ],
   "source": [
    "%sql\n",
    "-- set one of the power_putput cells to null and test imputation\n",
    "update dev_labs.lab_alistair_mclean.wt_data set power_output = null where turbine_id = 1 and timestamp = '2022-03-31 00:00:00';\n",
    "\n",
    "select * from wt where power_output is null;\n"
   ]
  },
  {
   "cell_type": "markdown",
   "metadata": {
    "application/vnd.databricks.v1+cell": {
     "cellMetadata": {},
     "inputWidgets": {},
     "nuid": "f18a2796-f05e-4865-9e42-2fd1e5ccf951",
     "showTitle": false,
     "tableResultSettingsMap": {},
     "title": ""
    }
   },
   "source": [
    "### Imputation works"
   ]
  },
  {
   "cell_type": "code",
   "execution_count": null,
   "metadata": {
    "application/vnd.databricks.v1+cell": {
     "cellMetadata": {
      "byteLimit": 2048000,
      "rowLimit": 10000
     },
     "inputWidgets": {},
     "nuid": "e01fd90b-d56a-4d65-b6f2-843d24f1665e",
     "showTitle": false,
     "tableResultSettingsMap": {},
     "title": ""
    }
   },
   "outputs": [
    {
     "data": {
      "text/html": [
       "<style scoped>\n",
       "  .table-result-container {\n",
       "    max-height: 300px;\n",
       "    overflow: auto;\n",
       "  }\n",
       "  table, th, td {\n",
       "    border: 1px solid black;\n",
       "    border-collapse: collapse;\n",
       "  }\n",
       "  th, td {\n",
       "    padding: 5px;\n",
       "  }\n",
       "  th {\n",
       "    text-align: left;\n",
       "  }\n",
       "</style><div class='table-result-container'><table class='table-result'><thead style='background-color: white'><tr><th>timestamp</th><th>turbine_id</th><th>wind_speed</th><th>wind_direction</th><th>power_output</th><th>min_power</th><th>max_power</th><th>avg_power</th><th>std_dev</th><th>is_anomaly</th></tr></thead><tbody><tr><td>2022-03-31T01:00:00Z</td><td>1</td><td>10.7</td><td>238</td><td>2.6</td><td>1.6</td><td>4.3</td><td>2.978260869565218</td><td>0.7815814514286986</td><td>false</td></tr><tr><td>2022-03-31T02:00:00Z</td><td>1</td><td>15.0</td><td>295</td><td>4.0</td><td>1.6</td><td>4.3</td><td>2.978260869565218</td><td>0.7815814514286986</td><td>false</td></tr><tr><td>2022-03-31T03:00:00Z</td><td>1</td><td>11.3</td><td>214</td><td>3.3</td><td>1.6</td><td>4.3</td><td>2.978260869565218</td><td>0.7815814514286986</td><td>false</td></tr><tr><td>2022-03-31T04:00:00Z</td><td>1</td><td>9.8</td><td>312</td><td>2.5</td><td>1.6</td><td>4.3</td><td>2.978260869565218</td><td>0.7815814514286986</td><td>false</td></tr><tr><td>2022-03-31T05:00:00Z</td><td>1</td><td>13.0</td><td>232</td><td>2.1</td><td>1.6</td><td>4.3</td><td>2.978260869565218</td><td>0.7815814514286986</td><td>false</td></tr><tr><td>2022-03-31T06:00:00Z</td><td>1</td><td>10.5</td><td>304</td><td>3.0</td><td>1.6</td><td>4.3</td><td>2.978260869565218</td><td>0.7815814514286986</td><td>false</td></tr><tr><td>2022-03-31T07:00:00Z</td><td>1</td><td>9.1</td><td>305</td><td>2.8</td><td>1.6</td><td>4.3</td><td>2.978260869565218</td><td>0.7815814514286986</td><td>false</td></tr><tr><td>2022-03-31T08:00:00Z</td><td>1</td><td>14.7</td><td>131</td><td>3.2</td><td>1.6</td><td>4.3</td><td>2.978260869565218</td><td>0.7815814514286986</td><td>false</td></tr><tr><td>2022-03-31T09:00:00Z</td><td>1</td><td>9.1</td><td>242</td><td>3.1</td><td>1.6</td><td>4.3</td><td>2.978260869565218</td><td>0.7815814514286986</td><td>false</td></tr><tr><td>2022-03-31T10:00:00Z</td><td>1</td><td>10.2</td><td>279</td><td>2.2</td><td>1.6</td><td>4.3</td><td>2.978260869565218</td><td>0.7815814514286986</td><td>false</td></tr><tr><td>2022-03-31T11:00:00Z</td><td>1</td><td>10.0</td><td>281</td><td>3.1</td><td>1.6</td><td>4.3</td><td>2.978260869565218</td><td>0.7815814514286986</td><td>false</td></tr><tr><td>2022-03-31T12:00:00Z</td><td>1</td><td>9.2</td><td>289</td><td>3.9</td><td>1.6</td><td>4.3</td><td>2.978260869565218</td><td>0.7815814514286986</td><td>false</td></tr><tr><td>2022-03-31T13:00:00Z</td><td>1</td><td>14.9</td><td>105</td><td>1.8</td><td>1.6</td><td>4.3</td><td>2.978260869565218</td><td>0.7815814514286986</td><td>false</td></tr><tr><td>2022-03-31T14:00:00Z</td><td>1</td><td>14.7</td><td>26</td><td>1.6</td><td>1.6</td><td>4.3</td><td>2.978260869565218</td><td>0.7815814514286986</td><td>false</td></tr><tr><td>2022-03-31T15:00:00Z</td><td>1</td><td>12.7</td><td>261</td><td>2.5</td><td>1.6</td><td>4.3</td><td>2.978260869565218</td><td>0.7815814514286986</td><td>false</td></tr><tr><td>2022-03-31T16:00:00Z</td><td>1</td><td>12.0</td><td>316</td><td>3.7</td><td>1.6</td><td>4.3</td><td>2.978260869565218</td><td>0.7815814514286986</td><td>false</td></tr><tr><td>2022-03-31T17:00:00Z</td><td>1</td><td>12.0</td><td>331</td><td>3.7</td><td>1.6</td><td>4.3</td><td>2.978260869565218</td><td>0.7815814514286986</td><td>false</td></tr><tr><td>2022-03-31T18:00:00Z</td><td>1</td><td>13.7</td><td>77</td><td>4.3</td><td>1.6</td><td>4.3</td><td>2.978260869565218</td><td>0.7815814514286986</td><td>false</td></tr><tr><td>2022-03-31T19:00:00Z</td><td>1</td><td>9.4</td><td>75</td><td>1.9</td><td>1.6</td><td>4.3</td><td>2.978260869565218</td><td>0.7815814514286986</td><td>false</td></tr><tr><td>2022-03-31T20:00:00Z</td><td>1</td><td>14.6</td><td>254</td><td>4.1</td><td>1.6</td><td>4.3</td><td>2.978260869565218</td><td>0.7815814514286986</td><td>false</td></tr><tr><td>2022-03-31T21:00:00Z</td><td>1</td><td>11.4</td><td>172</td><td>2.4</td><td>1.6</td><td>4.3</td><td>2.978260869565218</td><td>0.7815814514286986</td><td>false</td></tr><tr><td>2022-03-31T22:00:00Z</td><td>1</td><td>11.1</td><td>168</td><td>3.0</td><td>1.6</td><td>4.3</td><td>2.978260869565218</td><td>0.7815814514286986</td><td>false</td></tr><tr><td>2022-03-31T23:00:00Z</td><td>1</td><td>13.7</td><td>51</td><td>3.7</td><td>1.6</td><td>4.3</td><td>2.978260869565218</td><td>0.7815814514286986</td><td>false</td></tr><tr><td>2022-03-31T00:00:00Z</td><td>1</td><td>14.7</td><td>186</td><td>2.978260869565218</td><td>1.6</td><td>4.3</td><td>2.978260869565218</td><td>0.7815814514286986</td><td>false</td></tr><tr><td>2022-03-31T00:00:00Z</td><td>2</td><td>11.2</td><td>68</td><td>2.8</td><td>1.6</td><td>4.4</td><td>3.229166666666666</td><td>0.712301332587408</td><td>false</td></tr><tr><td>2022-03-31T01:00:00Z</td><td>2</td><td>9.3</td><td>260</td><td>2.8</td><td>1.6</td><td>4.4</td><td>3.229166666666666</td><td>0.712301332587408</td><td>false</td></tr><tr><td>2022-03-31T02:00:00Z</td><td>2</td><td>9.3</td><td>179</td><td>2.5</td><td>1.6</td><td>4.4</td><td>3.229166666666666</td><td>0.712301332587408</td><td>false</td></tr><tr><td>2022-03-31T03:00:00Z</td><td>2</td><td>11.1</td><td>336</td><td>3.2</td><td>1.6</td><td>4.4</td><td>3.229166666666666</td><td>0.712301332587408</td><td>false</td></tr><tr><td>2022-03-31T04:00:00Z</td><td>2</td><td>12.6</td><td>170</td><td>3.2</td><td>1.6</td><td>4.4</td><td>3.229166666666666</td><td>0.712301332587408</td><td>false</td></tr><tr><td>2022-03-31T05:00:00Z</td><td>2</td><td>14.4</td><td>260</td><td>3.6</td><td>1.6</td><td>4.4</td><td>3.229166666666666</td><td>0.712301332587408</td><td>false</td></tr><tr><td>2022-03-31T06:00:00Z</td><td>2</td><td>11.2</td><td>183</td><td>4.4</td><td>1.6</td><td>4.4</td><td>3.229166666666666</td><td>0.712301332587408</td><td>false</td></tr><tr><td>2022-03-31T07:00:00Z</td><td>2</td><td>11.7</td><td>119</td><td>3.4</td><td>1.6</td><td>4.4</td><td>3.229166666666666</td><td>0.712301332587408</td><td>false</td></tr><tr><td>2022-03-31T08:00:00Z</td><td>2</td><td>9.5</td><td>227</td><td>1.6</td><td>1.6</td><td>4.4</td><td>3.229166666666666</td><td>0.712301332587408</td><td>true</td></tr><tr><td>2022-03-31T09:00:00Z</td><td>2</td><td>14.9</td><td>152</td><td>3.1</td><td>1.6</td><td>4.4</td><td>3.229166666666666</td><td>0.712301332587408</td><td>false</td></tr><tr><td>2022-03-31T10:00:00Z</td><td>2</td><td>10.3</td><td>191</td><td>3.9</td><td>1.6</td><td>4.4</td><td>3.229166666666666</td><td>0.712301332587408</td><td>false</td></tr><tr><td>2022-03-31T11:00:00Z</td><td>2</td><td>11.9</td><td>259</td><td>4.2</td><td>1.6</td><td>4.4</td><td>3.229166666666666</td><td>0.712301332587408</td><td>false</td></tr><tr><td>2022-03-31T12:00:00Z</td><td>2</td><td>14.5</td><td>285</td><td>3.0</td><td>1.6</td><td>4.4</td><td>3.229166666666666</td><td>0.712301332587408</td><td>false</td></tr><tr><td>2022-03-31T13:00:00Z</td><td>2</td><td>13.1</td><td>231</td><td>4.4</td><td>1.6</td><td>4.4</td><td>3.229166666666666</td><td>0.712301332587408</td><td>false</td></tr><tr><td>2022-03-31T14:00:00Z</td><td>2</td><td>12.8</td><td>178</td><td>3.7</td><td>1.6</td><td>4.4</td><td>3.229166666666666</td><td>0.712301332587408</td><td>false</td></tr><tr><td>2022-03-31T15:00:00Z</td><td>2</td><td>13.9</td><td>99</td><td>3.3</td><td>1.6</td><td>4.4</td><td>3.229166666666666</td><td>0.712301332587408</td><td>false</td></tr><tr><td>2022-03-31T16:00:00Z</td><td>2</td><td>11.3</td><td>79</td><td>2.0</td><td>1.6</td><td>4.4</td><td>3.229166666666666</td><td>0.712301332587408</td><td>false</td></tr><tr><td>2022-03-31T17:00:00Z</td><td>2</td><td>12.3</td><td>115</td><td>4.0</td><td>1.6</td><td>4.4</td><td>3.229166666666666</td><td>0.712301332587408</td><td>false</td></tr><tr><td>2022-03-31T18:00:00Z</td><td>2</td><td>14.6</td><td>171</td><td>2.5</td><td>1.6</td><td>4.4</td><td>3.229166666666666</td><td>0.712301332587408</td><td>false</td></tr><tr><td>2022-03-31T19:00:00Z</td><td>2</td><td>12.5</td><td>57</td><td>3.5</td><td>1.6</td><td>4.4</td><td>3.229166666666666</td><td>0.712301332587408</td><td>false</td></tr><tr><td>2022-03-31T20:00:00Z</td><td>2</td><td>14.3</td><td>323</td><td>3.8</td><td>1.6</td><td>4.4</td><td>3.229166666666666</td><td>0.712301332587408</td><td>false</td></tr><tr><td>2022-03-31T21:00:00Z</td><td>2</td><td>13.9</td><td>19</td><td>2.8</td><td>1.6</td><td>4.4</td><td>3.229166666666666</td><td>0.712301332587408</td><td>false</td></tr><tr><td>2022-03-31T22:00:00Z</td><td>2</td><td>9.7</td><td>25</td><td>3.1</td><td>1.6</td><td>4.4</td><td>3.229166666666666</td><td>0.712301332587408</td><td>false</td></tr><tr><td>2022-03-31T23:00:00Z</td><td>2</td><td>10.3</td><td>244</td><td>2.7</td><td>1.6</td><td>4.4</td><td>3.229166666666666</td><td>0.712301332587408</td><td>false</td></tr><tr><td>2022-03-31T00:00:00Z</td><td>3</td><td>14.7</td><td>242</td><td>2.1</td><td>1.5</td><td>4.3</td><td>2.8791666666666664</td><td>0.9623247064165559</td><td>false</td></tr><tr><td>2022-03-31T01:00:00Z</td><td>3</td><td>15.0</td><td>306</td><td>3.3</td><td>1.5</td><td>4.3</td><td>2.8791666666666664</td><td>0.9623247064165559</td><td>false</td></tr><tr><td>2022-03-31T02:00:00Z</td><td>3</td><td>10.7</td><td>106</td><td>3.6</td><td>1.5</td><td>4.3</td><td>2.8791666666666664</td><td>0.9623247064165559</td><td>false</td></tr><tr><td>2022-03-31T03:00:00Z</td><td>3</td><td>10.0</td><td>140</td><td>2.8</td><td>1.5</td><td>4.3</td><td>2.8791666666666664</td><td>0.9623247064165559</td><td>false</td></tr><tr><td>2022-03-31T04:00:00Z</td><td>3</td><td>12.1</td><td>34</td><td>3.4</td><td>1.5</td><td>4.3</td><td>2.8791666666666664</td><td>0.9623247064165559</td><td>false</td></tr><tr><td>2022-03-31T05:00:00Z</td><td>3</td><td>14.2</td><td>195</td><td>3.3</td><td>1.5</td><td>4.3</td><td>2.8791666666666664</td><td>0.9623247064165559</td><td>false</td></tr><tr><td>2022-03-31T06:00:00Z</td><td>3</td><td>9.5</td><td>349</td><td>4.1</td><td>1.5</td><td>4.3</td><td>2.8791666666666664</td><td>0.9623247064165559</td><td>false</td></tr><tr><td>2022-03-31T07:00:00Z</td><td>3</td><td>12.4</td><td>26</td><td>1.8</td><td>1.5</td><td>4.3</td><td>2.8791666666666664</td><td>0.9623247064165559</td><td>false</td></tr><tr><td>2022-03-31T08:00:00Z</td><td>3</td><td>9.7</td><td>236</td><td>3.8</td><td>1.5</td><td>4.3</td><td>2.8791666666666664</td><td>0.9623247064165559</td><td>false</td></tr><tr><td>2022-03-31T09:00:00Z</td><td>3</td><td>14.4</td><td>20</td><td>1.5</td><td>1.5</td><td>4.3</td><td>2.8791666666666664</td><td>0.9623247064165559</td><td>false</td></tr><tr><td>2022-03-31T10:00:00Z</td><td>3</td><td>9.0</td><td>312</td><td>4.0</td><td>1.5</td><td>4.3</td><td>2.8791666666666664</td><td>0.9623247064165559</td><td>false</td></tr><tr><td>2022-03-31T11:00:00Z</td><td>3</td><td>9.4</td><td>258</td><td>1.8</td><td>1.5</td><td>4.3</td><td>2.8791666666666664</td><td>0.9623247064165559</td><td>false</td></tr><tr><td>2022-03-31T12:00:00Z</td><td>3</td><td>10.7</td><td>111</td><td>2.4</td><td>1.5</td><td>4.3</td><td>2.8791666666666664</td><td>0.9623247064165559</td><td>false</td></tr><tr><td>2022-03-31T13:00:00Z</td><td>3</td><td>9.7</td><td>276</td><td>4.1</td><td>1.5</td><td>4.3</td><td>2.8791666666666664</td><td>0.9623247064165559</td><td>false</td></tr><tr><td>2022-03-31T14:00:00Z</td><td>3</td><td>10.5</td><td>156</td><td>3.7</td><td>1.5</td><td>4.3</td><td>2.8791666666666664</td><td>0.9623247064165559</td><td>false</td></tr><tr><td>2022-03-31T15:00:00Z</td><td>3</td><td>10.0</td><td>17</td><td>1.6</td><td>1.5</td><td>4.3</td><td>2.8791666666666664</td><td>0.9623247064165559</td><td>false</td></tr><tr><td>2022-03-31T16:00:00Z</td><td>3</td><td>12.6</td><td>108</td><td>3.0</td><td>1.5</td><td>4.3</td><td>2.8791666666666664</td><td>0.9623247064165559</td><td>false</td></tr><tr><td>2022-03-31T17:00:00Z</td><td>3</td><td>14.9</td><td>84</td><td>4.3</td><td>1.5</td><td>4.3</td><td>2.8791666666666664</td><td>0.9623247064165559</td><td>false</td></tr><tr><td>2022-03-31T18:00:00Z</td><td>3</td><td>14.2</td><td>125</td><td>2.3</td><td>1.5</td><td>4.3</td><td>2.8791666666666664</td><td>0.9623247064165559</td><td>false</td></tr><tr><td>2022-03-31T19:00:00Z</td><td>3</td><td>13.4</td><td>211</td><td>1.6</td><td>1.5</td><td>4.3</td><td>2.8791666666666664</td><td>0.9623247064165559</td><td>false</td></tr><tr><td>2022-03-31T20:00:00Z</td><td>3</td><td>13.0</td><td>281</td><td>1.6</td><td>1.5</td><td>4.3</td><td>2.8791666666666664</td><td>0.9623247064165559</td><td>false</td></tr><tr><td>2022-03-31T21:00:00Z</td><td>3</td><td>9.1</td><td>149</td><td>4.0</td><td>1.5</td><td>4.3</td><td>2.8791666666666664</td><td>0.9623247064165559</td><td>false</td></tr><tr><td>2022-03-31T22:00:00Z</td><td>3</td><td>12.7</td><td>97</td><td>3.0</td><td>1.5</td><td>4.3</td><td>2.8791666666666664</td><td>0.9623247064165559</td><td>false</td></tr><tr><td>2022-03-31T23:00:00Z</td><td>3</td><td>10.1</td><td>112</td><td>2.0</td><td>1.5</td><td>4.3</td><td>2.8791666666666664</td><td>0.9623247064165559</td><td>false</td></tr><tr><td>2022-03-31T00:00:00Z</td><td>4</td><td>9.6</td><td>39</td><td>3.2</td><td>1.7</td><td>4.4</td><td>3.033333333333333</td><td>0.8937788203521859</td><td>false</td></tr><tr><td>2022-03-31T01:00:00Z</td><td>4</td><td>10.4</td><td>42</td><td>1.8</td><td>1.7</td><td>4.4</td><td>3.033333333333333</td><td>0.8937788203521859</td><td>false</td></tr><tr><td>2022-03-31T02:00:00Z</td><td>4</td><td>13.9</td><td>262</td><td>2.2</td><td>1.7</td><td>4.4</td><td>3.033333333333333</td><td>0.8937788203521859</td><td>false</td></tr><tr><td>2022-03-31T03:00:00Z</td><td>4</td><td>11.3</td><td>237</td><td>2.0</td><td>1.7</td><td>4.4</td><td>3.033333333333333</td><td>0.8937788203521859</td><td>false</td></tr><tr><td>2022-03-31T04:00:00Z</td><td>4</td><td>11.5</td><td>144</td><td>4.1</td><td>1.7</td><td>4.4</td><td>3.033333333333333</td><td>0.8937788203521859</td><td>false</td></tr><tr><td>2022-03-31T05:00:00Z</td><td>4</td><td>14.8</td><td>154</td><td>2.1</td><td>1.7</td><td>4.4</td><td>3.033333333333333</td><td>0.8937788203521859</td><td>false</td></tr><tr><td>2022-03-31T06:00:00Z</td><td>4</td><td>9.8</td><td>130</td><td>2.7</td><td>1.7</td><td>4.4</td><td>3.033333333333333</td><td>0.8937788203521859</td><td>false</td></tr><tr><td>2022-03-31T07:00:00Z</td><td>4</td><td>13.5</td><td>46</td><td>1.7</td><td>1.7</td><td>4.4</td><td>3.033333333333333</td><td>0.8937788203521859</td><td>false</td></tr><tr><td>2022-03-31T08:00:00Z</td><td>4</td><td>12.9</td><td>190</td><td>4.2</td><td>1.7</td><td>4.4</td><td>3.033333333333333</td><td>0.8937788203521859</td><td>false</td></tr><tr><td>2022-03-31T09:00:00Z</td><td>4</td><td>9.3</td><td>230</td><td>3.9</td><td>1.7</td><td>4.4</td><td>3.033333333333333</td><td>0.8937788203521859</td><td>false</td></tr><tr><td>2022-03-31T10:00:00Z</td><td>4</td><td>11.7</td><td>127</td><td>4.4</td><td>1.7</td><td>4.4</td><td>3.033333333333333</td><td>0.8937788203521859</td><td>false</td></tr><tr><td>2022-03-31T11:00:00Z</td><td>4</td><td>13.1</td><td>92</td><td>3.8</td><td>1.7</td><td>4.4</td><td>3.033333333333333</td><td>0.8937788203521859</td><td>false</td></tr><tr><td>2022-03-31T12:00:00Z</td><td>4</td><td>9.4</td><td>348</td><td>2.9</td><td>1.7</td><td>4.4</td><td>3.033333333333333</td><td>0.8937788203521859</td><td>false</td></tr><tr><td>2022-03-31T13:00:00Z</td><td>4</td><td>9.1</td><td>280</td><td>1.9</td><td>1.7</td><td>4.4</td><td>3.033333333333333</td><td>0.8937788203521859</td><td>false</td></tr><tr><td>2022-03-31T14:00:00Z</td><td>4</td><td>10.4</td><td>207</td><td>2.5</td><td>1.7</td><td>4.4</td><td>3.033333333333333</td><td>0.8937788203521859</td><td>false</td></tr><tr><td>2022-03-31T15:00:00Z</td><td>4</td><td>12.6</td><td>161</td><td>3.9</td><td>1.7</td><td>4.4</td><td>3.033333333333333</td><td>0.8937788203521859</td><td>false</td></tr><tr><td>2022-03-31T16:00:00Z</td><td>4</td><td>11.4</td><td>148</td><td>4.0</td><td>1.7</td><td>4.4</td><td>3.033333333333333</td><td>0.8937788203521859</td><td>false</td></tr><tr><td>2022-03-31T17:00:00Z</td><td>4</td><td>12.6</td><td>75</td><td>2.6</td><td>1.7</td><td>4.4</td><td>3.033333333333333</td><td>0.8937788203521859</td><td>false</td></tr><tr><td>2022-03-31T18:00:00Z</td><td>4</td><td>10.9</td><td>237</td><td>4.4</td><td>1.7</td><td>4.4</td><td>3.033333333333333</td><td>0.8937788203521859</td><td>false</td></tr><tr><td>2022-03-31T19:00:00Z</td><td>4</td><td>12.0</td><td>163</td><td>3.7</td><td>1.7</td><td>4.4</td><td>3.033333333333333</td><td>0.8937788203521859</td><td>false</td></tr><tr><td>2022-03-31T20:00:00Z</td><td>4</td><td>11.9</td><td>231</td><td>3.2</td><td>1.7</td><td>4.4</td><td>3.033333333333333</td><td>0.8937788203521859</td><td>false</td></tr><tr><td>2022-03-31T21:00:00Z</td><td>4</td><td>11.2</td><td>238</td><td>2.4</td><td>1.7</td><td>4.4</td><td>3.033333333333333</td><td>0.8937788203521859</td><td>false</td></tr><tr><td>2022-03-31T22:00:00Z</td><td>4</td><td>12.8</td><td>290</td><td>2.5</td><td>1.7</td><td>4.4</td><td>3.033333333333333</td><td>0.8937788203521859</td><td>false</td></tr><tr><td>2022-03-31T23:00:00Z</td><td>4</td><td>10.1</td><td>43</td><td>2.7</td><td>1.7</td><td>4.4</td><td>3.033333333333333</td><td>0.8937788203521859</td><td>false</td></tr><tr><td>2022-03-31T00:00:00Z</td><td>5</td><td>10.4</td><td>218</td><td>2.6</td><td>1.5</td><td>4.2</td><td>2.9375000000000004</td><td>0.8641721346241557</td><td>false</td></tr><tr><td>2022-03-31T01:00:00Z</td><td>5</td><td>12.5</td><td>88</td><td>1.7</td><td>1.5</td><td>4.2</td><td>2.9375000000000004</td><td>0.8641721346241557</td><td>false</td></tr><tr><td>2022-03-31T02:00:00Z</td><td>5</td><td>11.7</td><td>278</td><td>2.1</td><td>1.5</td><td>4.2</td><td>2.9375000000000004</td><td>0.8641721346241557</td><td>false</td></tr><tr><td>2022-03-31T03:00:00Z</td><td>5</td><td>11.5</td><td>140</td><td>3.8</td><td>1.5</td><td>4.2</td><td>2.9375000000000004</td><td>0.8641721346241557</td><td>false</td></tr><tr><td>2022-03-31T04:00:00Z</td><td>5</td><td>14.0</td><td>238</td><td>3.0</td><td>1.5</td><td>4.2</td><td>2.9375000000000004</td><td>0.8641721346241557</td><td>false</td></tr><tr><td>2022-03-31T05:00:00Z</td><td>5</td><td>10.8</td><td>51</td><td>3.8</td><td>1.5</td><td>4.2</td><td>2.9375000000000004</td><td>0.8641721346241557</td><td>false</td></tr><tr><td>2022-03-31T06:00:00Z</td><td>5</td><td>10.3</td><td>20</td><td>2.3</td><td>1.5</td><td>4.2</td><td>2.9375000000000004</td><td>0.8641721346241557</td><td>false</td></tr><tr><td>2022-03-31T07:00:00Z</td><td>5</td><td>14.0</td><td>306</td><td>2.5</td><td>1.5</td><td>4.2</td><td>2.9375000000000004</td><td>0.8641721346241557</td><td>false</td></tr><tr><td>2022-03-31T08:00:00Z</td><td>5</td><td>14.4</td><td>321</td><td>3.0</td><td>1.5</td><td>4.2</td><td>2.9375000000000004</td><td>0.8641721346241557</td><td>false</td></tr><tr><td>2022-03-31T09:00:00Z</td><td>5</td><td>10.9</td><td>262</td><td>3.7</td><td>1.5</td><td>4.2</td><td>2.9375000000000004</td><td>0.8641721346241557</td><td>false</td></tr><tr><td>2022-03-31T10:00:00Z</td><td>5</td><td>9.4</td><td>65</td><td>1.8</td><td>1.5</td><td>4.2</td><td>2.9375000000000004</td><td>0.8641721346241557</td><td>false</td></tr><tr><td>2022-03-31T11:00:00Z</td><td>5</td><td>12.0</td><td>356</td><td>4.0</td><td>1.5</td><td>4.2</td><td>2.9375000000000004</td><td>0.8641721346241557</td><td>false</td></tr><tr><td>2022-03-31T12:00:00Z</td><td>5</td><td>12.1</td><td>317</td><td>4.2</td><td>1.5</td><td>4.2</td><td>2.9375000000000004</td><td>0.8641721346241557</td><td>false</td></tr><tr><td>2022-03-31T13:00:00Z</td><td>5</td><td>12.3</td><td>231</td><td>4.1</td><td>1.5</td><td>4.2</td><td>2.9375000000000004</td><td>0.8641721346241557</td><td>false</td></tr><tr><td>2022-03-31T14:00:00Z</td><td>5</td><td>10.9</td><td>341</td><td>2.5</td><td>1.5</td><td>4.2</td><td>2.9375000000000004</td><td>0.8641721346241557</td><td>false</td></tr><tr><td>2022-03-31T15:00:00Z</td><td>5</td><td>12.9</td><td>278</td><td>4.0</td><td>1.5</td><td>4.2</td><td>2.9375000000000004</td><td>0.8641721346241557</td><td>false</td></tr><tr><td>2022-03-31T16:00:00Z</td><td>5</td><td>14.8</td><td>193</td><td>2.3</td><td>1.5</td><td>4.2</td><td>2.9375000000000004</td><td>0.8641721346241557</td><td>false</td></tr><tr><td>2022-03-31T17:00:00Z</td><td>5</td><td>13.5</td><td>162</td><td>2.3</td><td>1.5</td><td>4.2</td><td>2.9375000000000004</td><td>0.8641721346241557</td><td>false</td></tr><tr><td>2022-03-31T18:00:00Z</td><td>5</td><td>9.9</td><td>197</td><td>3.9</td><td>1.5</td><td>4.2</td><td>2.9375000000000004</td><td>0.8641721346241557</td><td>false</td></tr><tr><td>2022-03-31T19:00:00Z</td><td>5</td><td>14.4</td><td>203</td><td>3.7</td><td>1.5</td><td>4.2</td><td>2.9375000000000004</td><td>0.8641721346241557</td><td>false</td></tr><tr><td>2022-03-31T20:00:00Z</td><td>5</td><td>12.1</td><td>134</td><td>1.5</td><td>1.5</td><td>4.2</td><td>2.9375000000000004</td><td>0.8641721346241557</td><td>false</td></tr><tr><td>2022-03-31T21:00:00Z</td><td>5</td><td>9.9</td><td>262</td><td>2.9</td><td>1.5</td><td>4.2</td><td>2.9375000000000004</td><td>0.8641721346241557</td><td>false</td></tr><tr><td>2022-03-31T22:00:00Z</td><td>5</td><td>11.9</td><td>272</td><td>2.9</td><td>1.5</td><td>4.2</td><td>2.9375000000000004</td><td>0.8641721346241557</td><td>false</td></tr><tr><td>2022-03-31T23:00:00Z</td><td>5</td><td>13.5</td><td>55</td><td>1.9</td><td>1.5</td><td>4.2</td><td>2.9375000000000004</td><td>0.8641721346241557</td><td>false</td></tr><tr><td>2022-03-31T00:00:00Z</td><td>6</td><td>14.0</td><td>321</td><td>1.9</td><td>1.6</td><td>4.0</td><td>2.733333333333333</td><td>0.7316845760575931</td><td>false</td></tr><tr><td>2022-03-31T01:00:00Z</td><td>6</td><td>10.4</td><td>247</td><td>2.9</td><td>1.6</td><td>4.0</td><td>2.733333333333333</td><td>0.7316845760575931</td><td>false</td></tr><tr><td>2022-03-31T02:00:00Z</td><td>6</td><td>13.7</td><td>10</td><td>4.0</td><td>1.6</td><td>4.0</td><td>2.733333333333333</td><td>0.7316845760575931</td><td>false</td></tr><tr><td>2022-03-31T03:00:00Z</td><td>6</td><td>13.9</td><td>353</td><td>2.1</td><td>1.6</td><td>4.0</td><td>2.733333333333333</td><td>0.7316845760575931</td><td>false</td></tr><tr><td>2022-03-31T04:00:00Z</td><td>6</td><td>11.0</td><td>79</td><td>4.0</td><td>1.6</td><td>4.0</td><td>2.733333333333333</td><td>0.7316845760575931</td><td>false</td></tr><tr><td>2022-03-31T05:00:00Z</td><td>6</td><td>14.2</td><td>353</td><td>2.4</td><td>1.6</td><td>4.0</td><td>2.733333333333333</td><td>0.7316845760575931</td><td>false</td></tr><tr><td>2022-03-31T06:00:00Z</td><td>6</td><td>14.8</td><td>122</td><td>1.9</td><td>1.6</td><td>4.0</td><td>2.733333333333333</td><td>0.7316845760575931</td><td>false</td></tr><tr><td>2022-03-31T07:00:00Z</td><td>6</td><td>10.9</td><td>154</td><td>3.1</td><td>1.6</td><td>4.0</td><td>2.733333333333333</td><td>0.7316845760575931</td><td>false</td></tr><tr><td>2022-03-31T08:00:00Z</td><td>6</td><td>11.0</td><td>245</td><td>2.7</td><td>1.6</td><td>4.0</td><td>2.733333333333333</td><td>0.7316845760575931</td><td>false</td></tr><tr><td>2022-03-31T09:00:00Z</td><td>6</td><td>11.1</td><td>234</td><td>1.9</td><td>1.6</td><td>4.0</td><td>2.733333333333333</td><td>0.7316845760575931</td><td>false</td></tr><tr><td>2022-03-31T10:00:00Z</td><td>6</td><td>12.6</td><td>169</td><td>3.9</td><td>1.6</td><td>4.0</td><td>2.733333333333333</td><td>0.7316845760575931</td><td>false</td></tr><tr><td>2022-03-31T11:00:00Z</td><td>6</td><td>11.3</td><td>66</td><td>3.4</td><td>1.6</td><td>4.0</td><td>2.733333333333333</td><td>0.7316845760575931</td><td>false</td></tr><tr><td>2022-03-31T12:00:00Z</td><td>6</td><td>10.6</td><td>169</td><td>3.1</td><td>1.6</td><td>4.0</td><td>2.733333333333333</td><td>0.7316845760575931</td><td>false</td></tr><tr><td>2022-03-31T13:00:00Z</td><td>6</td><td>14.2</td><td>119</td><td>1.9</td><td>1.6</td><td>4.0</td><td>2.733333333333333</td><td>0.7316845760575931</td><td>false</td></tr><tr><td>2022-03-31T14:00:00Z</td><td>6</td><td>13.6</td><td>253</td><td>2.3</td><td>1.6</td><td>4.0</td><td>2.733333333333333</td><td>0.7316845760575931</td><td>false</td></tr><tr><td>2022-03-31T15:00:00Z</td><td>6</td><td>11.6</td><td>121</td><td>3.3</td><td>1.6</td><td>4.0</td><td>2.733333333333333</td><td>0.7316845760575931</td><td>false</td></tr><tr><td>2022-03-31T16:00:00Z</td><td>6</td><td>12.6</td><td>159</td><td>2.1</td><td>1.6</td><td>4.0</td><td>2.733333333333333</td><td>0.7316845760575931</td><td>false</td></tr><tr><td>2022-03-31T17:00:00Z</td><td>6</td><td>15.0</td><td>86</td><td>1.6</td><td>1.6</td><td>4.0</td><td>2.733333333333333</td><td>0.7316845760575931</td><td>false</td></tr><tr><td>2022-03-31T18:00:00Z</td><td>6</td><td>13.9</td><td>274</td><td>2.6</td><td>1.6</td><td>4.0</td><td>2.733333333333333</td><td>0.7316845760575931</td><td>false</td></tr><tr><td>2022-03-31T19:00:00Z</td><td>6</td><td>14.8</td><td>9</td><td>2.2</td><td>1.6</td><td>4.0</td><td>2.733333333333333</td><td>0.7316845760575931</td><td>false</td></tr><tr><td>2022-03-31T20:00:00Z</td><td>6</td><td>11.0</td><td>50</td><td>2.7</td><td>1.6</td><td>4.0</td><td>2.733333333333333</td><td>0.7316845760575931</td><td>false</td></tr><tr><td>2022-03-31T21:00:00Z</td><td>6</td><td>9.3</td><td>339</td><td>3.8</td><td>1.6</td><td>4.0</td><td>2.733333333333333</td><td>0.7316845760575931</td><td>false</td></tr><tr><td>2022-03-31T22:00:00Z</td><td>6</td><td>10.2</td><td>332</td><td>2.8</td><td>1.6</td><td>4.0</td><td>2.733333333333333</td><td>0.7316845760575931</td><td>false</td></tr><tr><td>2022-03-31T23:00:00Z</td><td>6</td><td>9.9</td><td>37</td><td>3.0</td><td>1.6</td><td>4.0</td><td>2.733333333333333</td><td>0.7316845760575931</td><td>false</td></tr><tr><td>2022-03-31T00:00:00Z</td><td>7</td><td>12.7</td><td>157</td><td>3.3</td><td>1.6</td><td>4.3</td><td>2.766666666666667</td><td>0.792171844920064</td><td>false</td></tr><tr><td>2022-03-31T01:00:00Z</td><td>7</td><td>14.9</td><td>308</td><td>4.3</td><td>1.6</td><td>4.3</td><td>2.766666666666667</td><td>0.792171844920064</td><td>false</td></tr><tr><td>2022-03-31T02:00:00Z</td><td>7</td><td>9.9</td><td>285</td><td>1.8</td><td>1.6</td><td>4.3</td><td>2.766666666666667</td><td>0.792171844920064</td><td>false</td></tr><tr><td>2022-03-31T03:00:00Z</td><td>7</td><td>12.2</td><td>293</td><td>2.0</td><td>1.6</td><td>4.3</td><td>2.766666666666667</td><td>0.792171844920064</td><td>false</td></tr><tr><td>2022-03-31T04:00:00Z</td><td>7</td><td>12.3</td><td>205</td><td>3.2</td><td>1.6</td><td>4.3</td><td>2.766666666666667</td><td>0.792171844920064</td><td>false</td></tr><tr><td>2022-03-31T05:00:00Z</td><td>7</td><td>10.0</td><td>137</td><td>3.9</td><td>1.6</td><td>4.3</td><td>2.766666666666667</td><td>0.792171844920064</td><td>false</td></tr><tr><td>2022-03-31T06:00:00Z</td><td>7</td><td>11.2</td><td>178</td><td>2.5</td><td>1.6</td><td>4.3</td><td>2.766666666666667</td><td>0.792171844920064</td><td>false</td></tr><tr><td>2022-03-31T07:00:00Z</td><td>7</td><td>9.1</td><td>142</td><td>1.6</td><td>1.6</td><td>4.3</td><td>2.766666666666667</td><td>0.792171844920064</td><td>false</td></tr><tr><td>2022-03-31T08:00:00Z</td><td>7</td><td>13.3</td><td>95</td><td>3.8</td><td>1.6</td><td>4.3</td><td>2.766666666666667</td><td>0.792171844920064</td><td>false</td></tr><tr><td>2022-03-31T09:00:00Z</td><td>7</td><td>12.6</td><td>103</td><td>1.8</td><td>1.6</td><td>4.3</td><td>2.766666666666667</td><td>0.792171844920064</td><td>false</td></tr><tr><td>2022-03-31T10:00:00Z</td><td>7</td><td>9.4</td><td>133</td><td>2.5</td><td>1.6</td><td>4.3</td><td>2.766666666666667</td><td>0.792171844920064</td><td>false</td></tr><tr><td>2022-03-31T11:00:00Z</td><td>7</td><td>14.8</td><td>72</td><td>2.2</td><td>1.6</td><td>4.3</td><td>2.766666666666667</td><td>0.792171844920064</td><td>false</td></tr><tr><td>2022-03-31T12:00:00Z</td><td>7</td><td>13.4</td><td>267</td><td>3.1</td><td>1.6</td><td>4.3</td><td>2.766666666666667</td><td>0.792171844920064</td><td>false</td></tr><tr><td>2022-03-31T13:00:00Z</td><td>7</td><td>14.6</td><td>212</td><td>3.6</td><td>1.6</td><td>4.3</td><td>2.766666666666667</td><td>0.792171844920064</td><td>false</td></tr><tr><td>2022-03-31T14:00:00Z</td><td>7</td><td>9.3</td><td>161</td><td>3.2</td><td>1.6</td><td>4.3</td><td>2.766666666666667</td><td>0.792171844920064</td><td>false</td></tr><tr><td>2022-03-31T15:00:00Z</td><td>7</td><td>13.1</td><td>70</td><td>2.4</td><td>1.6</td><td>4.3</td><td>2.766666666666667</td><td>0.792171844920064</td><td>false</td></tr><tr><td>2022-03-31T16:00:00Z</td><td>7</td><td>10.8</td><td>339</td><td>1.7</td><td>1.6</td><td>4.3</td><td>2.766666666666667</td><td>0.792171844920064</td><td>false</td></tr><tr><td>2022-03-31T17:00:00Z</td><td>7</td><td>10.6</td><td>304</td><td>3.3</td><td>1.6</td><td>4.3</td><td>2.766666666666667</td><td>0.792171844920064</td><td>false</td></tr><tr><td>2022-03-31T18:00:00Z</td><td>7</td><td>9.6</td><td>188</td><td>1.9</td><td>1.6</td><td>4.3</td><td>2.766666666666667</td><td>0.792171844920064</td><td>false</td></tr><tr><td>2022-03-31T19:00:00Z</td><td>7</td><td>12.1</td><td>357</td><td>2.6</td><td>1.6</td><td>4.3</td><td>2.766666666666667</td><td>0.792171844920064</td><td>false</td></tr><tr><td>2022-03-31T20:00:00Z</td><td>7</td><td>14.0</td><td>240</td><td>3.2</td><td>1.6</td><td>4.3</td><td>2.766666666666667</td><td>0.792171844920064</td><td>false</td></tr><tr><td>2022-03-31T21:00:00Z</td><td>7</td><td>12.3</td><td>318</td><td>2.2</td><td>1.6</td><td>4.3</td><td>2.766666666666667</td><td>0.792171844920064</td><td>false</td></tr><tr><td>2022-03-31T22:00:00Z</td><td>7</td><td>10.5</td><td>285</td><td>3.8</td><td>1.6</td><td>4.3</td><td>2.766666666666667</td><td>0.792171844920064</td><td>false</td></tr><tr><td>2022-03-31T23:00:00Z</td><td>7</td><td>11.1</td><td>225</td><td>2.5</td><td>1.6</td><td>4.3</td><td>2.766666666666667</td><td>0.792171844920064</td><td>false</td></tr><tr><td>2022-03-31T00:00:00Z</td><td>8</td><td>9.9</td><td>269</td><td>4.1</td><td>1.7</td><td>4.4</td><td>3.3958333333333326</td><td>0.9630021746630676</td><td>false</td></tr><tr><td>2022-03-31T01:00:00Z</td><td>8</td><td>14.7</td><td>10</td><td>3.4</td><td>1.7</td><td>4.4</td><td>3.3958333333333326</td><td>0.9630021746630676</td><td>false</td></tr><tr><td>2022-03-31T02:00:00Z</td><td>8</td><td>10.7</td><td>164</td><td>3.8</td><td>1.7</td><td>4.4</td><td>3.3958333333333326</td><td>0.9630021746630676</td><td>false</td></tr><tr><td>2022-03-31T03:00:00Z</td><td>8</td><td>10.4</td><td>139</td><td>1.7</td><td>1.7</td><td>4.4</td><td>3.3958333333333326</td><td>0.9630021746630676</td><td>false</td></tr><tr><td>2022-03-31T04:00:00Z</td><td>8</td><td>10.2</td><td>283</td><td>4.4</td><td>1.7</td><td>4.4</td><td>3.3958333333333326</td><td>0.9630021746630676</td><td>false</td></tr><tr><td>2022-03-31T05:00:00Z</td><td>8</td><td>12.2</td><td>256</td><td>2.4</td><td>1.7</td><td>4.4</td><td>3.3958333333333326</td><td>0.9630021746630676</td><td>false</td></tr><tr><td>2022-03-31T06:00:00Z</td><td>8</td><td>10.0</td><td>196</td><td>2.9</td><td>1.7</td><td>4.4</td><td>3.3958333333333326</td><td>0.9630021746630676</td><td>false</td></tr><tr><td>2022-03-31T07:00:00Z</td><td>8</td><td>11.9</td><td>57</td><td>3.5</td><td>1.7</td><td>4.4</td><td>3.3958333333333326</td><td>0.9630021746630676</td><td>false</td></tr><tr><td>2022-03-31T08:00:00Z</td><td>8</td><td>11.2</td><td>95</td><td>1.7</td><td>1.7</td><td>4.4</td><td>3.3958333333333326</td><td>0.9630021746630676</td><td>false</td></tr><tr><td>2022-03-31T09:00:00Z</td><td>8</td><td>12.8</td><td>209</td><td>4.2</td><td>1.7</td><td>4.4</td><td>3.3958333333333326</td><td>0.9630021746630676</td><td>false</td></tr><tr><td>2022-03-31T10:00:00Z</td><td>8</td><td>13.8</td><td>318</td><td>4.0</td><td>1.7</td><td>4.4</td><td>3.3958333333333326</td><td>0.9630021746630676</td><td>false</td></tr><tr><td>2022-03-31T11:00:00Z</td><td>8</td><td>11.9</td><td>1</td><td>4.4</td><td>1.7</td><td>4.4</td><td>3.3958333333333326</td><td>0.9630021746630676</td><td>false</td></tr><tr><td>2022-03-31T12:00:00Z</td><td>8</td><td>11.2</td><td>189</td><td>4.4</td><td>1.7</td><td>4.4</td><td>3.3958333333333326</td><td>0.9630021746630676</td><td>false</td></tr><tr><td>2022-03-31T13:00:00Z</td><td>8</td><td>12.7</td><td>110</td><td>2.4</td><td>1.7</td><td>4.4</td><td>3.3958333333333326</td><td>0.9630021746630676</td><td>false</td></tr><tr><td>2022-03-31T14:00:00Z</td><td>8</td><td>9.6</td><td>288</td><td>4.4</td><td>1.7</td><td>4.4</td><td>3.3958333333333326</td><td>0.9630021746630676</td><td>false</td></tr><tr><td>2022-03-31T15:00:00Z</td><td>8</td><td>10.6</td><td>271</td><td>4.2</td><td>1.7</td><td>4.4</td><td>3.3958333333333326</td><td>0.9630021746630676</td><td>false</td></tr><tr><td>2022-03-31T16:00:00Z</td><td>8</td><td>10.3</td><td>124</td><td>3.3</td><td>1.7</td><td>4.4</td><td>3.3958333333333326</td><td>0.9630021746630676</td><td>false</td></tr><tr><td>2022-03-31T17:00:00Z</td><td>8</td><td>11.0</td><td>312</td><td>3.8</td><td>1.7</td><td>4.4</td><td>3.3958333333333326</td><td>0.9630021746630676</td><td>false</td></tr><tr><td>2022-03-31T18:00:00Z</td><td>8</td><td>10.8</td><td>108</td><td>3.6</td><td>1.7</td><td>4.4</td><td>3.3958333333333326</td><td>0.9630021746630676</td><td>false</td></tr><tr><td>2022-03-31T19:00:00Z</td><td>8</td><td>13.0</td><td>307</td><td>3.1</td><td>1.7</td><td>4.4</td><td>3.3958333333333326</td><td>0.9630021746630676</td><td>false</td></tr><tr><td>2022-03-31T20:00:00Z</td><td>8</td><td>9.4</td><td>21</td><td>1.8</td><td>1.7</td><td>4.4</td><td>3.3958333333333326</td><td>0.9630021746630676</td><td>false</td></tr><tr><td>2022-03-31T21:00:00Z</td><td>8</td><td>11.2</td><td>161</td><td>1.7</td><td>1.7</td><td>4.4</td><td>3.3958333333333326</td><td>0.9630021746630676</td><td>false</td></tr><tr><td>2022-03-31T22:00:00Z</td><td>8</td><td>11.5</td><td>212</td><td>4.4</td><td>1.7</td><td>4.4</td><td>3.3958333333333326</td><td>0.9630021746630676</td><td>false</td></tr><tr><td>2022-03-31T23:00:00Z</td><td>8</td><td>14.3</td><td>21</td><td>3.9</td><td>1.7</td><td>4.4</td><td>3.3958333333333326</td><td>0.9630021746630676</td><td>false</td></tr><tr><td>2022-03-31T00:00:00Z</td><td>9</td><td>13.5</td><td>299</td><td>1.6</td><td>1.6</td><td>4.3</td><td>3.275</td><td>0.7484767139359433</td><td>true</td></tr><tr><td>2022-03-31T01:00:00Z</td><td>9</td><td>10.8</td><td>208</td><td>4.1</td><td>1.6</td><td>4.3</td><td>3.275</td><td>0.7484767139359433</td><td>false</td></tr><tr><td>2022-03-31T02:00:00Z</td><td>9</td><td>10.4</td><td>349</td><td>3.6</td><td>1.6</td><td>4.3</td><td>3.275</td><td>0.7484767139359433</td><td>false</td></tr><tr><td>2022-03-31T03:00:00Z</td><td>9</td><td>13.8</td><td>12</td><td>3.2</td><td>1.6</td><td>4.3</td><td>3.275</td><td>0.7484767139359433</td><td>false</td></tr><tr><td>2022-03-31T04:00:00Z</td><td>9</td><td>11.8</td><td>235</td><td>4.0</td><td>1.6</td><td>4.3</td><td>3.275</td><td>0.7484767139359433</td><td>false</td></tr><tr><td>2022-03-31T05:00:00Z</td><td>9</td><td>12.4</td><td>314</td><td>2.5</td><td>1.6</td><td>4.3</td><td>3.275</td><td>0.7484767139359433</td><td>false</td></tr><tr><td>2022-03-31T06:00:00Z</td><td>9</td><td>14.6</td><td>300</td><td>4.3</td><td>1.6</td><td>4.3</td><td>3.275</td><td>0.7484767139359433</td><td>false</td></tr><tr><td>2022-03-31T07:00:00Z</td><td>9</td><td>12.6</td><td>272</td><td>3.6</td><td>1.6</td><td>4.3</td><td>3.275</td><td>0.7484767139359433</td><td>false</td></tr><tr><td>2022-03-31T08:00:00Z</td><td>9</td><td>13.8</td><td>96</td><td>2.3</td><td>1.6</td><td>4.3</td><td>3.275</td><td>0.7484767139359433</td><td>false</td></tr><tr><td>2022-03-31T09:00:00Z</td><td>9</td><td>12.1</td><td>324</td><td>3.8</td><td>1.6</td><td>4.3</td><td>3.275</td><td>0.7484767139359433</td><td>false</td></tr><tr><td>2022-03-31T10:00:00Z</td><td>9</td><td>13.8</td><td>4</td><td>3.6</td><td>1.6</td><td>4.3</td><td>3.275</td><td>0.7484767139359433</td><td>false</td></tr><tr><td>2022-03-31T11:00:00Z</td><td>9</td><td>13.2</td><td>214</td><td>3.5</td><td>1.6</td><td>4.3</td><td>3.275</td><td>0.7484767139359433</td><td>false</td></tr><tr><td>2022-03-31T12:00:00Z</td><td>9</td><td>13.4</td><td>351</td><td>2.5</td><td>1.6</td><td>4.3</td><td>3.275</td><td>0.7484767139359433</td><td>false</td></tr><tr><td>2022-03-31T13:00:00Z</td><td>9</td><td>10.4</td><td>112</td><td>3.6</td><td>1.6</td><td>4.3</td><td>3.275</td><td>0.7484767139359433</td><td>false</td></tr><tr><td>2022-03-31T14:00:00Z</td><td>9</td><td>11.3</td><td>136</td><td>3.6</td><td>1.6</td><td>4.3</td><td>3.275</td><td>0.7484767139359433</td><td>false</td></tr><tr><td>2022-03-31T15:00:00Z</td><td>9</td><td>10.4</td><td>109</td><td>3.6</td><td>1.6</td><td>4.3</td><td>3.275</td><td>0.7484767139359433</td><td>false</td></tr><tr><td>2022-03-31T16:00:00Z</td><td>9</td><td>11.2</td><td>21</td><td>2.3</td><td>1.6</td><td>4.3</td><td>3.275</td><td>0.7484767139359433</td><td>false</td></tr><tr><td>2022-03-31T17:00:00Z</td><td>9</td><td>11.9</td><td>133</td><td>3.8</td><td>1.6</td><td>4.3</td><td>3.275</td><td>0.7484767139359433</td><td>false</td></tr><tr><td>2022-03-31T18:00:00Z</td><td>9</td><td>12.3</td><td>234</td><td>2.3</td><td>1.6</td><td>4.3</td><td>3.275</td><td>0.7484767139359433</td><td>false</td></tr><tr><td>2022-03-31T19:00:00Z</td><td>9</td><td>14.9</td><td>145</td><td>3.8</td><td>1.6</td><td>4.3</td><td>3.275</td><td>0.7484767139359433</td><td>false</td></tr><tr><td>2022-03-31T20:00:00Z</td><td>9</td><td>9.8</td><td>221</td><td>4.3</td><td>1.6</td><td>4.3</td><td>3.275</td><td>0.7484767139359433</td><td>false</td></tr><tr><td>2022-03-31T21:00:00Z</td><td>9</td><td>9.4</td><td>307</td><td>2.2</td><td>1.6</td><td>4.3</td><td>3.275</td><td>0.7484767139359433</td><td>false</td></tr><tr><td>2022-03-31T22:00:00Z</td><td>9</td><td>13.3</td><td>25</td><td>3.4</td><td>1.6</td><td>4.3</td><td>3.275</td><td>0.7484767139359433</td><td>false</td></tr><tr><td>2022-03-31T23:00:00Z</td><td>9</td><td>15.0</td><td>102</td><td>3.1</td><td>1.6</td><td>4.3</td><td>3.275</td><td>0.7484767139359433</td><td>false</td></tr><tr><td>2022-03-31T00:00:00Z</td><td>10</td><td>12.2</td><td>118</td><td>2.6</td><td>1.6</td><td>4.3</td><td>2.704166666666666</td><td>0.7686686212376318</td><td>false</td></tr><tr><td>2022-03-31T01:00:00Z</td><td>10</td><td>9.1</td><td>292</td><td>2.3</td><td>1.6</td><td>4.3</td><td>2.704166666666666</td><td>0.7686686212376318</td><td>false</td></tr><tr><td>2022-03-31T02:00:00Z</td><td>10</td><td>9.3</td><td>103</td><td>1.8</td><td>1.6</td><td>4.3</td><td>2.704166666666666</td><td>0.7686686212376318</td><td>false</td></tr><tr><td>2022-03-31T03:00:00Z</td><td>10</td><td>11.7</td><td>343</td><td>2.4</td><td>1.6</td><td>4.3</td><td>2.704166666666666</td><td>0.7686686212376318</td><td>false</td></tr><tr><td>2022-03-31T04:00:00Z</td><td>10</td><td>10.1</td><td>181</td><td>2.7</td><td>1.6</td><td>4.3</td><td>2.704166666666666</td><td>0.7686686212376318</td><td>false</td></tr><tr><td>2022-03-31T05:00:00Z</td><td>10</td><td>13.6</td><td>181</td><td>1.6</td><td>1.6</td><td>4.3</td><td>2.704166666666666</td><td>0.7686686212376318</td><td>false</td></tr><tr><td>2022-03-31T06:00:00Z</td><td>10</td><td>14.0</td><td>296</td><td>2.5</td><td>1.6</td><td>4.3</td><td>2.704166666666666</td><td>0.7686686212376318</td><td>false</td></tr><tr><td>2022-03-31T07:00:00Z</td><td>10</td><td>14.8</td><td>339</td><td>2.9</td><td>1.6</td><td>4.3</td><td>2.704166666666666</td><td>0.7686686212376318</td><td>false</td></tr><tr><td>2022-03-31T08:00:00Z</td><td>10</td><td>11.9</td><td>340</td><td>1.6</td><td>1.6</td><td>4.3</td><td>2.704166666666666</td><td>0.7686686212376318</td><td>false</td></tr><tr><td>2022-03-31T09:00:00Z</td><td>10</td><td>9.3</td><td>32</td><td>2.8</td><td>1.6</td><td>4.3</td><td>2.704166666666666</td><td>0.7686686212376318</td><td>false</td></tr><tr><td>2022-03-31T10:00:00Z</td><td>10</td><td>14.6</td><td>322</td><td>1.7</td><td>1.6</td><td>4.3</td><td>2.704166666666666</td><td>0.7686686212376318</td><td>false</td></tr><tr><td>2022-03-31T11:00:00Z</td><td>10</td><td>10.2</td><td>199</td><td>2.9</td><td>1.6</td><td>4.3</td><td>2.704166666666666</td><td>0.7686686212376318</td><td>false</td></tr><tr><td>2022-03-31T12:00:00Z</td><td>10</td><td>9.4</td><td>218</td><td>3.4</td><td>1.6</td><td>4.3</td><td>2.704166666666666</td><td>0.7686686212376318</td><td>false</td></tr><tr><td>2022-03-31T13:00:00Z</td><td>10</td><td>11.1</td><td>13</td><td>3.6</td><td>1.6</td><td>4.3</td><td>2.704166666666666</td><td>0.7686686212376318</td><td>false</td></tr><tr><td>2022-03-31T14:00:00Z</td><td>10</td><td>13.8</td><td>263</td><td>3.9</td><td>1.6</td><td>4.3</td><td>2.704166666666666</td><td>0.7686686212376318</td><td>false</td></tr><tr><td>2022-03-31T15:00:00Z</td><td>10</td><td>10.6</td><td>328</td><td>2.1</td><td>1.6</td><td>4.3</td><td>2.704166666666666</td><td>0.7686686212376318</td><td>false</td></tr><tr><td>2022-03-31T16:00:00Z</td><td>10</td><td>11.1</td><td>49</td><td>2.1</td><td>1.6</td><td>4.3</td><td>2.704166666666666</td><td>0.7686686212376318</td><td>false</td></tr><tr><td>2022-03-31T17:00:00Z</td><td>10</td><td>9.8</td><td>240</td><td>4.1</td><td>1.6</td><td>4.3</td><td>2.704166666666666</td><td>0.7686686212376318</td><td>false</td></tr><tr><td>2022-03-31T18:00:00Z</td><td>10</td><td>11.6</td><td>83</td><td>2.7</td><td>1.6</td><td>4.3</td><td>2.704166666666666</td><td>0.7686686212376318</td><td>false</td></tr><tr><td>2022-03-31T19:00:00Z</td><td>10</td><td>11.4</td><td>23</td><td>2.0</td><td>1.6</td><td>4.3</td><td>2.704166666666666</td><td>0.7686686212376318</td><td>false</td></tr><tr><td>2022-03-31T20:00:00Z</td><td>10</td><td>12.3</td><td>26</td><td>3.4</td><td>1.6</td><td>4.3</td><td>2.704166666666666</td><td>0.7686686212376318</td><td>false</td></tr><tr><td>2022-03-31T21:00:00Z</td><td>10</td><td>10.0</td><td>115</td><td>2.8</td><td>1.6</td><td>4.3</td><td>2.704166666666666</td><td>0.7686686212376318</td><td>false</td></tr><tr><td>2022-03-31T22:00:00Z</td><td>10</td><td>14.0</td><td>82</td><td>4.3</td><td>1.6</td><td>4.3</td><td>2.704166666666666</td><td>0.7686686212376318</td><td>true</td></tr><tr><td>2022-03-31T23:00:00Z</td><td>10</td><td>10.1</td><td>19</td><td>2.7</td><td>1.6</td><td>4.3</td><td>2.704166666666666</td><td>0.7686686212376318</td><td>false</td></tr><tr><td>2022-03-31T00:00:00Z</td><td>11</td><td>12.5</td><td>71</td><td>2.4</td><td>1.5</td><td>4.3</td><td>2.8874999999999997</td><td>0.9483681636964851</td><td>false</td></tr><tr><td>2022-03-31T01:00:00Z</td><td>11</td><td>9.3</td><td>38</td><td>4.2</td><td>1.5</td><td>4.3</td><td>2.8874999999999997</td><td>0.9483681636964851</td><td>false</td></tr><tr><td>2022-03-31T02:00:00Z</td><td>11</td><td>13.7</td><td>272</td><td>2.2</td><td>1.5</td><td>4.3</td><td>2.8874999999999997</td><td>0.9483681636964851</td><td>false</td></tr><tr><td>2022-03-31T03:00:00Z</td><td>11</td><td>11.0</td><td>181</td><td>2.1</td><td>1.5</td><td>4.3</td><td>2.8874999999999997</td><td>0.9483681636964851</td><td>false</td></tr><tr><td>2022-03-31T04:00:00Z</td><td>11</td><td>10.8</td><td>31</td><td>1.7</td><td>1.5</td><td>4.3</td><td>2.8874999999999997</td><td>0.9483681636964851</td><td>false</td></tr><tr><td>2022-03-31T05:00:00Z</td><td>11</td><td>11.9</td><td>302</td><td>2.8</td><td>1.5</td><td>4.3</td><td>2.8874999999999997</td><td>0.9483681636964851</td><td>false</td></tr><tr><td>2022-03-31T06:00:00Z</td><td>11</td><td>10.4</td><td>38</td><td>2.6</td><td>1.5</td><td>4.3</td><td>2.8874999999999997</td><td>0.9483681636964851</td><td>false</td></tr><tr><td>2022-03-31T07:00:00Z</td><td>11</td><td>13.3</td><td>285</td><td>4.1</td><td>1.5</td><td>4.3</td><td>2.8874999999999997</td><td>0.9483681636964851</td><td>false</td></tr><tr><td>2022-03-31T08:00:00Z</td><td>11</td><td>12.1</td><td>278</td><td>1.6</td><td>1.5</td><td>4.3</td><td>2.8874999999999997</td><td>0.9483681636964851</td><td>false</td></tr><tr><td>2022-03-31T09:00:00Z</td><td>11</td><td>9.8</td><td>176</td><td>3.8</td><td>1.5</td><td>4.3</td><td>2.8874999999999997</td><td>0.9483681636964851</td><td>false</td></tr><tr><td>2022-03-31T10:00:00Z</td><td>11</td><td>11.1</td><td>315</td><td>2.3</td><td>1.5</td><td>4.3</td><td>2.8874999999999997</td><td>0.9483681636964851</td><td>false</td></tr><tr><td>2022-03-31T11:00:00Z</td><td>11</td><td>9.7</td><td>269</td><td>1.5</td><td>1.5</td><td>4.3</td><td>2.8874999999999997</td><td>0.9483681636964851</td><td>false</td></tr><tr><td>2022-03-31T12:00:00Z</td><td>11</td><td>13.0</td><td>257</td><td>2.1</td><td>1.5</td><td>4.3</td><td>2.8874999999999997</td><td>0.9483681636964851</td><td>false</td></tr><tr><td>2022-03-31T13:00:00Z</td><td>11</td><td>10.1</td><td>29</td><td>3.8</td><td>1.5</td><td>4.3</td><td>2.8874999999999997</td><td>0.9483681636964851</td><td>false</td></tr><tr><td>2022-03-31T14:00:00Z</td><td>11</td><td>14.2</td><td>357</td><td>3.1</td><td>1.5</td><td>4.3</td><td>2.8874999999999997</td><td>0.9483681636964851</td><td>false</td></tr><tr><td>2022-03-31T15:00:00Z</td><td>11</td><td>14.3</td><td>306</td><td>1.9</td><td>1.5</td><td>4.3</td><td>2.8874999999999997</td><td>0.9483681636964851</td><td>false</td></tr><tr><td>2022-03-31T16:00:00Z</td><td>11</td><td>12.3</td><td>58</td><td>3.8</td><td>1.5</td><td>4.3</td><td>2.8874999999999997</td><td>0.9483681636964851</td><td>false</td></tr><tr><td>2022-03-31T17:00:00Z</td><td>11</td><td>9.8</td><td>149</td><td>4.0</td><td>1.5</td><td>4.3</td><td>2.8874999999999997</td><td>0.9483681636964851</td><td>false</td></tr><tr><td>2022-03-31T18:00:00Z</td><td>11</td><td>13.7</td><td>80</td><td>3.6</td><td>1.5</td><td>4.3</td><td>2.8874999999999997</td><td>0.9483681636964851</td><td>false</td></tr><tr><td>2022-03-31T19:00:00Z</td><td>11</td><td>14.6</td><td>202</td><td>3.8</td><td>1.5</td><td>4.3</td><td>2.8874999999999997</td><td>0.9483681636964851</td><td>false</td></tr><tr><td>2022-03-31T20:00:00Z</td><td>11</td><td>13.0</td><td>103</td><td>2.4</td><td>1.5</td><td>4.3</td><td>2.8874999999999997</td><td>0.9483681636964851</td><td>false</td></tr><tr><td>2022-03-31T21:00:00Z</td><td>11</td><td>12.6</td><td>341</td><td>4.3</td><td>1.5</td><td>4.3</td><td>2.8874999999999997</td><td>0.9483681636964851</td><td>false</td></tr><tr><td>2022-03-31T22:00:00Z</td><td>11</td><td>13.5</td><td>194</td><td>1.7</td><td>1.5</td><td>4.3</td><td>2.8874999999999997</td><td>0.9483681636964851</td><td>false</td></tr><tr><td>2022-03-31T23:00:00Z</td><td>11</td><td>13.3</td><td>232</td><td>3.5</td><td>1.5</td><td>4.3</td><td>2.8874999999999997</td><td>0.9483681636964851</td><td>false</td></tr><tr><td>2022-03-31T00:00:00Z</td><td>12</td><td>13.2</td><td>265</td><td>3.4</td><td>1.6</td><td>4.4</td><td>2.983333333333334</td><td>0.95810803905027</td><td>false</td></tr><tr><td>2022-03-31T01:00:00Z</td><td>12</td><td>14.8</td><td>74</td><td>2.5</td><td>1.6</td><td>4.4</td><td>2.983333333333334</td><td>0.95810803905027</td><td>false</td></tr><tr><td>2022-03-31T02:00:00Z</td><td>12</td><td>10.3</td><td>31</td><td>4.0</td><td>1.6</td><td>4.4</td><td>2.983333333333334</td><td>0.95810803905027</td><td>false</td></tr><tr><td>2022-03-31T03:00:00Z</td><td>12</td><td>10.4</td><td>13</td><td>1.7</td><td>1.6</td><td>4.4</td><td>2.983333333333334</td><td>0.95810803905027</td><td>false</td></tr><tr><td>2022-03-31T04:00:00Z</td><td>12</td><td>10.1</td><td>170</td><td>2.3</td><td>1.6</td><td>4.4</td><td>2.983333333333334</td><td>0.95810803905027</td><td>false</td></tr><tr><td>2022-03-31T05:00:00Z</td><td>12</td><td>13.7</td><td>42</td><td>1.6</td><td>1.6</td><td>4.4</td><td>2.983333333333334</td><td>0.95810803905027</td><td>false</td></tr><tr><td>2022-03-31T06:00:00Z</td><td>12</td><td>14.9</td><td>208</td><td>1.9</td><td>1.6</td><td>4.4</td><td>2.983333333333334</td><td>0.95810803905027</td><td>false</td></tr><tr><td>2022-03-31T07:00:00Z</td><td>12</td><td>9.4</td><td>227</td><td>4.4</td><td>1.6</td><td>4.4</td><td>2.983333333333334</td><td>0.95810803905027</td><td>false</td></tr><tr><td>2022-03-31T08:00:00Z</td><td>12</td><td>12.5</td><td>75</td><td>2.2</td><td>1.6</td><td>4.4</td><td>2.983333333333334</td><td>0.95810803905027</td><td>false</td></tr><tr><td>2022-03-31T09:00:00Z</td><td>12</td><td>12.7</td><td>165</td><td>3.5</td><td>1.6</td><td>4.4</td><td>2.983333333333334</td><td>0.95810803905027</td><td>false</td></tr><tr><td>2022-03-31T10:00:00Z</td><td>12</td><td>12.7</td><td>74</td><td>4.3</td><td>1.6</td><td>4.4</td><td>2.983333333333334</td><td>0.95810803905027</td><td>false</td></tr><tr><td>2022-03-31T11:00:00Z</td><td>12</td><td>10.2</td><td>348</td><td>1.7</td><td>1.6</td><td>4.4</td><td>2.983333333333334</td><td>0.95810803905027</td><td>false</td></tr><tr><td>2022-03-31T12:00:00Z</td><td>12</td><td>14.3</td><td>301</td><td>4.4</td><td>1.6</td><td>4.4</td><td>2.983333333333334</td><td>0.95810803905027</td><td>false</td></tr><tr><td>2022-03-31T13:00:00Z</td><td>12</td><td>14.7</td><td>18</td><td>3.7</td><td>1.6</td><td>4.4</td><td>2.983333333333334</td><td>0.95810803905027</td><td>false</td></tr><tr><td>2022-03-31T14:00:00Z</td><td>12</td><td>14.8</td><td>297</td><td>4.3</td><td>1.6</td><td>4.4</td><td>2.983333333333334</td><td>0.95810803905027</td><td>false</td></tr><tr><td>2022-03-31T15:00:00Z</td><td>12</td><td>9.4</td><td>203</td><td>2.7</td><td>1.6</td><td>4.4</td><td>2.983333333333334</td><td>0.95810803905027</td><td>false</td></tr><tr><td>2022-03-31T16:00:00Z</td><td>12</td><td>14.1</td><td>25</td><td>4.4</td><td>1.6</td><td>4.4</td><td>2.983333333333334</td><td>0.95810803905027</td><td>false</td></tr><tr><td>2022-03-31T17:00:00Z</td><td>12</td><td>12.6</td><td>204</td><td>2.4</td><td>1.6</td><td>4.4</td><td>2.983333333333334</td><td>0.95810803905027</td><td>false</td></tr><tr><td>2022-03-31T18:00:00Z</td><td>12</td><td>11.7</td><td>291</td><td>2.3</td><td>1.6</td><td>4.4</td><td>2.983333333333334</td><td>0.95810803905027</td><td>false</td></tr><tr><td>2022-03-31T19:00:00Z</td><td>12</td><td>12.5</td><td>320</td><td>2.0</td><td>1.6</td><td>4.4</td><td>2.983333333333334</td><td>0.95810803905027</td><td>false</td></tr><tr><td>2022-03-31T20:00:00Z</td><td>12</td><td>13.6</td><td>44</td><td>3.0</td><td>1.6</td><td>4.4</td><td>2.983333333333334</td><td>0.95810803905027</td><td>false</td></tr><tr><td>2022-03-31T21:00:00Z</td><td>12</td><td>11.4</td><td>140</td><td>2.8</td><td>1.6</td><td>4.4</td><td>2.983333333333334</td><td>0.95810803905027</td><td>false</td></tr><tr><td>2022-03-31T22:00:00Z</td><td>12</td><td>14.5</td><td>169</td><td>2.9</td><td>1.6</td><td>4.4</td><td>2.983333333333334</td><td>0.95810803905027</td><td>false</td></tr><tr><td>2022-03-31T23:00:00Z</td><td>12</td><td>9.5</td><td>189</td><td>3.2</td><td>1.6</td><td>4.4</td><td>2.983333333333334</td><td>0.95810803905027</td><td>false</td></tr><tr><td>2022-03-31T00:00:00Z</td><td>13</td><td>11.0</td><td>168</td><td>2.3</td><td>1.6</td><td>4.5</td><td>3.304166666666667</td><td>0.9901599197436071</td><td>false</td></tr><tr><td>2022-03-31T01:00:00Z</td><td>13</td><td>12.6</td><td>68</td><td>2.8</td><td>1.6</td><td>4.5</td><td>3.304166666666667</td><td>0.9901599197436071</td><td>false</td></tr><tr><td>2022-03-31T02:00:00Z</td><td>13</td><td>10.3</td><td>150</td><td>3.2</td><td>1.6</td><td>4.5</td><td>3.304166666666667</td><td>0.9901599197436071</td><td>false</td></tr><tr><td>2022-03-31T03:00:00Z</td><td>13</td><td>13.8</td><td>66</td><td>3.9</td><td>1.6</td><td>4.5</td><td>3.304166666666667</td><td>0.9901599197436071</td><td>false</td></tr><tr><td>2022-03-31T04:00:00Z</td><td>13</td><td>12.3</td><td>259</td><td>2.1</td><td>1.6</td><td>4.5</td><td>3.304166666666667</td><td>0.9901599197436071</td><td>false</td></tr><tr><td>2022-03-31T05:00:00Z</td><td>13</td><td>12.7</td><td>8</td><td>4.1</td><td>1.6</td><td>4.5</td><td>3.304166666666667</td><td>0.9901599197436071</td><td>false</td></tr><tr><td>2022-03-31T06:00:00Z</td><td>13</td><td>12.1</td><td>123</td><td>2.7</td><td>1.6</td><td>4.5</td><td>3.304166666666667</td><td>0.9901599197436071</td><td>false</td></tr><tr><td>2022-03-31T07:00:00Z</td><td>13</td><td>9.7</td><td>347</td><td>1.7</td><td>1.6</td><td>4.5</td><td>3.304166666666667</td><td>0.9901599197436071</td><td>false</td></tr><tr><td>2022-03-31T08:00:00Z</td><td>13</td><td>10.1</td><td>325</td><td>4.2</td><td>1.6</td><td>4.5</td><td>3.304166666666667</td><td>0.9901599197436071</td><td>false</td></tr><tr><td>2022-03-31T09:00:00Z</td><td>13</td><td>14.6</td><td>30</td><td>3.5</td><td>1.6</td><td>4.5</td><td>3.304166666666667</td><td>0.9901599197436071</td><td>false</td></tr><tr><td>2022-03-31T10:00:00Z</td><td>13</td><td>13.9</td><td>96</td><td>4.3</td><td>1.6</td><td>4.5</td><td>3.304166666666667</td><td>0.9901599197436071</td><td>false</td></tr><tr><td>2022-03-31T11:00:00Z</td><td>13</td><td>11.5</td><td>83</td><td>4.2</td><td>1.6</td><td>4.5</td><td>3.304166666666667</td><td>0.9901599197436071</td><td>false</td></tr><tr><td>2022-03-31T12:00:00Z</td><td>13</td><td>10.9</td><td>25</td><td>4.2</td><td>1.6</td><td>4.5</td><td>3.304166666666667</td><td>0.9901599197436071</td><td>false</td></tr><tr><td>2022-03-31T13:00:00Z</td><td>13</td><td>13.4</td><td>35</td><td>4.2</td><td>1.6</td><td>4.5</td><td>3.304166666666667</td><td>0.9901599197436071</td><td>false</td></tr><tr><td>2022-03-31T14:00:00Z</td><td>13</td><td>9.8</td><td>254</td><td>3.3</td><td>1.6</td><td>4.5</td><td>3.304166666666667</td><td>0.9901599197436071</td><td>false</td></tr><tr><td>2022-03-31T15:00:00Z</td><td>13</td><td>15.0</td><td>78</td><td>4.2</td><td>1.6</td><td>4.5</td><td>3.304166666666667</td><td>0.9901599197436071</td><td>false</td></tr><tr><td>2022-03-31T16:00:00Z</td><td>13</td><td>9.1</td><td>64</td><td>1.6</td><td>1.6</td><td>4.5</td><td>3.304166666666667</td><td>0.9901599197436071</td><td>false</td></tr><tr><td>2022-03-31T17:00:00Z</td><td>13</td><td>12.2</td><td>220</td><td>4.1</td><td>1.6</td><td>4.5</td><td>3.304166666666667</td><td>0.9901599197436071</td><td>false</td></tr><tr><td>2022-03-31T18:00:00Z</td><td>13</td><td>13.3</td><td>175</td><td>3.7</td><td>1.6</td><td>4.5</td><td>3.304166666666667</td><td>0.9901599197436071</td><td>false</td></tr><tr><td>2022-03-31T19:00:00Z</td><td>13</td><td>13.4</td><td>140</td><td>1.6</td><td>1.6</td><td>4.5</td><td>3.304166666666667</td><td>0.9901599197436071</td><td>false</td></tr><tr><td>2022-03-31T20:00:00Z</td><td>13</td><td>11.0</td><td>303</td><td>3.8</td><td>1.6</td><td>4.5</td><td>3.304166666666667</td><td>0.9901599197436071</td><td>false</td></tr><tr><td>2022-03-31T21:00:00Z</td><td>13</td><td>9.9</td><td>195</td><td>1.7</td><td>1.6</td><td>4.5</td><td>3.304166666666667</td><td>0.9901599197436071</td><td>false</td></tr><tr><td>2022-03-31T22:00:00Z</td><td>13</td><td>10.7</td><td>145</td><td>3.4</td><td>1.6</td><td>4.5</td><td>3.304166666666667</td><td>0.9901599197436071</td><td>false</td></tr><tr><td>2022-03-31T23:00:00Z</td><td>13</td><td>12.8</td><td>302</td><td>4.5</td><td>1.6</td><td>4.5</td><td>3.304166666666667</td><td>0.9901599197436071</td><td>false</td></tr><tr><td>2022-03-31T00:00:00Z</td><td>14</td><td>10.5</td><td>96</td><td>3.4</td><td>1.6</td><td>4.3</td><td>3.304166666666666</td><td>0.8492857186389383</td><td>false</td></tr><tr><td>2022-03-31T01:00:00Z</td><td>14</td><td>12.6</td><td>171</td><td>3.4</td><td>1.6</td><td>4.3</td><td>3.304166666666666</td><td>0.8492857186389383</td><td>false</td></tr><tr><td>2022-03-31T02:00:00Z</td><td>14</td><td>12.3</td><td>276</td><td>4.0</td><td>1.6</td><td>4.3</td><td>3.304166666666666</td><td>0.8492857186389383</td><td>false</td></tr><tr><td>2022-03-31T03:00:00Z</td><td>14</td><td>10.6</td><td>153</td><td>3.9</td><td>1.6</td><td>4.3</td><td>3.304166666666666</td><td>0.8492857186389383</td><td>false</td></tr><tr><td>2022-03-31T04:00:00Z</td><td>14</td><td>13.1</td><td>320</td><td>4.1</td><td>1.6</td><td>4.3</td><td>3.304166666666666</td><td>0.8492857186389383</td><td>false</td></tr><tr><td>2022-03-31T05:00:00Z</td><td>14</td><td>14.3</td><td>80</td><td>3.8</td><td>1.6</td><td>4.3</td><td>3.304166666666666</td><td>0.8492857186389383</td><td>false</td></tr><tr><td>2022-03-31T06:00:00Z</td><td>14</td><td>9.6</td><td>298</td><td>4.0</td><td>1.6</td><td>4.3</td><td>3.304166666666666</td><td>0.8492857186389383</td><td>false</td></tr><tr><td>2022-03-31T07:00:00Z</td><td>14</td><td>10.8</td><td>79</td><td>4.0</td><td>1.6</td><td>4.3</td><td>3.304166666666666</td><td>0.8492857186389383</td><td>false</td></tr><tr><td>2022-03-31T08:00:00Z</td><td>14</td><td>12.5</td><td>145</td><td>3.3</td><td>1.6</td><td>4.3</td><td>3.304166666666666</td><td>0.8492857186389383</td><td>false</td></tr><tr><td>2022-03-31T09:00:00Z</td><td>14</td><td>9.7</td><td>188</td><td>2.3</td><td>1.6</td><td>4.3</td><td>3.304166666666666</td><td>0.8492857186389383</td><td>false</td></tr><tr><td>2022-03-31T10:00:00Z</td><td>14</td><td>11.9</td><td>211</td><td>3.3</td><td>1.6</td><td>4.3</td><td>3.304166666666666</td><td>0.8492857186389383</td><td>false</td></tr><tr><td>2022-03-31T11:00:00Z</td><td>14</td><td>9.3</td><td>172</td><td>2.5</td><td>1.6</td><td>4.3</td><td>3.304166666666666</td><td>0.8492857186389383</td><td>false</td></tr><tr><td>2022-03-31T12:00:00Z</td><td>14</td><td>9.2</td><td>156</td><td>2.1</td><td>1.6</td><td>4.3</td><td>3.304166666666666</td><td>0.8492857186389383</td><td>false</td></tr><tr><td>2022-03-31T13:00:00Z</td><td>14</td><td>13.2</td><td>311</td><td>4.3</td><td>1.6</td><td>4.3</td><td>3.304166666666666</td><td>0.8492857186389383</td><td>false</td></tr><tr><td>2022-03-31T14:00:00Z</td><td>14</td><td>10.0</td><td>324</td><td>4.1</td><td>1.6</td><td>4.3</td><td>3.304166666666666</td><td>0.8492857186389383</td><td>false</td></tr><tr><td>2022-03-31T15:00:00Z</td><td>14</td><td>12.2</td><td>10</td><td>4.1</td><td>1.6</td><td>4.3</td><td>3.304166666666666</td><td>0.8492857186389383</td><td>false</td></tr><tr><td>2022-03-31T16:00:00Z</td><td>14</td><td>12.6</td><td>262</td><td>1.9</td><td>1.6</td><td>4.3</td><td>3.304166666666666</td><td>0.8492857186389383</td><td>false</td></tr><tr><td>2022-03-31T17:00:00Z</td><td>14</td><td>11.3</td><td>276</td><td>3.6</td><td>1.6</td><td>4.3</td><td>3.304166666666666</td><td>0.8492857186389383</td><td>false</td></tr><tr><td>2022-03-31T18:00:00Z</td><td>14</td><td>14.0</td><td>22</td><td>3.9</td><td>1.6</td><td>4.3</td><td>3.304166666666666</td><td>0.8492857186389383</td><td>false</td></tr><tr><td>2022-03-31T19:00:00Z</td><td>14</td><td>14.5</td><td>80</td><td>1.6</td><td>1.6</td><td>4.3</td><td>3.304166666666666</td><td>0.8492857186389383</td><td>true</td></tr><tr><td>2022-03-31T20:00:00Z</td><td>14</td><td>10.3</td><td>335</td><td>1.6</td><td>1.6</td><td>4.3</td><td>3.304166666666666</td><td>0.8492857186389383</td><td>true</td></tr><tr><td>2022-03-31T21:00:00Z</td><td>14</td><td>13.8</td><td>68</td><td>3.8</td><td>1.6</td><td>4.3</td><td>3.304166666666666</td><td>0.8492857186389383</td><td>false</td></tr><tr><td>2022-03-31T22:00:00Z</td><td>14</td><td>11.0</td><td>280</td><td>3.1</td><td>1.6</td><td>4.3</td><td>3.304166666666666</td><td>0.8492857186389383</td><td>false</td></tr><tr><td>2022-03-31T23:00:00Z</td><td>14</td><td>14.8</td><td>286</td><td>3.2</td><td>1.6</td><td>4.3</td><td>3.304166666666666</td><td>0.8492857186389383</td><td>false</td></tr><tr><td>2022-03-31T00:00:00Z</td><td>15</td><td>13.7</td><td>180</td><td>4.2</td><td>1.7</td><td>4.4</td><td>2.9166666666666674</td><td>0.8207455076976036</td><td>false</td></tr><tr><td>2022-03-31T01:00:00Z</td><td>15</td><td>12.2</td><td>325</td><td>2.8</td><td>1.7</td><td>4.4</td><td>2.9166666666666674</td><td>0.8207455076976036</td><td>false</td></tr><tr><td>2022-03-31T02:00:00Z</td><td>15</td><td>14.8</td><td>274</td><td>4.1</td><td>1.7</td><td>4.4</td><td>2.9166666666666674</td><td>0.8207455076976036</td><td>false</td></tr><tr><td>2022-03-31T03:00:00Z</td><td>15</td><td>9.5</td><td>53</td><td>2.7</td><td>1.7</td><td>4.4</td><td>2.9166666666666674</td><td>0.8207455076976036</td><td>false</td></tr><tr><td>2022-03-31T04:00:00Z</td><td>15</td><td>11.9</td><td>1</td><td>1.9</td><td>1.7</td><td>4.4</td><td>2.9166666666666674</td><td>0.8207455076976036</td><td>false</td></tr><tr><td>2022-03-31T05:00:00Z</td><td>15</td><td>10.0</td><td>62</td><td>2.5</td><td>1.7</td><td>4.4</td><td>2.9166666666666674</td><td>0.8207455076976036</td><td>false</td></tr><tr><td>2022-03-31T06:00:00Z</td><td>15</td><td>14.8</td><td>37</td><td>2.4</td><td>1.7</td><td>4.4</td><td>2.9166666666666674</td><td>0.8207455076976036</td><td>false</td></tr><tr><td>2022-03-31T07:00:00Z</td><td>15</td><td>10.0</td><td>80</td><td>4.4</td><td>1.7</td><td>4.4</td><td>2.9166666666666674</td><td>0.8207455076976036</td><td>false</td></tr><tr><td>2022-03-31T08:00:00Z</td><td>15</td><td>11.6</td><td>287</td><td>3.6</td><td>1.7</td><td>4.4</td><td>2.9166666666666674</td><td>0.8207455076976036</td><td>false</td></tr><tr><td>2022-03-31T09:00:00Z</td><td>15</td><td>12.3</td><td>334</td><td>2.3</td><td>1.7</td><td>4.4</td><td>2.9166666666666674</td><td>0.8207455076976036</td><td>false</td></tr><tr><td>2022-03-31T10:00:00Z</td><td>15</td><td>11.2</td><td>27</td><td>2.5</td><td>1.7</td><td>4.4</td><td>2.9166666666666674</td><td>0.8207455076976036</td><td>false</td></tr><tr><td>2022-03-31T11:00:00Z</td><td>15</td><td>14.5</td><td>160</td><td>2.3</td><td>1.7</td><td>4.4</td><td>2.9166666666666674</td><td>0.8207455076976036</td><td>false</td></tr><tr><td>2022-03-31T12:00:00Z</td><td>15</td><td>13.0</td><td>191</td><td>2.4</td><td>1.7</td><td>4.4</td><td>2.9166666666666674</td><td>0.8207455076976036</td><td>false</td></tr><tr><td>2022-03-31T13:00:00Z</td><td>15</td><td>9.0</td><td>254</td><td>2.7</td><td>1.7</td><td>4.4</td><td>2.9166666666666674</td><td>0.8207455076976036</td><td>false</td></tr><tr><td>2022-03-31T14:00:00Z</td><td>15</td><td>10.3</td><td>322</td><td>3.0</td><td>1.7</td><td>4.4</td><td>2.9166666666666674</td><td>0.8207455076976036</td><td>false</td></tr><tr><td>2022-03-31T15:00:00Z</td><td>15</td><td>13.1</td><td>24</td><td>3.1</td><td>1.7</td><td>4.4</td><td>2.9166666666666674</td><td>0.8207455076976036</td><td>false</td></tr><tr><td>2022-03-31T16:00:00Z</td><td>15</td><td>11.9</td><td>225</td><td>3.1</td><td>1.7</td><td>4.4</td><td>2.9166666666666674</td><td>0.8207455076976036</td><td>false</td></tr><tr><td>2022-03-31T17:00:00Z</td><td>15</td><td>12.7</td><td>94</td><td>4.2</td><td>1.7</td><td>4.4</td><td>2.9166666666666674</td><td>0.8207455076976036</td><td>false</td></tr><tr><td>2022-03-31T18:00:00Z</td><td>15</td><td>11.5</td><td>307</td><td>3.1</td><td>1.7</td><td>4.4</td><td>2.9166666666666674</td><td>0.8207455076976036</td><td>false</td></tr><tr><td>2022-03-31T19:00:00Z</td><td>15</td><td>11.1</td><td>241</td><td>2.1</td><td>1.7</td><td>4.4</td><td>2.9166666666666674</td><td>0.8207455076976036</td><td>false</td></tr><tr><td>2022-03-31T20:00:00Z</td><td>15</td><td>12.0</td><td>220</td><td>1.7</td><td>1.7</td><td>4.4</td><td>2.9166666666666674</td><td>0.8207455076976036</td><td>false</td></tr><tr><td>2022-03-31T21:00:00Z</td><td>15</td><td>13.5</td><td>137</td><td>2.2</td><td>1.7</td><td>4.4</td><td>2.9166666666666674</td><td>0.8207455076976036</td><td>false</td></tr><tr><td>2022-03-31T22:00:00Z</td><td>15</td><td>14.5</td><td>350</td><td>4.4</td><td>1.7</td><td>4.4</td><td>2.9166666666666674</td><td>0.8207455076976036</td><td>false</td></tr><tr><td>2022-03-31T23:00:00Z</td><td>15</td><td>12.0</td><td>56</td><td>2.3</td><td>1.7</td><td>4.4</td><td>2.9166666666666674</td><td>0.8207455076976036</td><td>false</td></tr></tbody></table></div>"
      ]
     },
     "metadata": {
      "application/vnd.databricks.v1+output": {
       "addedWidgets": {},
       "aggData": [],
       "aggError": "",
       "aggOverflow": false,
       "aggSchema": [],
       "aggSeriesLimitReached": false,
       "aggType": "",
       "arguments": {},
       "columnCustomDisplayInfos": {},
       "data": [
        [
         "2022-03-31T01:00:00Z",
         1,
         10.7,
         238,
         2.6,
         1.6,
         4.3,
         2.978260869565218,
         0.7815814514286986,
         false
        ],
        [
         "2022-03-31T02:00:00Z",
         1,
         15,
         295,
         4,
         1.6,
         4.3,
         2.978260869565218,
         0.7815814514286986,
         false
        ],
        [
         "2022-03-31T03:00:00Z",
         1,
         11.3,
         214,
         3.3,
         1.6,
         4.3,
         2.978260869565218,
         0.7815814514286986,
         false
        ],
        [
         "2022-03-31T04:00:00Z",
         1,
         9.8,
         312,
         2.5,
         1.6,
         4.3,
         2.978260869565218,
         0.7815814514286986,
         false
        ],
        [
         "2022-03-31T05:00:00Z",
         1,
         13,
         232,
         2.1,
         1.6,
         4.3,
         2.978260869565218,
         0.7815814514286986,
         false
        ],
        [
         "2022-03-31T06:00:00Z",
         1,
         10.5,
         304,
         3,
         1.6,
         4.3,
         2.978260869565218,
         0.7815814514286986,
         false
        ],
        [
         "2022-03-31T07:00:00Z",
         1,
         9.1,
         305,
         2.8,
         1.6,
         4.3,
         2.978260869565218,
         0.7815814514286986,
         false
        ],
        [
         "2022-03-31T08:00:00Z",
         1,
         14.7,
         131,
         3.2,
         1.6,
         4.3,
         2.978260869565218,
         0.7815814514286986,
         false
        ],
        [
         "2022-03-31T09:00:00Z",
         1,
         9.1,
         242,
         3.1,
         1.6,
         4.3,
         2.978260869565218,
         0.7815814514286986,
         false
        ],
        [
         "2022-03-31T10:00:00Z",
         1,
         10.2,
         279,
         2.2,
         1.6,
         4.3,
         2.978260869565218,
         0.7815814514286986,
         false
        ],
        [
         "2022-03-31T11:00:00Z",
         1,
         10,
         281,
         3.1,
         1.6,
         4.3,
         2.978260869565218,
         0.7815814514286986,
         false
        ],
        [
         "2022-03-31T12:00:00Z",
         1,
         9.2,
         289,
         3.9,
         1.6,
         4.3,
         2.978260869565218,
         0.7815814514286986,
         false
        ],
        [
         "2022-03-31T13:00:00Z",
         1,
         14.9,
         105,
         1.8,
         1.6,
         4.3,
         2.978260869565218,
         0.7815814514286986,
         false
        ],
        [
         "2022-03-31T14:00:00Z",
         1,
         14.7,
         26,
         1.6,
         1.6,
         4.3,
         2.978260869565218,
         0.7815814514286986,
         false
        ],
        [
         "2022-03-31T15:00:00Z",
         1,
         12.7,
         261,
         2.5,
         1.6,
         4.3,
         2.978260869565218,
         0.7815814514286986,
         false
        ],
        [
         "2022-03-31T16:00:00Z",
         1,
         12,
         316,
         3.7,
         1.6,
         4.3,
         2.978260869565218,
         0.7815814514286986,
         false
        ],
        [
         "2022-03-31T17:00:00Z",
         1,
         12,
         331,
         3.7,
         1.6,
         4.3,
         2.978260869565218,
         0.7815814514286986,
         false
        ],
        [
         "2022-03-31T18:00:00Z",
         1,
         13.7,
         77,
         4.3,
         1.6,
         4.3,
         2.978260869565218,
         0.7815814514286986,
         false
        ],
        [
         "2022-03-31T19:00:00Z",
         1,
         9.4,
         75,
         1.9,
         1.6,
         4.3,
         2.978260869565218,
         0.7815814514286986,
         false
        ],
        [
         "2022-03-31T20:00:00Z",
         1,
         14.6,
         254,
         4.1,
         1.6,
         4.3,
         2.978260869565218,
         0.7815814514286986,
         false
        ],
        [
         "2022-03-31T21:00:00Z",
         1,
         11.4,
         172,
         2.4,
         1.6,
         4.3,
         2.978260869565218,
         0.7815814514286986,
         false
        ],
        [
         "2022-03-31T22:00:00Z",
         1,
         11.1,
         168,
         3,
         1.6,
         4.3,
         2.978260869565218,
         0.7815814514286986,
         false
        ],
        [
         "2022-03-31T23:00:00Z",
         1,
         13.7,
         51,
         3.7,
         1.6,
         4.3,
         2.978260869565218,
         0.7815814514286986,
         false
        ],
        [
         "2022-03-31T00:00:00Z",
         1,
         14.7,
         186,
         2.978260869565218,
         1.6,
         4.3,
         2.978260869565218,
         0.7815814514286986,
         false
        ],
        [
         "2022-03-31T00:00:00Z",
         2,
         11.2,
         68,
         2.8,
         1.6,
         4.4,
         3.229166666666666,
         0.712301332587408,
         false
        ],
        [
         "2022-03-31T01:00:00Z",
         2,
         9.3,
         260,
         2.8,
         1.6,
         4.4,
         3.229166666666666,
         0.712301332587408,
         false
        ],
        [
         "2022-03-31T02:00:00Z",
         2,
         9.3,
         179,
         2.5,
         1.6,
         4.4,
         3.229166666666666,
         0.712301332587408,
         false
        ],
        [
         "2022-03-31T03:00:00Z",
         2,
         11.1,
         336,
         3.2,
         1.6,
         4.4,
         3.229166666666666,
         0.712301332587408,
         false
        ],
        [
         "2022-03-31T04:00:00Z",
         2,
         12.6,
         170,
         3.2,
         1.6,
         4.4,
         3.229166666666666,
         0.712301332587408,
         false
        ],
        [
         "2022-03-31T05:00:00Z",
         2,
         14.4,
         260,
         3.6,
         1.6,
         4.4,
         3.229166666666666,
         0.712301332587408,
         false
        ],
        [
         "2022-03-31T06:00:00Z",
         2,
         11.2,
         183,
         4.4,
         1.6,
         4.4,
         3.229166666666666,
         0.712301332587408,
         false
        ],
        [
         "2022-03-31T07:00:00Z",
         2,
         11.7,
         119,
         3.4,
         1.6,
         4.4,
         3.229166666666666,
         0.712301332587408,
         false
        ],
        [
         "2022-03-31T08:00:00Z",
         2,
         9.5,
         227,
         1.6,
         1.6,
         4.4,
         3.229166666666666,
         0.712301332587408,
         true
        ],
        [
         "2022-03-31T09:00:00Z",
         2,
         14.9,
         152,
         3.1,
         1.6,
         4.4,
         3.229166666666666,
         0.712301332587408,
         false
        ],
        [
         "2022-03-31T10:00:00Z",
         2,
         10.3,
         191,
         3.9,
         1.6,
         4.4,
         3.229166666666666,
         0.712301332587408,
         false
        ],
        [
         "2022-03-31T11:00:00Z",
         2,
         11.9,
         259,
         4.2,
         1.6,
         4.4,
         3.229166666666666,
         0.712301332587408,
         false
        ],
        [
         "2022-03-31T12:00:00Z",
         2,
         14.5,
         285,
         3,
         1.6,
         4.4,
         3.229166666666666,
         0.712301332587408,
         false
        ],
        [
         "2022-03-31T13:00:00Z",
         2,
         13.1,
         231,
         4.4,
         1.6,
         4.4,
         3.229166666666666,
         0.712301332587408,
         false
        ],
        [
         "2022-03-31T14:00:00Z",
         2,
         12.8,
         178,
         3.7,
         1.6,
         4.4,
         3.229166666666666,
         0.712301332587408,
         false
        ],
        [
         "2022-03-31T15:00:00Z",
         2,
         13.9,
         99,
         3.3,
         1.6,
         4.4,
         3.229166666666666,
         0.712301332587408,
         false
        ],
        [
         "2022-03-31T16:00:00Z",
         2,
         11.3,
         79,
         2,
         1.6,
         4.4,
         3.229166666666666,
         0.712301332587408,
         false
        ],
        [
         "2022-03-31T17:00:00Z",
         2,
         12.3,
         115,
         4,
         1.6,
         4.4,
         3.229166666666666,
         0.712301332587408,
         false
        ],
        [
         "2022-03-31T18:00:00Z",
         2,
         14.6,
         171,
         2.5,
         1.6,
         4.4,
         3.229166666666666,
         0.712301332587408,
         false
        ],
        [
         "2022-03-31T19:00:00Z",
         2,
         12.5,
         57,
         3.5,
         1.6,
         4.4,
         3.229166666666666,
         0.712301332587408,
         false
        ],
        [
         "2022-03-31T20:00:00Z",
         2,
         14.3,
         323,
         3.8,
         1.6,
         4.4,
         3.229166666666666,
         0.712301332587408,
         false
        ],
        [
         "2022-03-31T21:00:00Z",
         2,
         13.9,
         19,
         2.8,
         1.6,
         4.4,
         3.229166666666666,
         0.712301332587408,
         false
        ],
        [
         "2022-03-31T22:00:00Z",
         2,
         9.7,
         25,
         3.1,
         1.6,
         4.4,
         3.229166666666666,
         0.712301332587408,
         false
        ],
        [
         "2022-03-31T23:00:00Z",
         2,
         10.3,
         244,
         2.7,
         1.6,
         4.4,
         3.229166666666666,
         0.712301332587408,
         false
        ],
        [
         "2022-03-31T00:00:00Z",
         3,
         14.7,
         242,
         2.1,
         1.5,
         4.3,
         2.8791666666666664,
         0.9623247064165559,
         false
        ],
        [
         "2022-03-31T01:00:00Z",
         3,
         15,
         306,
         3.3,
         1.5,
         4.3,
         2.8791666666666664,
         0.9623247064165559,
         false
        ],
        [
         "2022-03-31T02:00:00Z",
         3,
         10.7,
         106,
         3.6,
         1.5,
         4.3,
         2.8791666666666664,
         0.9623247064165559,
         false
        ],
        [
         "2022-03-31T03:00:00Z",
         3,
         10,
         140,
         2.8,
         1.5,
         4.3,
         2.8791666666666664,
         0.9623247064165559,
         false
        ],
        [
         "2022-03-31T04:00:00Z",
         3,
         12.1,
         34,
         3.4,
         1.5,
         4.3,
         2.8791666666666664,
         0.9623247064165559,
         false
        ],
        [
         "2022-03-31T05:00:00Z",
         3,
         14.2,
         195,
         3.3,
         1.5,
         4.3,
         2.8791666666666664,
         0.9623247064165559,
         false
        ],
        [
         "2022-03-31T06:00:00Z",
         3,
         9.5,
         349,
         4.1,
         1.5,
         4.3,
         2.8791666666666664,
         0.9623247064165559,
         false
        ],
        [
         "2022-03-31T07:00:00Z",
         3,
         12.4,
         26,
         1.8,
         1.5,
         4.3,
         2.8791666666666664,
         0.9623247064165559,
         false
        ],
        [
         "2022-03-31T08:00:00Z",
         3,
         9.7,
         236,
         3.8,
         1.5,
         4.3,
         2.8791666666666664,
         0.9623247064165559,
         false
        ],
        [
         "2022-03-31T09:00:00Z",
         3,
         14.4,
         20,
         1.5,
         1.5,
         4.3,
         2.8791666666666664,
         0.9623247064165559,
         false
        ],
        [
         "2022-03-31T10:00:00Z",
         3,
         9,
         312,
         4,
         1.5,
         4.3,
         2.8791666666666664,
         0.9623247064165559,
         false
        ],
        [
         "2022-03-31T11:00:00Z",
         3,
         9.4,
         258,
         1.8,
         1.5,
         4.3,
         2.8791666666666664,
         0.9623247064165559,
         false
        ],
        [
         "2022-03-31T12:00:00Z",
         3,
         10.7,
         111,
         2.4,
         1.5,
         4.3,
         2.8791666666666664,
         0.9623247064165559,
         false
        ],
        [
         "2022-03-31T13:00:00Z",
         3,
         9.7,
         276,
         4.1,
         1.5,
         4.3,
         2.8791666666666664,
         0.9623247064165559,
         false
        ],
        [
         "2022-03-31T14:00:00Z",
         3,
         10.5,
         156,
         3.7,
         1.5,
         4.3,
         2.8791666666666664,
         0.9623247064165559,
         false
        ],
        [
         "2022-03-31T15:00:00Z",
         3,
         10,
         17,
         1.6,
         1.5,
         4.3,
         2.8791666666666664,
         0.9623247064165559,
         false
        ],
        [
         "2022-03-31T16:00:00Z",
         3,
         12.6,
         108,
         3,
         1.5,
         4.3,
         2.8791666666666664,
         0.9623247064165559,
         false
        ],
        [
         "2022-03-31T17:00:00Z",
         3,
         14.9,
         84,
         4.3,
         1.5,
         4.3,
         2.8791666666666664,
         0.9623247064165559,
         false
        ],
        [
         "2022-03-31T18:00:00Z",
         3,
         14.2,
         125,
         2.3,
         1.5,
         4.3,
         2.8791666666666664,
         0.9623247064165559,
         false
        ],
        [
         "2022-03-31T19:00:00Z",
         3,
         13.4,
         211,
         1.6,
         1.5,
         4.3,
         2.8791666666666664,
         0.9623247064165559,
         false
        ],
        [
         "2022-03-31T20:00:00Z",
         3,
         13,
         281,
         1.6,
         1.5,
         4.3,
         2.8791666666666664,
         0.9623247064165559,
         false
        ],
        [
         "2022-03-31T21:00:00Z",
         3,
         9.1,
         149,
         4,
         1.5,
         4.3,
         2.8791666666666664,
         0.9623247064165559,
         false
        ],
        [
         "2022-03-31T22:00:00Z",
         3,
         12.7,
         97,
         3,
         1.5,
         4.3,
         2.8791666666666664,
         0.9623247064165559,
         false
        ],
        [
         "2022-03-31T23:00:00Z",
         3,
         10.1,
         112,
         2,
         1.5,
         4.3,
         2.8791666666666664,
         0.9623247064165559,
         false
        ],
        [
         "2022-03-31T00:00:00Z",
         4,
         9.6,
         39,
         3.2,
         1.7,
         4.4,
         3.033333333333333,
         0.8937788203521859,
         false
        ],
        [
         "2022-03-31T01:00:00Z",
         4,
         10.4,
         42,
         1.8,
         1.7,
         4.4,
         3.033333333333333,
         0.8937788203521859,
         false
        ],
        [
         "2022-03-31T02:00:00Z",
         4,
         13.9,
         262,
         2.2,
         1.7,
         4.4,
         3.033333333333333,
         0.8937788203521859,
         false
        ],
        [
         "2022-03-31T03:00:00Z",
         4,
         11.3,
         237,
         2,
         1.7,
         4.4,
         3.033333333333333,
         0.8937788203521859,
         false
        ],
        [
         "2022-03-31T04:00:00Z",
         4,
         11.5,
         144,
         4.1,
         1.7,
         4.4,
         3.033333333333333,
         0.8937788203521859,
         false
        ],
        [
         "2022-03-31T05:00:00Z",
         4,
         14.8,
         154,
         2.1,
         1.7,
         4.4,
         3.033333333333333,
         0.8937788203521859,
         false
        ],
        [
         "2022-03-31T06:00:00Z",
         4,
         9.8,
         130,
         2.7,
         1.7,
         4.4,
         3.033333333333333,
         0.8937788203521859,
         false
        ],
        [
         "2022-03-31T07:00:00Z",
         4,
         13.5,
         46,
         1.7,
         1.7,
         4.4,
         3.033333333333333,
         0.8937788203521859,
         false
        ],
        [
         "2022-03-31T08:00:00Z",
         4,
         12.9,
         190,
         4.2,
         1.7,
         4.4,
         3.033333333333333,
         0.8937788203521859,
         false
        ],
        [
         "2022-03-31T09:00:00Z",
         4,
         9.3,
         230,
         3.9,
         1.7,
         4.4,
         3.033333333333333,
         0.8937788203521859,
         false
        ],
        [
         "2022-03-31T10:00:00Z",
         4,
         11.7,
         127,
         4.4,
         1.7,
         4.4,
         3.033333333333333,
         0.8937788203521859,
         false
        ],
        [
         "2022-03-31T11:00:00Z",
         4,
         13.1,
         92,
         3.8,
         1.7,
         4.4,
         3.033333333333333,
         0.8937788203521859,
         false
        ],
        [
         "2022-03-31T12:00:00Z",
         4,
         9.4,
         348,
         2.9,
         1.7,
         4.4,
         3.033333333333333,
         0.8937788203521859,
         false
        ],
        [
         "2022-03-31T13:00:00Z",
         4,
         9.1,
         280,
         1.9,
         1.7,
         4.4,
         3.033333333333333,
         0.8937788203521859,
         false
        ],
        [
         "2022-03-31T14:00:00Z",
         4,
         10.4,
         207,
         2.5,
         1.7,
         4.4,
         3.033333333333333,
         0.8937788203521859,
         false
        ],
        [
         "2022-03-31T15:00:00Z",
         4,
         12.6,
         161,
         3.9,
         1.7,
         4.4,
         3.033333333333333,
         0.8937788203521859,
         false
        ],
        [
         "2022-03-31T16:00:00Z",
         4,
         11.4,
         148,
         4,
         1.7,
         4.4,
         3.033333333333333,
         0.8937788203521859,
         false
        ],
        [
         "2022-03-31T17:00:00Z",
         4,
         12.6,
         75,
         2.6,
         1.7,
         4.4,
         3.033333333333333,
         0.8937788203521859,
         false
        ],
        [
         "2022-03-31T18:00:00Z",
         4,
         10.9,
         237,
         4.4,
         1.7,
         4.4,
         3.033333333333333,
         0.8937788203521859,
         false
        ],
        [
         "2022-03-31T19:00:00Z",
         4,
         12,
         163,
         3.7,
         1.7,
         4.4,
         3.033333333333333,
         0.8937788203521859,
         false
        ],
        [
         "2022-03-31T20:00:00Z",
         4,
         11.9,
         231,
         3.2,
         1.7,
         4.4,
         3.033333333333333,
         0.8937788203521859,
         false
        ],
        [
         "2022-03-31T21:00:00Z",
         4,
         11.2,
         238,
         2.4,
         1.7,
         4.4,
         3.033333333333333,
         0.8937788203521859,
         false
        ],
        [
         "2022-03-31T22:00:00Z",
         4,
         12.8,
         290,
         2.5,
         1.7,
         4.4,
         3.033333333333333,
         0.8937788203521859,
         false
        ],
        [
         "2022-03-31T23:00:00Z",
         4,
         10.1,
         43,
         2.7,
         1.7,
         4.4,
         3.033333333333333,
         0.8937788203521859,
         false
        ],
        [
         "2022-03-31T00:00:00Z",
         5,
         10.4,
         218,
         2.6,
         1.5,
         4.2,
         2.9375000000000004,
         0.8641721346241557,
         false
        ],
        [
         "2022-03-31T01:00:00Z",
         5,
         12.5,
         88,
         1.7,
         1.5,
         4.2,
         2.9375000000000004,
         0.8641721346241557,
         false
        ],
        [
         "2022-03-31T02:00:00Z",
         5,
         11.7,
         278,
         2.1,
         1.5,
         4.2,
         2.9375000000000004,
         0.8641721346241557,
         false
        ],
        [
         "2022-03-31T03:00:00Z",
         5,
         11.5,
         140,
         3.8,
         1.5,
         4.2,
         2.9375000000000004,
         0.8641721346241557,
         false
        ],
        [
         "2022-03-31T04:00:00Z",
         5,
         14,
         238,
         3,
         1.5,
         4.2,
         2.9375000000000004,
         0.8641721346241557,
         false
        ],
        [
         "2022-03-31T05:00:00Z",
         5,
         10.8,
         51,
         3.8,
         1.5,
         4.2,
         2.9375000000000004,
         0.8641721346241557,
         false
        ],
        [
         "2022-03-31T06:00:00Z",
         5,
         10.3,
         20,
         2.3,
         1.5,
         4.2,
         2.9375000000000004,
         0.8641721346241557,
         false
        ],
        [
         "2022-03-31T07:00:00Z",
         5,
         14,
         306,
         2.5,
         1.5,
         4.2,
         2.9375000000000004,
         0.8641721346241557,
         false
        ],
        [
         "2022-03-31T08:00:00Z",
         5,
         14.4,
         321,
         3,
         1.5,
         4.2,
         2.9375000000000004,
         0.8641721346241557,
         false
        ],
        [
         "2022-03-31T09:00:00Z",
         5,
         10.9,
         262,
         3.7,
         1.5,
         4.2,
         2.9375000000000004,
         0.8641721346241557,
         false
        ],
        [
         "2022-03-31T10:00:00Z",
         5,
         9.4,
         65,
         1.8,
         1.5,
         4.2,
         2.9375000000000004,
         0.8641721346241557,
         false
        ],
        [
         "2022-03-31T11:00:00Z",
         5,
         12,
         356,
         4,
         1.5,
         4.2,
         2.9375000000000004,
         0.8641721346241557,
         false
        ],
        [
         "2022-03-31T12:00:00Z",
         5,
         12.1,
         317,
         4.2,
         1.5,
         4.2,
         2.9375000000000004,
         0.8641721346241557,
         false
        ],
        [
         "2022-03-31T13:00:00Z",
         5,
         12.3,
         231,
         4.1,
         1.5,
         4.2,
         2.9375000000000004,
         0.8641721346241557,
         false
        ],
        [
         "2022-03-31T14:00:00Z",
         5,
         10.9,
         341,
         2.5,
         1.5,
         4.2,
         2.9375000000000004,
         0.8641721346241557,
         false
        ],
        [
         "2022-03-31T15:00:00Z",
         5,
         12.9,
         278,
         4,
         1.5,
         4.2,
         2.9375000000000004,
         0.8641721346241557,
         false
        ],
        [
         "2022-03-31T16:00:00Z",
         5,
         14.8,
         193,
         2.3,
         1.5,
         4.2,
         2.9375000000000004,
         0.8641721346241557,
         false
        ],
        [
         "2022-03-31T17:00:00Z",
         5,
         13.5,
         162,
         2.3,
         1.5,
         4.2,
         2.9375000000000004,
         0.8641721346241557,
         false
        ],
        [
         "2022-03-31T18:00:00Z",
         5,
         9.9,
         197,
         3.9,
         1.5,
         4.2,
         2.9375000000000004,
         0.8641721346241557,
         false
        ],
        [
         "2022-03-31T19:00:00Z",
         5,
         14.4,
         203,
         3.7,
         1.5,
         4.2,
         2.9375000000000004,
         0.8641721346241557,
         false
        ],
        [
         "2022-03-31T20:00:00Z",
         5,
         12.1,
         134,
         1.5,
         1.5,
         4.2,
         2.9375000000000004,
         0.8641721346241557,
         false
        ],
        [
         "2022-03-31T21:00:00Z",
         5,
         9.9,
         262,
         2.9,
         1.5,
         4.2,
         2.9375000000000004,
         0.8641721346241557,
         false
        ],
        [
         "2022-03-31T22:00:00Z",
         5,
         11.9,
         272,
         2.9,
         1.5,
         4.2,
         2.9375000000000004,
         0.8641721346241557,
         false
        ],
        [
         "2022-03-31T23:00:00Z",
         5,
         13.5,
         55,
         1.9,
         1.5,
         4.2,
         2.9375000000000004,
         0.8641721346241557,
         false
        ],
        [
         "2022-03-31T00:00:00Z",
         6,
         14,
         321,
         1.9,
         1.6,
         4,
         2.733333333333333,
         0.7316845760575931,
         false
        ],
        [
         "2022-03-31T01:00:00Z",
         6,
         10.4,
         247,
         2.9,
         1.6,
         4,
         2.733333333333333,
         0.7316845760575931,
         false
        ],
        [
         "2022-03-31T02:00:00Z",
         6,
         13.7,
         10,
         4,
         1.6,
         4,
         2.733333333333333,
         0.7316845760575931,
         false
        ],
        [
         "2022-03-31T03:00:00Z",
         6,
         13.9,
         353,
         2.1,
         1.6,
         4,
         2.733333333333333,
         0.7316845760575931,
         false
        ],
        [
         "2022-03-31T04:00:00Z",
         6,
         11,
         79,
         4,
         1.6,
         4,
         2.733333333333333,
         0.7316845760575931,
         false
        ],
        [
         "2022-03-31T05:00:00Z",
         6,
         14.2,
         353,
         2.4,
         1.6,
         4,
         2.733333333333333,
         0.7316845760575931,
         false
        ],
        [
         "2022-03-31T06:00:00Z",
         6,
         14.8,
         122,
         1.9,
         1.6,
         4,
         2.733333333333333,
         0.7316845760575931,
         false
        ],
        [
         "2022-03-31T07:00:00Z",
         6,
         10.9,
         154,
         3.1,
         1.6,
         4,
         2.733333333333333,
         0.7316845760575931,
         false
        ],
        [
         "2022-03-31T08:00:00Z",
         6,
         11,
         245,
         2.7,
         1.6,
         4,
         2.733333333333333,
         0.7316845760575931,
         false
        ],
        [
         "2022-03-31T09:00:00Z",
         6,
         11.1,
         234,
         1.9,
         1.6,
         4,
         2.733333333333333,
         0.7316845760575931,
         false
        ],
        [
         "2022-03-31T10:00:00Z",
         6,
         12.6,
         169,
         3.9,
         1.6,
         4,
         2.733333333333333,
         0.7316845760575931,
         false
        ],
        [
         "2022-03-31T11:00:00Z",
         6,
         11.3,
         66,
         3.4,
         1.6,
         4,
         2.733333333333333,
         0.7316845760575931,
         false
        ],
        [
         "2022-03-31T12:00:00Z",
         6,
         10.6,
         169,
         3.1,
         1.6,
         4,
         2.733333333333333,
         0.7316845760575931,
         false
        ],
        [
         "2022-03-31T13:00:00Z",
         6,
         14.2,
         119,
         1.9,
         1.6,
         4,
         2.733333333333333,
         0.7316845760575931,
         false
        ],
        [
         "2022-03-31T14:00:00Z",
         6,
         13.6,
         253,
         2.3,
         1.6,
         4,
         2.733333333333333,
         0.7316845760575931,
         false
        ],
        [
         "2022-03-31T15:00:00Z",
         6,
         11.6,
         121,
         3.3,
         1.6,
         4,
         2.733333333333333,
         0.7316845760575931,
         false
        ],
        [
         "2022-03-31T16:00:00Z",
         6,
         12.6,
         159,
         2.1,
         1.6,
         4,
         2.733333333333333,
         0.7316845760575931,
         false
        ],
        [
         "2022-03-31T17:00:00Z",
         6,
         15,
         86,
         1.6,
         1.6,
         4,
         2.733333333333333,
         0.7316845760575931,
         false
        ],
        [
         "2022-03-31T18:00:00Z",
         6,
         13.9,
         274,
         2.6,
         1.6,
         4,
         2.733333333333333,
         0.7316845760575931,
         false
        ],
        [
         "2022-03-31T19:00:00Z",
         6,
         14.8,
         9,
         2.2,
         1.6,
         4,
         2.733333333333333,
         0.7316845760575931,
         false
        ],
        [
         "2022-03-31T20:00:00Z",
         6,
         11,
         50,
         2.7,
         1.6,
         4,
         2.733333333333333,
         0.7316845760575931,
         false
        ],
        [
         "2022-03-31T21:00:00Z",
         6,
         9.3,
         339,
         3.8,
         1.6,
         4,
         2.733333333333333,
         0.7316845760575931,
         false
        ],
        [
         "2022-03-31T22:00:00Z",
         6,
         10.2,
         332,
         2.8,
         1.6,
         4,
         2.733333333333333,
         0.7316845760575931,
         false
        ],
        [
         "2022-03-31T23:00:00Z",
         6,
         9.9,
         37,
         3,
         1.6,
         4,
         2.733333333333333,
         0.7316845760575931,
         false
        ],
        [
         "2022-03-31T00:00:00Z",
         7,
         12.7,
         157,
         3.3,
         1.6,
         4.3,
         2.766666666666667,
         0.792171844920064,
         false
        ],
        [
         "2022-03-31T01:00:00Z",
         7,
         14.9,
         308,
         4.3,
         1.6,
         4.3,
         2.766666666666667,
         0.792171844920064,
         false
        ],
        [
         "2022-03-31T02:00:00Z",
         7,
         9.9,
         285,
         1.8,
         1.6,
         4.3,
         2.766666666666667,
         0.792171844920064,
         false
        ],
        [
         "2022-03-31T03:00:00Z",
         7,
         12.2,
         293,
         2,
         1.6,
         4.3,
         2.766666666666667,
         0.792171844920064,
         false
        ],
        [
         "2022-03-31T04:00:00Z",
         7,
         12.3,
         205,
         3.2,
         1.6,
         4.3,
         2.766666666666667,
         0.792171844920064,
         false
        ],
        [
         "2022-03-31T05:00:00Z",
         7,
         10,
         137,
         3.9,
         1.6,
         4.3,
         2.766666666666667,
         0.792171844920064,
         false
        ],
        [
         "2022-03-31T06:00:00Z",
         7,
         11.2,
         178,
         2.5,
         1.6,
         4.3,
         2.766666666666667,
         0.792171844920064,
         false
        ],
        [
         "2022-03-31T07:00:00Z",
         7,
         9.1,
         142,
         1.6,
         1.6,
         4.3,
         2.766666666666667,
         0.792171844920064,
         false
        ],
        [
         "2022-03-31T08:00:00Z",
         7,
         13.3,
         95,
         3.8,
         1.6,
         4.3,
         2.766666666666667,
         0.792171844920064,
         false
        ],
        [
         "2022-03-31T09:00:00Z",
         7,
         12.6,
         103,
         1.8,
         1.6,
         4.3,
         2.766666666666667,
         0.792171844920064,
         false
        ],
        [
         "2022-03-31T10:00:00Z",
         7,
         9.4,
         133,
         2.5,
         1.6,
         4.3,
         2.766666666666667,
         0.792171844920064,
         false
        ],
        [
         "2022-03-31T11:00:00Z",
         7,
         14.8,
         72,
         2.2,
         1.6,
         4.3,
         2.766666666666667,
         0.792171844920064,
         false
        ],
        [
         "2022-03-31T12:00:00Z",
         7,
         13.4,
         267,
         3.1,
         1.6,
         4.3,
         2.766666666666667,
         0.792171844920064,
         false
        ],
        [
         "2022-03-31T13:00:00Z",
         7,
         14.6,
         212,
         3.6,
         1.6,
         4.3,
         2.766666666666667,
         0.792171844920064,
         false
        ],
        [
         "2022-03-31T14:00:00Z",
         7,
         9.3,
         161,
         3.2,
         1.6,
         4.3,
         2.766666666666667,
         0.792171844920064,
         false
        ],
        [
         "2022-03-31T15:00:00Z",
         7,
         13.1,
         70,
         2.4,
         1.6,
         4.3,
         2.766666666666667,
         0.792171844920064,
         false
        ],
        [
         "2022-03-31T16:00:00Z",
         7,
         10.8,
         339,
         1.7,
         1.6,
         4.3,
         2.766666666666667,
         0.792171844920064,
         false
        ],
        [
         "2022-03-31T17:00:00Z",
         7,
         10.6,
         304,
         3.3,
         1.6,
         4.3,
         2.766666666666667,
         0.792171844920064,
         false
        ],
        [
         "2022-03-31T18:00:00Z",
         7,
         9.6,
         188,
         1.9,
         1.6,
         4.3,
         2.766666666666667,
         0.792171844920064,
         false
        ],
        [
         "2022-03-31T19:00:00Z",
         7,
         12.1,
         357,
         2.6,
         1.6,
         4.3,
         2.766666666666667,
         0.792171844920064,
         false
        ],
        [
         "2022-03-31T20:00:00Z",
         7,
         14,
         240,
         3.2,
         1.6,
         4.3,
         2.766666666666667,
         0.792171844920064,
         false
        ],
        [
         "2022-03-31T21:00:00Z",
         7,
         12.3,
         318,
         2.2,
         1.6,
         4.3,
         2.766666666666667,
         0.792171844920064,
         false
        ],
        [
         "2022-03-31T22:00:00Z",
         7,
         10.5,
         285,
         3.8,
         1.6,
         4.3,
         2.766666666666667,
         0.792171844920064,
         false
        ],
        [
         "2022-03-31T23:00:00Z",
         7,
         11.1,
         225,
         2.5,
         1.6,
         4.3,
         2.766666666666667,
         0.792171844920064,
         false
        ],
        [
         "2022-03-31T00:00:00Z",
         8,
         9.9,
         269,
         4.1,
         1.7,
         4.4,
         3.3958333333333326,
         0.9630021746630676,
         false
        ],
        [
         "2022-03-31T01:00:00Z",
         8,
         14.7,
         10,
         3.4,
         1.7,
         4.4,
         3.3958333333333326,
         0.9630021746630676,
         false
        ],
        [
         "2022-03-31T02:00:00Z",
         8,
         10.7,
         164,
         3.8,
         1.7,
         4.4,
         3.3958333333333326,
         0.9630021746630676,
         false
        ],
        [
         "2022-03-31T03:00:00Z",
         8,
         10.4,
         139,
         1.7,
         1.7,
         4.4,
         3.3958333333333326,
         0.9630021746630676,
         false
        ],
        [
         "2022-03-31T04:00:00Z",
         8,
         10.2,
         283,
         4.4,
         1.7,
         4.4,
         3.3958333333333326,
         0.9630021746630676,
         false
        ],
        [
         "2022-03-31T05:00:00Z",
         8,
         12.2,
         256,
         2.4,
         1.7,
         4.4,
         3.3958333333333326,
         0.9630021746630676,
         false
        ],
        [
         "2022-03-31T06:00:00Z",
         8,
         10,
         196,
         2.9,
         1.7,
         4.4,
         3.3958333333333326,
         0.9630021746630676,
         false
        ],
        [
         "2022-03-31T07:00:00Z",
         8,
         11.9,
         57,
         3.5,
         1.7,
         4.4,
         3.3958333333333326,
         0.9630021746630676,
         false
        ],
        [
         "2022-03-31T08:00:00Z",
         8,
         11.2,
         95,
         1.7,
         1.7,
         4.4,
         3.3958333333333326,
         0.9630021746630676,
         false
        ],
        [
         "2022-03-31T09:00:00Z",
         8,
         12.8,
         209,
         4.2,
         1.7,
         4.4,
         3.3958333333333326,
         0.9630021746630676,
         false
        ],
        [
         "2022-03-31T10:00:00Z",
         8,
         13.8,
         318,
         4,
         1.7,
         4.4,
         3.3958333333333326,
         0.9630021746630676,
         false
        ],
        [
         "2022-03-31T11:00:00Z",
         8,
         11.9,
         1,
         4.4,
         1.7,
         4.4,
         3.3958333333333326,
         0.9630021746630676,
         false
        ],
        [
         "2022-03-31T12:00:00Z",
         8,
         11.2,
         189,
         4.4,
         1.7,
         4.4,
         3.3958333333333326,
         0.9630021746630676,
         false
        ],
        [
         "2022-03-31T13:00:00Z",
         8,
         12.7,
         110,
         2.4,
         1.7,
         4.4,
         3.3958333333333326,
         0.9630021746630676,
         false
        ],
        [
         "2022-03-31T14:00:00Z",
         8,
         9.6,
         288,
         4.4,
         1.7,
         4.4,
         3.3958333333333326,
         0.9630021746630676,
         false
        ],
        [
         "2022-03-31T15:00:00Z",
         8,
         10.6,
         271,
         4.2,
         1.7,
         4.4,
         3.3958333333333326,
         0.9630021746630676,
         false
        ],
        [
         "2022-03-31T16:00:00Z",
         8,
         10.3,
         124,
         3.3,
         1.7,
         4.4,
         3.3958333333333326,
         0.9630021746630676,
         false
        ],
        [
         "2022-03-31T17:00:00Z",
         8,
         11,
         312,
         3.8,
         1.7,
         4.4,
         3.3958333333333326,
         0.9630021746630676,
         false
        ],
        [
         "2022-03-31T18:00:00Z",
         8,
         10.8,
         108,
         3.6,
         1.7,
         4.4,
         3.3958333333333326,
         0.9630021746630676,
         false
        ],
        [
         "2022-03-31T19:00:00Z",
         8,
         13,
         307,
         3.1,
         1.7,
         4.4,
         3.3958333333333326,
         0.9630021746630676,
         false
        ],
        [
         "2022-03-31T20:00:00Z",
         8,
         9.4,
         21,
         1.8,
         1.7,
         4.4,
         3.3958333333333326,
         0.9630021746630676,
         false
        ],
        [
         "2022-03-31T21:00:00Z",
         8,
         11.2,
         161,
         1.7,
         1.7,
         4.4,
         3.3958333333333326,
         0.9630021746630676,
         false
        ],
        [
         "2022-03-31T22:00:00Z",
         8,
         11.5,
         212,
         4.4,
         1.7,
         4.4,
         3.3958333333333326,
         0.9630021746630676,
         false
        ],
        [
         "2022-03-31T23:00:00Z",
         8,
         14.3,
         21,
         3.9,
         1.7,
         4.4,
         3.3958333333333326,
         0.9630021746630676,
         false
        ],
        [
         "2022-03-31T00:00:00Z",
         9,
         13.5,
         299,
         1.6,
         1.6,
         4.3,
         3.275,
         0.7484767139359433,
         true
        ],
        [
         "2022-03-31T01:00:00Z",
         9,
         10.8,
         208,
         4.1,
         1.6,
         4.3,
         3.275,
         0.7484767139359433,
         false
        ],
        [
         "2022-03-31T02:00:00Z",
         9,
         10.4,
         349,
         3.6,
         1.6,
         4.3,
         3.275,
         0.7484767139359433,
         false
        ],
        [
         "2022-03-31T03:00:00Z",
         9,
         13.8,
         12,
         3.2,
         1.6,
         4.3,
         3.275,
         0.7484767139359433,
         false
        ],
        [
         "2022-03-31T04:00:00Z",
         9,
         11.8,
         235,
         4,
         1.6,
         4.3,
         3.275,
         0.7484767139359433,
         false
        ],
        [
         "2022-03-31T05:00:00Z",
         9,
         12.4,
         314,
         2.5,
         1.6,
         4.3,
         3.275,
         0.7484767139359433,
         false
        ],
        [
         "2022-03-31T06:00:00Z",
         9,
         14.6,
         300,
         4.3,
         1.6,
         4.3,
         3.275,
         0.7484767139359433,
         false
        ],
        [
         "2022-03-31T07:00:00Z",
         9,
         12.6,
         272,
         3.6,
         1.6,
         4.3,
         3.275,
         0.7484767139359433,
         false
        ],
        [
         "2022-03-31T08:00:00Z",
         9,
         13.8,
         96,
         2.3,
         1.6,
         4.3,
         3.275,
         0.7484767139359433,
         false
        ],
        [
         "2022-03-31T09:00:00Z",
         9,
         12.1,
         324,
         3.8,
         1.6,
         4.3,
         3.275,
         0.7484767139359433,
         false
        ],
        [
         "2022-03-31T10:00:00Z",
         9,
         13.8,
         4,
         3.6,
         1.6,
         4.3,
         3.275,
         0.7484767139359433,
         false
        ],
        [
         "2022-03-31T11:00:00Z",
         9,
         13.2,
         214,
         3.5,
         1.6,
         4.3,
         3.275,
         0.7484767139359433,
         false
        ],
        [
         "2022-03-31T12:00:00Z",
         9,
         13.4,
         351,
         2.5,
         1.6,
         4.3,
         3.275,
         0.7484767139359433,
         false
        ],
        [
         "2022-03-31T13:00:00Z",
         9,
         10.4,
         112,
         3.6,
         1.6,
         4.3,
         3.275,
         0.7484767139359433,
         false
        ],
        [
         "2022-03-31T14:00:00Z",
         9,
         11.3,
         136,
         3.6,
         1.6,
         4.3,
         3.275,
         0.7484767139359433,
         false
        ],
        [
         "2022-03-31T15:00:00Z",
         9,
         10.4,
         109,
         3.6,
         1.6,
         4.3,
         3.275,
         0.7484767139359433,
         false
        ],
        [
         "2022-03-31T16:00:00Z",
         9,
         11.2,
         21,
         2.3,
         1.6,
         4.3,
         3.275,
         0.7484767139359433,
         false
        ],
        [
         "2022-03-31T17:00:00Z",
         9,
         11.9,
         133,
         3.8,
         1.6,
         4.3,
         3.275,
         0.7484767139359433,
         false
        ],
        [
         "2022-03-31T18:00:00Z",
         9,
         12.3,
         234,
         2.3,
         1.6,
         4.3,
         3.275,
         0.7484767139359433,
         false
        ],
        [
         "2022-03-31T19:00:00Z",
         9,
         14.9,
         145,
         3.8,
         1.6,
         4.3,
         3.275,
         0.7484767139359433,
         false
        ],
        [
         "2022-03-31T20:00:00Z",
         9,
         9.8,
         221,
         4.3,
         1.6,
         4.3,
         3.275,
         0.7484767139359433,
         false
        ],
        [
         "2022-03-31T21:00:00Z",
         9,
         9.4,
         307,
         2.2,
         1.6,
         4.3,
         3.275,
         0.7484767139359433,
         false
        ],
        [
         "2022-03-31T22:00:00Z",
         9,
         13.3,
         25,
         3.4,
         1.6,
         4.3,
         3.275,
         0.7484767139359433,
         false
        ],
        [
         "2022-03-31T23:00:00Z",
         9,
         15,
         102,
         3.1,
         1.6,
         4.3,
         3.275,
         0.7484767139359433,
         false
        ],
        [
         "2022-03-31T00:00:00Z",
         10,
         12.2,
         118,
         2.6,
         1.6,
         4.3,
         2.704166666666666,
         0.7686686212376318,
         false
        ],
        [
         "2022-03-31T01:00:00Z",
         10,
         9.1,
         292,
         2.3,
         1.6,
         4.3,
         2.704166666666666,
         0.7686686212376318,
         false
        ],
        [
         "2022-03-31T02:00:00Z",
         10,
         9.3,
         103,
         1.8,
         1.6,
         4.3,
         2.704166666666666,
         0.7686686212376318,
         false
        ],
        [
         "2022-03-31T03:00:00Z",
         10,
         11.7,
         343,
         2.4,
         1.6,
         4.3,
         2.704166666666666,
         0.7686686212376318,
         false
        ],
        [
         "2022-03-31T04:00:00Z",
         10,
         10.1,
         181,
         2.7,
         1.6,
         4.3,
         2.704166666666666,
         0.7686686212376318,
         false
        ],
        [
         "2022-03-31T05:00:00Z",
         10,
         13.6,
         181,
         1.6,
         1.6,
         4.3,
         2.704166666666666,
         0.7686686212376318,
         false
        ],
        [
         "2022-03-31T06:00:00Z",
         10,
         14,
         296,
         2.5,
         1.6,
         4.3,
         2.704166666666666,
         0.7686686212376318,
         false
        ],
        [
         "2022-03-31T07:00:00Z",
         10,
         14.8,
         339,
         2.9,
         1.6,
         4.3,
         2.704166666666666,
         0.7686686212376318,
         false
        ],
        [
         "2022-03-31T08:00:00Z",
         10,
         11.9,
         340,
         1.6,
         1.6,
         4.3,
         2.704166666666666,
         0.7686686212376318,
         false
        ],
        [
         "2022-03-31T09:00:00Z",
         10,
         9.3,
         32,
         2.8,
         1.6,
         4.3,
         2.704166666666666,
         0.7686686212376318,
         false
        ],
        [
         "2022-03-31T10:00:00Z",
         10,
         14.6,
         322,
         1.7,
         1.6,
         4.3,
         2.704166666666666,
         0.7686686212376318,
         false
        ],
        [
         "2022-03-31T11:00:00Z",
         10,
         10.2,
         199,
         2.9,
         1.6,
         4.3,
         2.704166666666666,
         0.7686686212376318,
         false
        ],
        [
         "2022-03-31T12:00:00Z",
         10,
         9.4,
         218,
         3.4,
         1.6,
         4.3,
         2.704166666666666,
         0.7686686212376318,
         false
        ],
        [
         "2022-03-31T13:00:00Z",
         10,
         11.1,
         13,
         3.6,
         1.6,
         4.3,
         2.704166666666666,
         0.7686686212376318,
         false
        ],
        [
         "2022-03-31T14:00:00Z",
         10,
         13.8,
         263,
         3.9,
         1.6,
         4.3,
         2.704166666666666,
         0.7686686212376318,
         false
        ],
        [
         "2022-03-31T15:00:00Z",
         10,
         10.6,
         328,
         2.1,
         1.6,
         4.3,
         2.704166666666666,
         0.7686686212376318,
         false
        ],
        [
         "2022-03-31T16:00:00Z",
         10,
         11.1,
         49,
         2.1,
         1.6,
         4.3,
         2.704166666666666,
         0.7686686212376318,
         false
        ],
        [
         "2022-03-31T17:00:00Z",
         10,
         9.8,
         240,
         4.1,
         1.6,
         4.3,
         2.704166666666666,
         0.7686686212376318,
         false
        ],
        [
         "2022-03-31T18:00:00Z",
         10,
         11.6,
         83,
         2.7,
         1.6,
         4.3,
         2.704166666666666,
         0.7686686212376318,
         false
        ],
        [
         "2022-03-31T19:00:00Z",
         10,
         11.4,
         23,
         2,
         1.6,
         4.3,
         2.704166666666666,
         0.7686686212376318,
         false
        ],
        [
         "2022-03-31T20:00:00Z",
         10,
         12.3,
         26,
         3.4,
         1.6,
         4.3,
         2.704166666666666,
         0.7686686212376318,
         false
        ],
        [
         "2022-03-31T21:00:00Z",
         10,
         10,
         115,
         2.8,
         1.6,
         4.3,
         2.704166666666666,
         0.7686686212376318,
         false
        ],
        [
         "2022-03-31T22:00:00Z",
         10,
         14,
         82,
         4.3,
         1.6,
         4.3,
         2.704166666666666,
         0.7686686212376318,
         true
        ],
        [
         "2022-03-31T23:00:00Z",
         10,
         10.1,
         19,
         2.7,
         1.6,
         4.3,
         2.704166666666666,
         0.7686686212376318,
         false
        ],
        [
         "2022-03-31T00:00:00Z",
         11,
         12.5,
         71,
         2.4,
         1.5,
         4.3,
         2.8874999999999997,
         0.9483681636964851,
         false
        ],
        [
         "2022-03-31T01:00:00Z",
         11,
         9.3,
         38,
         4.2,
         1.5,
         4.3,
         2.8874999999999997,
         0.9483681636964851,
         false
        ],
        [
         "2022-03-31T02:00:00Z",
         11,
         13.7,
         272,
         2.2,
         1.5,
         4.3,
         2.8874999999999997,
         0.9483681636964851,
         false
        ],
        [
         "2022-03-31T03:00:00Z",
         11,
         11,
         181,
         2.1,
         1.5,
         4.3,
         2.8874999999999997,
         0.9483681636964851,
         false
        ],
        [
         "2022-03-31T04:00:00Z",
         11,
         10.8,
         31,
         1.7,
         1.5,
         4.3,
         2.8874999999999997,
         0.9483681636964851,
         false
        ],
        [
         "2022-03-31T05:00:00Z",
         11,
         11.9,
         302,
         2.8,
         1.5,
         4.3,
         2.8874999999999997,
         0.9483681636964851,
         false
        ],
        [
         "2022-03-31T06:00:00Z",
         11,
         10.4,
         38,
         2.6,
         1.5,
         4.3,
         2.8874999999999997,
         0.9483681636964851,
         false
        ],
        [
         "2022-03-31T07:00:00Z",
         11,
         13.3,
         285,
         4.1,
         1.5,
         4.3,
         2.8874999999999997,
         0.9483681636964851,
         false
        ],
        [
         "2022-03-31T08:00:00Z",
         11,
         12.1,
         278,
         1.6,
         1.5,
         4.3,
         2.8874999999999997,
         0.9483681636964851,
         false
        ],
        [
         "2022-03-31T09:00:00Z",
         11,
         9.8,
         176,
         3.8,
         1.5,
         4.3,
         2.8874999999999997,
         0.9483681636964851,
         false
        ],
        [
         "2022-03-31T10:00:00Z",
         11,
         11.1,
         315,
         2.3,
         1.5,
         4.3,
         2.8874999999999997,
         0.9483681636964851,
         false
        ],
        [
         "2022-03-31T11:00:00Z",
         11,
         9.7,
         269,
         1.5,
         1.5,
         4.3,
         2.8874999999999997,
         0.9483681636964851,
         false
        ],
        [
         "2022-03-31T12:00:00Z",
         11,
         13,
         257,
         2.1,
         1.5,
         4.3,
         2.8874999999999997,
         0.9483681636964851,
         false
        ],
        [
         "2022-03-31T13:00:00Z",
         11,
         10.1,
         29,
         3.8,
         1.5,
         4.3,
         2.8874999999999997,
         0.9483681636964851,
         false
        ],
        [
         "2022-03-31T14:00:00Z",
         11,
         14.2,
         357,
         3.1,
         1.5,
         4.3,
         2.8874999999999997,
         0.9483681636964851,
         false
        ],
        [
         "2022-03-31T15:00:00Z",
         11,
         14.3,
         306,
         1.9,
         1.5,
         4.3,
         2.8874999999999997,
         0.9483681636964851,
         false
        ],
        [
         "2022-03-31T16:00:00Z",
         11,
         12.3,
         58,
         3.8,
         1.5,
         4.3,
         2.8874999999999997,
         0.9483681636964851,
         false
        ],
        [
         "2022-03-31T17:00:00Z",
         11,
         9.8,
         149,
         4,
         1.5,
         4.3,
         2.8874999999999997,
         0.9483681636964851,
         false
        ],
        [
         "2022-03-31T18:00:00Z",
         11,
         13.7,
         80,
         3.6,
         1.5,
         4.3,
         2.8874999999999997,
         0.9483681636964851,
         false
        ],
        [
         "2022-03-31T19:00:00Z",
         11,
         14.6,
         202,
         3.8,
         1.5,
         4.3,
         2.8874999999999997,
         0.9483681636964851,
         false
        ],
        [
         "2022-03-31T20:00:00Z",
         11,
         13,
         103,
         2.4,
         1.5,
         4.3,
         2.8874999999999997,
         0.9483681636964851,
         false
        ],
        [
         "2022-03-31T21:00:00Z",
         11,
         12.6,
         341,
         4.3,
         1.5,
         4.3,
         2.8874999999999997,
         0.9483681636964851,
         false
        ],
        [
         "2022-03-31T22:00:00Z",
         11,
         13.5,
         194,
         1.7,
         1.5,
         4.3,
         2.8874999999999997,
         0.9483681636964851,
         false
        ],
        [
         "2022-03-31T23:00:00Z",
         11,
         13.3,
         232,
         3.5,
         1.5,
         4.3,
         2.8874999999999997,
         0.9483681636964851,
         false
        ],
        [
         "2022-03-31T00:00:00Z",
         12,
         13.2,
         265,
         3.4,
         1.6,
         4.4,
         2.983333333333334,
         0.95810803905027,
         false
        ],
        [
         "2022-03-31T01:00:00Z",
         12,
         14.8,
         74,
         2.5,
         1.6,
         4.4,
         2.983333333333334,
         0.95810803905027,
         false
        ],
        [
         "2022-03-31T02:00:00Z",
         12,
         10.3,
         31,
         4,
         1.6,
         4.4,
         2.983333333333334,
         0.95810803905027,
         false
        ],
        [
         "2022-03-31T03:00:00Z",
         12,
         10.4,
         13,
         1.7,
         1.6,
         4.4,
         2.983333333333334,
         0.95810803905027,
         false
        ],
        [
         "2022-03-31T04:00:00Z",
         12,
         10.1,
         170,
         2.3,
         1.6,
         4.4,
         2.983333333333334,
         0.95810803905027,
         false
        ],
        [
         "2022-03-31T05:00:00Z",
         12,
         13.7,
         42,
         1.6,
         1.6,
         4.4,
         2.983333333333334,
         0.95810803905027,
         false
        ],
        [
         "2022-03-31T06:00:00Z",
         12,
         14.9,
         208,
         1.9,
         1.6,
         4.4,
         2.983333333333334,
         0.95810803905027,
         false
        ],
        [
         "2022-03-31T07:00:00Z",
         12,
         9.4,
         227,
         4.4,
         1.6,
         4.4,
         2.983333333333334,
         0.95810803905027,
         false
        ],
        [
         "2022-03-31T08:00:00Z",
         12,
         12.5,
         75,
         2.2,
         1.6,
         4.4,
         2.983333333333334,
         0.95810803905027,
         false
        ],
        [
         "2022-03-31T09:00:00Z",
         12,
         12.7,
         165,
         3.5,
         1.6,
         4.4,
         2.983333333333334,
         0.95810803905027,
         false
        ],
        [
         "2022-03-31T10:00:00Z",
         12,
         12.7,
         74,
         4.3,
         1.6,
         4.4,
         2.983333333333334,
         0.95810803905027,
         false
        ],
        [
         "2022-03-31T11:00:00Z",
         12,
         10.2,
         348,
         1.7,
         1.6,
         4.4,
         2.983333333333334,
         0.95810803905027,
         false
        ],
        [
         "2022-03-31T12:00:00Z",
         12,
         14.3,
         301,
         4.4,
         1.6,
         4.4,
         2.983333333333334,
         0.95810803905027,
         false
        ],
        [
         "2022-03-31T13:00:00Z",
         12,
         14.7,
         18,
         3.7,
         1.6,
         4.4,
         2.983333333333334,
         0.95810803905027,
         false
        ],
        [
         "2022-03-31T14:00:00Z",
         12,
         14.8,
         297,
         4.3,
         1.6,
         4.4,
         2.983333333333334,
         0.95810803905027,
         false
        ],
        [
         "2022-03-31T15:00:00Z",
         12,
         9.4,
         203,
         2.7,
         1.6,
         4.4,
         2.983333333333334,
         0.95810803905027,
         false
        ],
        [
         "2022-03-31T16:00:00Z",
         12,
         14.1,
         25,
         4.4,
         1.6,
         4.4,
         2.983333333333334,
         0.95810803905027,
         false
        ],
        [
         "2022-03-31T17:00:00Z",
         12,
         12.6,
         204,
         2.4,
         1.6,
         4.4,
         2.983333333333334,
         0.95810803905027,
         false
        ],
        [
         "2022-03-31T18:00:00Z",
         12,
         11.7,
         291,
         2.3,
         1.6,
         4.4,
         2.983333333333334,
         0.95810803905027,
         false
        ],
        [
         "2022-03-31T19:00:00Z",
         12,
         12.5,
         320,
         2,
         1.6,
         4.4,
         2.983333333333334,
         0.95810803905027,
         false
        ],
        [
         "2022-03-31T20:00:00Z",
         12,
         13.6,
         44,
         3,
         1.6,
         4.4,
         2.983333333333334,
         0.95810803905027,
         false
        ],
        [
         "2022-03-31T21:00:00Z",
         12,
         11.4,
         140,
         2.8,
         1.6,
         4.4,
         2.983333333333334,
         0.95810803905027,
         false
        ],
        [
         "2022-03-31T22:00:00Z",
         12,
         14.5,
         169,
         2.9,
         1.6,
         4.4,
         2.983333333333334,
         0.95810803905027,
         false
        ],
        [
         "2022-03-31T23:00:00Z",
         12,
         9.5,
         189,
         3.2,
         1.6,
         4.4,
         2.983333333333334,
         0.95810803905027,
         false
        ],
        [
         "2022-03-31T00:00:00Z",
         13,
         11,
         168,
         2.3,
         1.6,
         4.5,
         3.304166666666667,
         0.9901599197436071,
         false
        ],
        [
         "2022-03-31T01:00:00Z",
         13,
         12.6,
         68,
         2.8,
         1.6,
         4.5,
         3.304166666666667,
         0.9901599197436071,
         false
        ],
        [
         "2022-03-31T02:00:00Z",
         13,
         10.3,
         150,
         3.2,
         1.6,
         4.5,
         3.304166666666667,
         0.9901599197436071,
         false
        ],
        [
         "2022-03-31T03:00:00Z",
         13,
         13.8,
         66,
         3.9,
         1.6,
         4.5,
         3.304166666666667,
         0.9901599197436071,
         false
        ],
        [
         "2022-03-31T04:00:00Z",
         13,
         12.3,
         259,
         2.1,
         1.6,
         4.5,
         3.304166666666667,
         0.9901599197436071,
         false
        ],
        [
         "2022-03-31T05:00:00Z",
         13,
         12.7,
         8,
         4.1,
         1.6,
         4.5,
         3.304166666666667,
         0.9901599197436071,
         false
        ],
        [
         "2022-03-31T06:00:00Z",
         13,
         12.1,
         123,
         2.7,
         1.6,
         4.5,
         3.304166666666667,
         0.9901599197436071,
         false
        ],
        [
         "2022-03-31T07:00:00Z",
         13,
         9.7,
         347,
         1.7,
         1.6,
         4.5,
         3.304166666666667,
         0.9901599197436071,
         false
        ],
        [
         "2022-03-31T08:00:00Z",
         13,
         10.1,
         325,
         4.2,
         1.6,
         4.5,
         3.304166666666667,
         0.9901599197436071,
         false
        ],
        [
         "2022-03-31T09:00:00Z",
         13,
         14.6,
         30,
         3.5,
         1.6,
         4.5,
         3.304166666666667,
         0.9901599197436071,
         false
        ],
        [
         "2022-03-31T10:00:00Z",
         13,
         13.9,
         96,
         4.3,
         1.6,
         4.5,
         3.304166666666667,
         0.9901599197436071,
         false
        ],
        [
         "2022-03-31T11:00:00Z",
         13,
         11.5,
         83,
         4.2,
         1.6,
         4.5,
         3.304166666666667,
         0.9901599197436071,
         false
        ],
        [
         "2022-03-31T12:00:00Z",
         13,
         10.9,
         25,
         4.2,
         1.6,
         4.5,
         3.304166666666667,
         0.9901599197436071,
         false
        ],
        [
         "2022-03-31T13:00:00Z",
         13,
         13.4,
         35,
         4.2,
         1.6,
         4.5,
         3.304166666666667,
         0.9901599197436071,
         false
        ],
        [
         "2022-03-31T14:00:00Z",
         13,
         9.8,
         254,
         3.3,
         1.6,
         4.5,
         3.304166666666667,
         0.9901599197436071,
         false
        ],
        [
         "2022-03-31T15:00:00Z",
         13,
         15,
         78,
         4.2,
         1.6,
         4.5,
         3.304166666666667,
         0.9901599197436071,
         false
        ],
        [
         "2022-03-31T16:00:00Z",
         13,
         9.1,
         64,
         1.6,
         1.6,
         4.5,
         3.304166666666667,
         0.9901599197436071,
         false
        ],
        [
         "2022-03-31T17:00:00Z",
         13,
         12.2,
         220,
         4.1,
         1.6,
         4.5,
         3.304166666666667,
         0.9901599197436071,
         false
        ],
        [
         "2022-03-31T18:00:00Z",
         13,
         13.3,
         175,
         3.7,
         1.6,
         4.5,
         3.304166666666667,
         0.9901599197436071,
         false
        ],
        [
         "2022-03-31T19:00:00Z",
         13,
         13.4,
         140,
         1.6,
         1.6,
         4.5,
         3.304166666666667,
         0.9901599197436071,
         false
        ],
        [
         "2022-03-31T20:00:00Z",
         13,
         11,
         303,
         3.8,
         1.6,
         4.5,
         3.304166666666667,
         0.9901599197436071,
         false
        ],
        [
         "2022-03-31T21:00:00Z",
         13,
         9.9,
         195,
         1.7,
         1.6,
         4.5,
         3.304166666666667,
         0.9901599197436071,
         false
        ],
        [
         "2022-03-31T22:00:00Z",
         13,
         10.7,
         145,
         3.4,
         1.6,
         4.5,
         3.304166666666667,
         0.9901599197436071,
         false
        ],
        [
         "2022-03-31T23:00:00Z",
         13,
         12.8,
         302,
         4.5,
         1.6,
         4.5,
         3.304166666666667,
         0.9901599197436071,
         false
        ],
        [
         "2022-03-31T00:00:00Z",
         14,
         10.5,
         96,
         3.4,
         1.6,
         4.3,
         3.304166666666666,
         0.8492857186389383,
         false
        ],
        [
         "2022-03-31T01:00:00Z",
         14,
         12.6,
         171,
         3.4,
         1.6,
         4.3,
         3.304166666666666,
         0.8492857186389383,
         false
        ],
        [
         "2022-03-31T02:00:00Z",
         14,
         12.3,
         276,
         4,
         1.6,
         4.3,
         3.304166666666666,
         0.8492857186389383,
         false
        ],
        [
         "2022-03-31T03:00:00Z",
         14,
         10.6,
         153,
         3.9,
         1.6,
         4.3,
         3.304166666666666,
         0.8492857186389383,
         false
        ],
        [
         "2022-03-31T04:00:00Z",
         14,
         13.1,
         320,
         4.1,
         1.6,
         4.3,
         3.304166666666666,
         0.8492857186389383,
         false
        ],
        [
         "2022-03-31T05:00:00Z",
         14,
         14.3,
         80,
         3.8,
         1.6,
         4.3,
         3.304166666666666,
         0.8492857186389383,
         false
        ],
        [
         "2022-03-31T06:00:00Z",
         14,
         9.6,
         298,
         4,
         1.6,
         4.3,
         3.304166666666666,
         0.8492857186389383,
         false
        ],
        [
         "2022-03-31T07:00:00Z",
         14,
         10.8,
         79,
         4,
         1.6,
         4.3,
         3.304166666666666,
         0.8492857186389383,
         false
        ],
        [
         "2022-03-31T08:00:00Z",
         14,
         12.5,
         145,
         3.3,
         1.6,
         4.3,
         3.304166666666666,
         0.8492857186389383,
         false
        ],
        [
         "2022-03-31T09:00:00Z",
         14,
         9.7,
         188,
         2.3,
         1.6,
         4.3,
         3.304166666666666,
         0.8492857186389383,
         false
        ],
        [
         "2022-03-31T10:00:00Z",
         14,
         11.9,
         211,
         3.3,
         1.6,
         4.3,
         3.304166666666666,
         0.8492857186389383,
         false
        ],
        [
         "2022-03-31T11:00:00Z",
         14,
         9.3,
         172,
         2.5,
         1.6,
         4.3,
         3.304166666666666,
         0.8492857186389383,
         false
        ],
        [
         "2022-03-31T12:00:00Z",
         14,
         9.2,
         156,
         2.1,
         1.6,
         4.3,
         3.304166666666666,
         0.8492857186389383,
         false
        ],
        [
         "2022-03-31T13:00:00Z",
         14,
         13.2,
         311,
         4.3,
         1.6,
         4.3,
         3.304166666666666,
         0.8492857186389383,
         false
        ],
        [
         "2022-03-31T14:00:00Z",
         14,
         10,
         324,
         4.1,
         1.6,
         4.3,
         3.304166666666666,
         0.8492857186389383,
         false
        ],
        [
         "2022-03-31T15:00:00Z",
         14,
         12.2,
         10,
         4.1,
         1.6,
         4.3,
         3.304166666666666,
         0.8492857186389383,
         false
        ],
        [
         "2022-03-31T16:00:00Z",
         14,
         12.6,
         262,
         1.9,
         1.6,
         4.3,
         3.304166666666666,
         0.8492857186389383,
         false
        ],
        [
         "2022-03-31T17:00:00Z",
         14,
         11.3,
         276,
         3.6,
         1.6,
         4.3,
         3.304166666666666,
         0.8492857186389383,
         false
        ],
        [
         "2022-03-31T18:00:00Z",
         14,
         14,
         22,
         3.9,
         1.6,
         4.3,
         3.304166666666666,
         0.8492857186389383,
         false
        ],
        [
         "2022-03-31T19:00:00Z",
         14,
         14.5,
         80,
         1.6,
         1.6,
         4.3,
         3.304166666666666,
         0.8492857186389383,
         true
        ],
        [
         "2022-03-31T20:00:00Z",
         14,
         10.3,
         335,
         1.6,
         1.6,
         4.3,
         3.304166666666666,
         0.8492857186389383,
         true
        ],
        [
         "2022-03-31T21:00:00Z",
         14,
         13.8,
         68,
         3.8,
         1.6,
         4.3,
         3.304166666666666,
         0.8492857186389383,
         false
        ],
        [
         "2022-03-31T22:00:00Z",
         14,
         11,
         280,
         3.1,
         1.6,
         4.3,
         3.304166666666666,
         0.8492857186389383,
         false
        ],
        [
         "2022-03-31T23:00:00Z",
         14,
         14.8,
         286,
         3.2,
         1.6,
         4.3,
         3.304166666666666,
         0.8492857186389383,
         false
        ],
        [
         "2022-03-31T00:00:00Z",
         15,
         13.7,
         180,
         4.2,
         1.7,
         4.4,
         2.9166666666666674,
         0.8207455076976036,
         false
        ],
        [
         "2022-03-31T01:00:00Z",
         15,
         12.2,
         325,
         2.8,
         1.7,
         4.4,
         2.9166666666666674,
         0.8207455076976036,
         false
        ],
        [
         "2022-03-31T02:00:00Z",
         15,
         14.8,
         274,
         4.1,
         1.7,
         4.4,
         2.9166666666666674,
         0.8207455076976036,
         false
        ],
        [
         "2022-03-31T03:00:00Z",
         15,
         9.5,
         53,
         2.7,
         1.7,
         4.4,
         2.9166666666666674,
         0.8207455076976036,
         false
        ],
        [
         "2022-03-31T04:00:00Z",
         15,
         11.9,
         1,
         1.9,
         1.7,
         4.4,
         2.9166666666666674,
         0.8207455076976036,
         false
        ],
        [
         "2022-03-31T05:00:00Z",
         15,
         10,
         62,
         2.5,
         1.7,
         4.4,
         2.9166666666666674,
         0.8207455076976036,
         false
        ],
        [
         "2022-03-31T06:00:00Z",
         15,
         14.8,
         37,
         2.4,
         1.7,
         4.4,
         2.9166666666666674,
         0.8207455076976036,
         false
        ],
        [
         "2022-03-31T07:00:00Z",
         15,
         10,
         80,
         4.4,
         1.7,
         4.4,
         2.9166666666666674,
         0.8207455076976036,
         false
        ],
        [
         "2022-03-31T08:00:00Z",
         15,
         11.6,
         287,
         3.6,
         1.7,
         4.4,
         2.9166666666666674,
         0.8207455076976036,
         false
        ],
        [
         "2022-03-31T09:00:00Z",
         15,
         12.3,
         334,
         2.3,
         1.7,
         4.4,
         2.9166666666666674,
         0.8207455076976036,
         false
        ],
        [
         "2022-03-31T10:00:00Z",
         15,
         11.2,
         27,
         2.5,
         1.7,
         4.4,
         2.9166666666666674,
         0.8207455076976036,
         false
        ],
        [
         "2022-03-31T11:00:00Z",
         15,
         14.5,
         160,
         2.3,
         1.7,
         4.4,
         2.9166666666666674,
         0.8207455076976036,
         false
        ],
        [
         "2022-03-31T12:00:00Z",
         15,
         13,
         191,
         2.4,
         1.7,
         4.4,
         2.9166666666666674,
         0.8207455076976036,
         false
        ],
        [
         "2022-03-31T13:00:00Z",
         15,
         9,
         254,
         2.7,
         1.7,
         4.4,
         2.9166666666666674,
         0.8207455076976036,
         false
        ],
        [
         "2022-03-31T14:00:00Z",
         15,
         10.3,
         322,
         3,
         1.7,
         4.4,
         2.9166666666666674,
         0.8207455076976036,
         false
        ],
        [
         "2022-03-31T15:00:00Z",
         15,
         13.1,
         24,
         3.1,
         1.7,
         4.4,
         2.9166666666666674,
         0.8207455076976036,
         false
        ],
        [
         "2022-03-31T16:00:00Z",
         15,
         11.9,
         225,
         3.1,
         1.7,
         4.4,
         2.9166666666666674,
         0.8207455076976036,
         false
        ],
        [
         "2022-03-31T17:00:00Z",
         15,
         12.7,
         94,
         4.2,
         1.7,
         4.4,
         2.9166666666666674,
         0.8207455076976036,
         false
        ],
        [
         "2022-03-31T18:00:00Z",
         15,
         11.5,
         307,
         3.1,
         1.7,
         4.4,
         2.9166666666666674,
         0.8207455076976036,
         false
        ],
        [
         "2022-03-31T19:00:00Z",
         15,
         11.1,
         241,
         2.1,
         1.7,
         4.4,
         2.9166666666666674,
         0.8207455076976036,
         false
        ],
        [
         "2022-03-31T20:00:00Z",
         15,
         12,
         220,
         1.7,
         1.7,
         4.4,
         2.9166666666666674,
         0.8207455076976036,
         false
        ],
        [
         "2022-03-31T21:00:00Z",
         15,
         13.5,
         137,
         2.2,
         1.7,
         4.4,
         2.9166666666666674,
         0.8207455076976036,
         false
        ],
        [
         "2022-03-31T22:00:00Z",
         15,
         14.5,
         350,
         4.4,
         1.7,
         4.4,
         2.9166666666666674,
         0.8207455076976036,
         false
        ],
        [
         "2022-03-31T23:00:00Z",
         15,
         12,
         56,
         2.3,
         1.7,
         4.4,
         2.9166666666666674,
         0.8207455076976036,
         false
        ]
       ],
       "datasetInfos": [],
       "dbfsResultPath": null,
       "isJsonSchema": true,
       "metadata": {},
       "overflow": false,
       "plotOptions": {
        "customPlotOptions": {},
        "displayType": "table",
        "pivotAggregation": null,
        "pivotColumns": null,
        "xColumns": null,
        "yColumns": null
       },
       "removedWidgets": [],
       "schema": [
        {
         "metadata": "{}",
         "name": "timestamp",
         "type": "\"timestamp\""
        },
        {
         "metadata": "{}",
         "name": "turbine_id",
         "type": "\"long\""
        },
        {
         "metadata": "{}",
         "name": "wind_speed",
         "type": "\"double\""
        },
        {
         "metadata": "{}",
         "name": "wind_direction",
         "type": "\"long\""
        },
        {
         "metadata": "{}",
         "name": "power_output",
         "type": "\"double\""
        },
        {
         "metadata": "{}",
         "name": "min_power",
         "type": "\"double\""
        },
        {
         "metadata": "{}",
         "name": "max_power",
         "type": "\"double\""
        },
        {
         "metadata": "{}",
         "name": "avg_power",
         "type": "\"double\""
        },
        {
         "metadata": "{}",
         "name": "std_dev",
         "type": "\"double\""
        },
        {
         "metadata": "{}",
         "name": "is_anomaly",
         "type": "\"boolean\""
        }
       ],
       "type": "table"
      }
     },
     "output_type": "display_data"
    }
   ],
   "source": [
    "compute_stats(wt_df_y).display()"
   ]
  },
  {
   "cell_type": "code",
   "execution_count": null,
   "metadata": {
    "application/vnd.databricks.v1+cell": {
     "cellMetadata": {},
     "inputWidgets": {},
     "nuid": "f89277bd-35b7-4e70-977c-e41d3b93b67b",
     "showTitle": false,
     "tableResultSettingsMap": {},
     "title": ""
    }
   },
   "outputs": [],
   "source": []
  }
 ],
 "metadata": {
  "application/vnd.databricks.v1+notebook": {
   "computePreferences": null,
   "dashboards": [],
   "environmentMetadata": {
    "base_environment": "",
    "environment_version": "2"
   },
   "language": "python",
   "notebookMetadata": {
    "mostRecentlyExecutedCommandWithImplicitDF": {
     "commandId": 8228567210564081,
     "dataframes": [
      "_sqldf"
     ]
    },
    "pythonIndentUnit": 4
   },
   "notebookName": "wt_data",
   "widgets": {}
  },
  "kernelspec": {
   "display_name": "Python 3 (ipykernel)",
   "language": "python",
   "name": "python3"
  },
  "language_info": {
   "codemirror_mode": {
    "name": "ipython",
    "version": 3
   },
   "file_extension": ".py",
   "mimetype": "text/x-python",
   "name": "python",
   "nbconvert_exporter": "python",
   "pygments_lexer": "ipython3",
   "version": "3.12.3"
  }
 },
 "nbformat": 4,
 "nbformat_minor": 4
}
